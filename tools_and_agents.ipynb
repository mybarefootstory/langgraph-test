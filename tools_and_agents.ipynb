{
 "cells": [
  {
   "cell_type": "code",
   "execution_count": 2,
   "id": "023535f5",
   "metadata": {},
   "outputs": [
    {
     "data": {
      "text/plain": [
       "True"
      ]
     },
     "execution_count": 2,
     "metadata": {},
     "output_type": "execute_result"
    }
   ],
   "source": [
    "import os\n",
    "from dotenv import load_dotenv\n",
    "load_dotenv()"
   ]
  },
  {
   "cell_type": "code",
   "execution_count": 3,
   "id": "a5c87d0d",
   "metadata": {},
   "outputs": [
    {
     "name": "stderr",
     "output_type": "stream",
     "text": [
      "e:\\LanggraphAgent\\venv\\lib\\site-packages\\tqdm\\auto.py:21: TqdmWarning: IProgress not found. Please update jupyter and ipywidgets. See https://ipywidgets.readthedocs.io/en/stable/user_install.html\n",
      "  from .autonotebook import tqdm as notebook_tqdm\n"
     ]
    }
   ],
   "source": [
    "from langchain_huggingface import HuggingFaceEmbeddings\n",
    "embeddings = HuggingFaceEmbeddings(model_name = \"all-MiniLM-L6-v2\")"
   ]
  },
  {
   "cell_type": "code",
   "execution_count": 4,
   "id": "61ebf2f8",
   "metadata": {},
   "outputs": [],
   "source": [
    "from langchain_groq import ChatGroq\n",
    "llm = ChatGroq(model=\"Gemma2-9b-It\", temperature=0.0, max_tokens=1000)"
   ]
  },
  {
   "cell_type": "markdown",
   "id": "14de6a7f",
   "metadata": {},
   "source": [
    "# Predefine Tools"
   ]
  },
  {
   "cell_type": "code",
   "execution_count": 5,
   "id": "2426ef81",
   "metadata": {},
   "outputs": [
    {
     "name": "stdout",
     "output_type": "stream",
     "text": [
      "Page: LangChain\n",
      "Summary: LangChain is a software framework that helps facilitate the integration of large language models (LLMs) into applications. As a language model integration framework, LangChain's use-cases largely overlap with those of language models in general, including document analysis and summarization, chatbots, and code analysis.\n",
      "\n",
      "Page: Model Context Protocol\n",
      "Summary: The Model Context Protocol (MCP) is an open standard developed by the artificial intelligence company Anthropic for enabling large language model (LLM) applications to interact with external tools, systems, and data sources. Designed to standardize context exchange between AI assistants and software environments, MCP provides a model-agnostic interface for reading files, executing functions, and handling contextual prompts. It was officially announced and open-sourced by Anthropic in November 2024, with subsequent adoption by major AI providers including OpenAI and Google DeepMind.\n",
      "\n",
      "Page: Retrieval-augmented generation\n",
      "Summary: Retrieval-augmented generation (RAG) is a technique that enables generative artificial intelligence (Gen AI) models to retrieve and incorporate new information. It modifies interactions with a large language model (LLM) so that the model responds to user queries with reference to a specified set of documents, using this information to supplement information from its pre-existing training data. This allows LLMs to use domain-specific and/or updated information. Use cases include providing chatbot access to internal company data or generating responses based on authoritative sources.\n",
      "RAG improves large language models (LLMs) by incorporating information retrieval before generating responses. Unlike traditional LLMs that rely on static training data, RAG pulls relevant text from databases, uploaded documents, or web sources. According to Ars Technica, \"RAG is a way of improving LLM performance, in essence by blending the LLM process with a web search or other document look-up process to help LLMs stick to the facts.\" This method helps reduce AI hallucinations, which have led to real-world issues like chatbots inventing policies or lawyers citing nonexistent legal cases.\n",
      "By dynamically retrieving information, RAG enables AI to provide more accurate responses without frequent retraining. According to IBM, \"RAG also reduces the need for users to continuously train the model on new data and update its parameters as circumstances evolve. In this way, RAG can lower the computational and financial costs of running LLM-powered chatbots in an enterprise setting.\"\n",
      "Beyond efficiency gains, RAG also allows LLMs to include source references in their responses, enabling users to verify information by reviewing cited documents or original sources. This can provide greater transparency, as users can cross-check retrieved content to ensure accuracy and relevance.\n",
      "The term \"retrieval-augmented generation\" (RAG) was first introduced in 2020 by Douwe Kiela, Patrick Lewis, Ethan Perez, Aleksandra Piktus, Fabio Petroni, Vladimir Karpukhin, Naman Goyal, Heinrich Küttler, Mike Lewis, Wen-tau Yih, Tim Rocktäschel, and Sebastian Riedel in their research paper Retrieval-Augmented Generation for Knowledge-Intensive NLP Tasks, at Meta.\n",
      "\n",
      "\n",
      "['https://www.youtube.com/watch?v=qZ9n4V9lZkE&pp=ygUGVW5SYWFo', 'https://www.youtube.com/watch?v=yUu9qHvC4ko&pp=ygUGVW5SYWFo']\n"
     ]
    }
   ],
   "source": [
    "from langchain_community.tools import WikipediaQueryRun, YouTubeSearchTool\n",
    "from langchain_community.utilities import WikipediaAPIWrapper\n",
    "api_wrapper = WikipediaAPIWrapper()\n",
    "tool = WikipediaQueryRun(api_wrapper=api_wrapper)\n",
    "print(tool.run({\"query\":\"langchain\"}))\n",
    "tool2 = YouTubeSearchTool(api_wrapper=api_wrapper)\n",
    "print(tool2.run(\"UnRaah\"))"
   ]
  },
  {
   "cell_type": "code",
   "execution_count": 6,
   "id": "a6d10885",
   "metadata": {},
   "outputs": [
    {
     "name": "stdout",
     "output_type": "stream",
     "text": [
      "The White House, official residence of the president of the United States. The president of the United States is the head of state and head of government of the United States, [1] indirectly elected to a four-year term via the Electoral College. [2] Under the U.S. Constitution, the officeholder leads the executive branch of the federal government and is the commander-in-chief of the United ... Obama's father, Barack Obama, Sr., was a teenage goatherd in rural Kenya, won a scholarship to study in the United States, and eventually became a senior economist in the Kenyan government.Obama's mother, S. Ann Dunham, grew up in Kansas, Texas, and Washington state before her family settled in Honolulu.In 1960 she and Barack Sr. met in a Russian language class at the University of Hawaii ... Barack Obama is opening up about Malia Obama's decision to drop their family name in her professional life — and how his daughters feel about remaining in the spotlight as they grow older Obama's Last Name refers to a misconception held by certain individuals that former United States president Barack Obama's first name is Obama and not Barack. Starting in mid-2019, memes speculating on what Obama's last name could be and imagining it being a well-guarded secret gained significant popularity in meme communities. Origin The Irish Sun, It's a fake Barack Obama's brother posts forged document he claims is ex-president's 'Kenyan birth certificate,' March 11, 2017 Salon, Orly Taitz is at it again , Sept. 4, 2009\n"
     ]
    }
   ],
   "source": [
    "from langchain_community.tools import DuckDuckGoSearchRun\n",
    "\n",
    "search = DuckDuckGoSearchRun(backend='news')\n",
    "\n",
    "print(search.invoke(\"Obama's first name?\"))"
   ]
  },
  {
   "cell_type": "code",
   "execution_count": 7,
   "id": "9c4b6c7b",
   "metadata": {},
   "outputs": [
    {
     "name": "stdout",
     "output_type": "stream",
     "text": [
      "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\n"
     ]
    }
   ],
   "source": [
    "load_dotenv()\n",
    "TAVILY_API_KEY = os.getenv(\"TAVILY_API_KEY\")\n",
    "print(TAVILY_API_KEY)"
   ]
  },
  {
   "cell_type": "code",
   "execution_count": 8,
   "id": "15c91673",
   "metadata": {},
   "outputs": [
    {
     "data": {
      "text/plain": [
       "[{'title': 'Umrah - YouTube',\n",
       "  'url': 'https://www.youtube.com/watch?v=X9UqJ5bcMBI',\n",
       "  'content': 'Umrah \\n Lux-Inspira - Topic \\n 1012 likes \\n 57625 views \\n 24 Mar 2022 \\n Provided to YouTube by DistroKid\\n\\nUmrah · Lux-Inspira\\n\\nRamadan Story\\n\\n℗ Lux-Inspira Music\\n\\nReleased on: 2022-03-25\\n\\nAuto-generated by YouTube. \\n 23 comments',\n",
       "  'score': 0.43237552},\n",
       " {'title': '1,100+ Best Music Youtube Channel Names [2025] - Starter Story',\n",
       "  'url': 'https://www.starterstory.com/music-youtube-channel-names',\n",
       "  'content': 'Learn more about starting a music youtube channel:\\n\\nWhere to start?\\n\\n-> Pros and cons of a music youtube channel\\n\\nNeed inspiration?\\n\\n-> Other music youtube channel success stories\\n-> Marketing ideas for a music youtube channel\\n\\nOther resources\\n\\n\\n\\nFunny Music Youtube Channel Names\\n\\nCool music youtube channel name ideas\\n\\nUnique music youtube channel name ideas\\n\\nCute music youtube channel name ideas\\n\\nClever music youtube channel name ideas\\n\\nBest music youtube channel name ideas [...] Download the report and join our email newsletter packed with business ideas and money-making opportunities, backed by real-life case studies.\\n\\nDownload the report and join our email newsletter packed with business ideas and money-making opportunities, backed by real-life case studies.\\n\\nDownload the report and join our email newsletter packed with business ideas and money-making opportunities, backed by real-life case studies. [...] Download the report and join our email newsletter packed with business ideas and money-making opportunities, backed by real-life case studies.\\n\\nDownload the report and join our email newsletter packed with business ideas and money-making opportunities, backed by real-life case studies.\\n\\nDownload the report and join our email newsletter packed with business ideas and money-making opportunities, backed by real-life case studies.',\n",
       "  'score': 0.07351662},\n",
       " {'title': 'YouTube for Artists - Where Music Grows',\n",
       "  'url': 'https://artists.youtube/',\n",
       "  'content': 'Promote your music. Find your fans. Learn how to turn your passion into a career on YouTube. Discover Rauw Alejandro Go to Charts & Insights',\n",
       "  'score': 0.05720304},\n",
       " {'title': \"Riyadh's All-Female Band Redefines Rock | News Today | TSC | AJ13\",\n",
       "  'url': 'https://www.youtube.com/watch?v=EiOflWLoI1I',\n",
       "  'content': \"Talks Shows Central brings the latest in news, lifestyle programs, comic and political Talk Shows, Such as, Black & White, Nadeem Malik Live, Red Line, Gup Shab Nay Had Kar Di and more to your screens. Subscribe and never stay behind on the newest developments from across the country\\n\\nTalk Shows Central YouTube Channel is managed by Dot Republic Media, All Copyrights Reserved.   \\n\\nSubscribe to our channel for all the latest updates: http://bit.ly/TalkShowsCentralYT [...] Riyadh's All-Female Band Redefines Rock | News Today | TSC | AJ13\\n\\n#SeeraBand #SaudiWomenInMusic #Vision2030 #SaudiRockBand #WomenEmpowerment #BreakingBarriers #RiyadhMusicScene #ArabicRock #WomenInRock #SeeraDebutAlbum #SaudiCultureReforms #MiddleEasternMusic #HeritageAndGrunge [...] in Saudi Arabia's cultural scene.\",\n",
       "  'score': 0.052760426},\n",
       " {'title': 'Introduction to Official Artist Channels - YouTube Help',\n",
       "  'url': 'https://support.google.com/youtube/answer/7336634?hl=en',\n",
       "  'content': 'Introduction to Official Artist Channels\\n\\nOfficial Artist Channel Features\\n\\nAll your fans come together on your Official Artist Channel\\n\\nWhen you get an Official Artist Channel, we merge subscribers from your topic channel, Vevo channel (if available), and your existing channel into your new channel. The subscribe button and subscriber count will no longer be displayed on your existing channel or topic channel. [...] Your Official Artist Channel will be suspended and become a standard channel if it gets a Community Guidelines strike or has content with limited features. Your channel will be restored automatically to an Official Artist Channel if and when your channel no longer has active Community Guidelines strikes or content with limited features, and it meets all other program criteria listed above.\\n\\nArtist on the Rise [...] YouTube is a place where individualism thrives, diversity flourishes and new genres / content formats can get discovered.\\n\\nWe’re highlighting creators and artists who are “On The Rise” in a new section of our Trending Tab.\\n\\nLearn more at our Artist on the Rise Help Center.\\n\\nWas this helpful?\\n\\nNeed more help?\\n\\nTry these next steps:\\n\\nCustomize & manage your channel',\n",
       "  'score': 0.04615852}]"
      ]
     },
     "execution_count": 8,
     "metadata": {},
     "output_type": "execute_result"
    }
   ],
   "source": [
    "from langchain_community.tools.tavily_search import TavilySearchResults\n",
    "tool = TavilySearchResults()\n",
    "tool.invoke({\"query\":\"UnRaah Music band youtube channel\"})"
   ]
  },
  {
   "cell_type": "markdown",
   "id": "b184c2b5",
   "metadata": {},
   "source": [
    "# Create a Custom Tool\n"
   ]
  },
  {
   "cell_type": "code",
   "execution_count": 9,
   "id": "843f7018",
   "metadata": {},
   "outputs": [],
   "source": [
    "from langchain.agents import tool\n",
    "@tool\n",
    "def get_word_length(word: str) -> int:\n",
    "    \"\"\"Returns the length of a word.\"\"\"\n",
    "    return len(word)"
   ]
  },
  {
   "cell_type": "code",
   "execution_count": 10,
   "id": "4d087795",
   "metadata": {},
   "outputs": [
    {
     "name": "stdout",
     "output_type": "stream",
     "text": [
      "get_word_length\n",
      "Returns the length of a word.\n",
      "{'word': {'title': 'Word', 'type': 'string'}}\n"
     ]
    }
   ],
   "source": [
    "print(get_word_length.name)\n",
    "print(get_word_length.description)\n",
    "print(get_word_length.args)"
   ]
  },
  {
   "cell_type": "code",
   "execution_count": 11,
   "id": "277ed775",
   "metadata": {},
   "outputs": [
    {
     "data": {
      "text/plain": [
       "5"
      ]
     },
     "execution_count": 11,
     "metadata": {},
     "output_type": "execute_result"
    }
   ],
   "source": [
    "get_word_length.invoke({\"word\":\"Hello\"})"
   ]
  },
  {
   "cell_type": "code",
   "execution_count": 12,
   "id": "8978f320",
   "metadata": {},
   "outputs": [],
   "source": [
    "@tool\n",
    "def multiply(a: int, b:int) -> int:\n",
    "    \"\"\"Multiply two numbers\"\"\"\n",
    "    return a*b"
   ]
  },
  {
   "cell_type": "code",
   "execution_count": 13,
   "id": "8e6e137b",
   "metadata": {},
   "outputs": [
    {
     "name": "stdout",
     "output_type": "stream",
     "text": [
      "multiply\n",
      "Multiply two numbers\n",
      "{'a': {'title': 'A', 'type': 'integer'}, 'b': {'title': 'B', 'type': 'integer'}}\n"
     ]
    }
   ],
   "source": [
    "print(multiply.name)\n",
    "print(multiply.description)\n",
    "print(multiply.args)"
   ]
  },
  {
   "cell_type": "code",
   "execution_count": 14,
   "id": "e2c0153f",
   "metadata": {},
   "outputs": [
    {
     "data": {
      "text/plain": [
       "400"
      ]
     },
     "execution_count": 14,
     "metadata": {},
     "output_type": "execute_result"
    }
   ],
   "source": [
    "multiply.invoke({\"a\":10,\"b\":40})"
   ]
  },
  {
   "cell_type": "markdown",
   "id": "89edce04",
   "metadata": {},
   "source": [
    "## Concept of Agents\n",
    "\n",
    "## This Agent class from the first version of LangChain (Legacy)"
   ]
  },
  {
   "cell_type": "code",
   "execution_count": 15,
   "id": "f93ebc8c",
   "metadata": {},
   "outputs": [],
   "source": [
    "from langchain.agents import AgentType\n",
    "from langchain.agents import load_tools\n",
    "from langchain.agents import initialize_agent"
   ]
  },
  {
   "cell_type": "code",
   "execution_count": 16,
   "id": "e8c2f99d",
   "metadata": {},
   "outputs": [],
   "source": [
    "llm = ChatGroq(model=\"Gemma2-9b-It\", temperature=0.0, max_tokens=1000)"
   ]
  },
  {
   "cell_type": "code",
   "execution_count": 17,
   "id": "45672fdd",
   "metadata": {},
   "outputs": [],
   "source": [
    "tool = load_tools([\"wikipedia\"],llm=llm)"
   ]
  },
  {
   "cell_type": "code",
   "execution_count": 18,
   "id": "b0aa8db3",
   "metadata": {},
   "outputs": [],
   "source": [
    "from langchain_community.tools.tavily_search import TavilySearchResults\n",
    "tool2 = TavilySearchResults()\n",
    "# tool.invoke({\"query\":\"UnRaah Music band youtube channel\"})"
   ]
  },
  {
   "cell_type": "code",
   "execution_count": 19,
   "id": "eb3066d5",
   "metadata": {},
   "outputs": [
    {
     "name": "stderr",
     "output_type": "stream",
     "text": [
      "C:\\Users\\Len\\AppData\\Local\\Temp\\ipykernel_10360\\2141289499.py:1: LangChainDeprecationWarning: LangChain agents will continue to be supported, but it is recommended for new use cases to be built with LangGraph. LangGraph offers a more flexible and full-featured framework for building agents, including support for tool-calling, persistence of state, and human-in-the-loop workflows. For details, refer to the `LangGraph documentation <https://langchain-ai.github.io/langgraph/>`_ as well as guides for `Migrating from AgentExecutor <https://python.langchain.com/docs/how_to/migrate_agent/>`_ and LangGraph's `Pre-built ReAct agent <https://langchain-ai.github.io/langgraph/how-tos/create-react-agent/>`_.\n",
      "  agent = initialize_agent(tool,llm=llm,agent = AgentType.ZERO_SHOT_REACT_DESCRIPTION,verbose=True)\n"
     ]
    }
   ],
   "source": [
    "agent = initialize_agent(tool,llm=llm,agent = AgentType.ZERO_SHOT_REACT_DESCRIPTION,verbose=True)"
   ]
  },
  {
   "cell_type": "code",
   "execution_count": 20,
   "id": "30214d62",
   "metadata": {},
   "outputs": [
    {
     "name": "stderr",
     "output_type": "stream",
     "text": [
      "C:\\Users\\Len\\AppData\\Local\\Temp\\ipykernel_10360\\3730032442.py:1: LangChainDeprecationWarning: The method `Chain.run` was deprecated in langchain 0.1.0 and will be removed in 1.0. Use :meth:`~invoke` instead.\n",
      "  agent.run(\"What is current GDP of India?\")\n"
     ]
    },
    {
     "name": "stdout",
     "output_type": "stream",
     "text": [
      "\n",
      "\n",
      "\u001b[1m> Entering new AgentExecutor chain...\u001b[0m\n",
      "\u001b[32;1m\u001b[1;3mThought: I need to look up the current GDP of India.\n",
      "Action: wikipedia\n",
      "Action Input: GDP of India\u001b[0m\n",
      "Observation: \u001b[36;1m\u001b[1;3mPage: Economy of India\n",
      "Summary: The economy of India is a developing mixed economy with a notable public sector in strategic sectors. It is the world's fifth-largest economy by nominal GDP and the third-largest by purchasing power parity (PPP); on a per capita income basis, India ranked 140th by GDP (nominal) and 119th by GDP (PPP). From independence in 1947 until 1991, successive governments followed the Soviet model and promoted protectionist economic policies, with extensive Sovietization, state intervention, demand-side economics, natural resources, bureaucrat-driven enterprises and economic regulation. This is characterised as dirigism, in the form of the Licence Raj. The end of the Cold War and an acute balance of payments crisis in 1991 led to the adoption of a broad economic liberalisation in India and indicative planning. India has about 1,900 public sector companies, with the Indian state having complete control and ownership of railways and highways. The Indian government has major control over banking, insurance, farming, fertilizers and chemicals, airports,  essential utilities. The state also exerts substantial control over digitalization,  telecommunication, supercomputing, space, port and shipping industries, which were effectively nationalised in the mid-1950s but has seen the emergence of key corporate players.\n",
      "Nearly 70% of India's GDP is driven by domestic consumption; the country remains the world's fourth-largest consumer market. Aside private consumption, India's GDP is also fueled by government spending, investments, and exports. In 2022, India was the world's 10th-largest importer and the 8th-largest exporter. India has been a member of the World Trade Organization since 1 January 1995. It ranks 63rd on the ease of doing business index and 40th on the Global Competitiveness Index. India has one of the world's highest number of billionaires along with extreme income inequality. Economists and social scientists often consider India a welfare state. India is officially declared a socialist state as per the constitution. India's overall social welfare spending stood at 8.6% of GDP in 2021-22, which is much lower than the average for OECD nations. With 586 million workers, the Indian labour force is the world's second-largest. Despite having one of the longest working hours, India has one of the lowest workforce productivity levels in the world. Economists say that due to structural economic problems, India is experiencing jobless economic growth.\n",
      "During the Great Recession, the economy faced a mild slowdown. India endorsed Keynesian policy and initiated stimulus measures (both fiscal and monetary) to boost growth and generate demand. In subsequent years, economic growth revived.\n",
      "In 2021–22, the foreign direct investment (FDI) in India was $82 billion. The leading sectors for FDI inflows were the Finance, Banking, Insurance and R&D. India has free trade agreements with several nations and blocs, including ASEAN, SAFTA, Mercosur, South Korea, Japan, Australia, the United Arab Emirates, and several others which are in effect or under negotiating stage. In recent years, independent economists and financial institutions have accused the government of manipulating various economic data, especially GDP growth rate.\n",
      "The service sector makes up more than 50% of GDP and remains the fastest growing sector, while the industrial sector and the agricultural sector employs a majority of the labor force. The Bombay Stock Exchange and National Stock Exchange are some of the world's largest stock exchanges by market capitalisation. India is the world's sixth-largest manufacturer, representing 2.6% of global manufacturing output. Nearly 65% of India's population is rural, and contributes about 50% of India's GDP. India faces high unemployment, rising income inequality, and a drop in aggregate demand. According to the World Bank, 93% of India's population lived on less than $10 per day, and 99% lived on less than $20 per day \u001b[0m\n",
      "Thought:\u001b[32;1m\u001b[1;3mThought: I need to find the specific GDP number mentioned on the page.\n",
      "Action: wikipedia\n",
      "Action Input: GDP of India\u001b[0m\n",
      "Observation: \u001b[36;1m\u001b[1;3mPage: Economy of India\n",
      "Summary: The economy of India is a developing mixed economy with a notable public sector in strategic sectors. It is the world's fifth-largest economy by nominal GDP and the third-largest by purchasing power parity (PPP); on a per capita income basis, India ranked 140th by GDP (nominal) and 119th by GDP (PPP). From independence in 1947 until 1991, successive governments followed the Soviet model and promoted protectionist economic policies, with extensive Sovietization, state intervention, demand-side economics, natural resources, bureaucrat-driven enterprises and economic regulation. This is characterised as dirigism, in the form of the Licence Raj. The end of the Cold War and an acute balance of payments crisis in 1991 led to the adoption of a broad economic liberalisation in India and indicative planning. India has about 1,900 public sector companies, with the Indian state having complete control and ownership of railways and highways. The Indian government has major control over banking, insurance, farming, fertilizers and chemicals, airports,  essential utilities. The state also exerts substantial control over digitalization,  telecommunication, supercomputing, space, port and shipping industries, which were effectively nationalised in the mid-1950s but has seen the emergence of key corporate players.\n",
      "Nearly 70% of India's GDP is driven by domestic consumption; the country remains the world's fourth-largest consumer market. Aside private consumption, India's GDP is also fueled by government spending, investments, and exports. In 2022, India was the world's 10th-largest importer and the 8th-largest exporter. India has been a member of the World Trade Organization since 1 January 1995. It ranks 63rd on the ease of doing business index and 40th on the Global Competitiveness Index. India has one of the world's highest number of billionaires along with extreme income inequality. Economists and social scientists often consider India a welfare state. India is officially declared a socialist state as per the constitution. India's overall social welfare spending stood at 8.6% of GDP in 2021-22, which is much lower than the average for OECD nations. With 586 million workers, the Indian labour force is the world's second-largest. Despite having one of the longest working hours, India has one of the lowest workforce productivity levels in the world. Economists say that due to structural economic problems, India is experiencing jobless economic growth.\n",
      "During the Great Recession, the economy faced a mild slowdown. India endorsed Keynesian policy and initiated stimulus measures (both fiscal and monetary) to boost growth and generate demand. In subsequent years, economic growth revived.\n",
      "In 2021–22, the foreign direct investment (FDI) in India was $82 billion. The leading sectors for FDI inflows were the Finance, Banking, Insurance and R&D. India has free trade agreements with several nations and blocs, including ASEAN, SAFTA, Mercosur, South Korea, Japan, Australia, the United Arab Emirates, and several others which are in effect or under negotiating stage. In recent years, independent economists and financial institutions have accused the government of manipulating various economic data, especially GDP growth rate.\n",
      "The service sector makes up more than 50% of GDP and remains the fastest growing sector, while the industrial sector and the agricultural sector employs a majority of the labor force. The Bombay Stock Exchange and National Stock Exchange are some of the world's largest stock exchanges by market capitalisation. India is the world's sixth-largest manufacturer, representing 2.6% of global manufacturing output. Nearly 65% of India's population is rural, and contributes about 50% of India's GDP. India faces high unemployment, rising income inequality, and a drop in aggregate demand. According to the World Bank, 93% of India's population lived on less than $10 per day, and 99% lived on less than $20 per day \u001b[0m\n",
      "Thought:\u001b[32;1m\u001b[1;3mThought: I need to find the specific GDP number mentioned on the page.\n",
      "Action: wikipedia\n",
      "Action Input: GDP of India\u001b[0m\n",
      "Observation: \u001b[36;1m\u001b[1;3mPage: Economy of India\n",
      "Summary: The economy of India is a developing mixed economy with a notable public sector in strategic sectors. It is the world's fifth-largest economy by nominal GDP and the third-largest by purchasing power parity (PPP); on a per capita income basis, India ranked 140th by GDP (nominal) and 119th by GDP (PPP). From independence in 1947 until 1991, successive governments followed the Soviet model and promoted protectionist economic policies, with extensive Sovietization, state intervention, demand-side economics, natural resources, bureaucrat-driven enterprises and economic regulation. This is characterised as dirigism, in the form of the Licence Raj. The end of the Cold War and an acute balance of payments crisis in 1991 led to the adoption of a broad economic liberalisation in India and indicative planning. India has about 1,900 public sector companies, with the Indian state having complete control and ownership of railways and highways. The Indian government has major control over banking, insurance, farming, fertilizers and chemicals, airports,  essential utilities. The state also exerts substantial control over digitalization,  telecommunication, supercomputing, space, port and shipping industries, which were effectively nationalised in the mid-1950s but has seen the emergence of key corporate players.\n",
      "Nearly 70% of India's GDP is driven by domestic consumption; the country remains the world's fourth-largest consumer market. Aside private consumption, India's GDP is also fueled by government spending, investments, and exports. In 2022, India was the world's 10th-largest importer and the 8th-largest exporter. India has been a member of the World Trade Organization since 1 January 1995. It ranks 63rd on the ease of doing business index and 40th on the Global Competitiveness Index. India has one of the world's highest number of billionaires along with extreme income inequality. Economists and social scientists often consider India a welfare state. India is officially declared a socialist state as per the constitution. India's overall social welfare spending stood at 8.6% of GDP in 2021-22, which is much lower than the average for OECD nations. With 586 million workers, the Indian labour force is the world's second-largest. Despite having one of the longest working hours, India has one of the lowest workforce productivity levels in the world. Economists say that due to structural economic problems, India is experiencing jobless economic growth.\n",
      "During the Great Recession, the economy faced a mild slowdown. India endorsed Keynesian policy and initiated stimulus measures (both fiscal and monetary) to boost growth and generate demand. In subsequent years, economic growth revived.\n",
      "In 2021–22, the foreign direct investment (FDI) in India was $82 billion. The leading sectors for FDI inflows were the Finance, Banking, Insurance and R&D. India has free trade agreements with several nations and blocs, including ASEAN, SAFTA, Mercosur, South Korea, Japan, Australia, the United Arab Emirates, and several others which are in effect or under negotiating stage. In recent years, independent economists and financial institutions have accused the government of manipulating various economic data, especially GDP growth rate.\n",
      "The service sector makes up more than 50% of GDP and remains the fastest growing sector, while the industrial sector and the agricultural sector employs a majority of the labor force. The Bombay Stock Exchange and National Stock Exchange are some of the world's largest stock exchanges by market capitalisation. India is the world's sixth-largest manufacturer, representing 2.6% of global manufacturing output. Nearly 65% of India's population is rural, and contributes about 50% of India's GDP. India faces high unemployment, rising income inequality, and a drop in aggregate demand. According to the World Bank, 93% of India's population lived on less than $10 per day, and 99% lived on less than $20 per day \u001b[0m\n",
      "Thought:\u001b[32;1m\u001b[1;3mThought: I found the GDP number.\n",
      "Final Answer: India's GDP is the world's fifth-largest by nominal GDP. \n",
      "\n",
      "\n",
      "\u001b[0m\n",
      "\n",
      "\u001b[1m> Finished chain.\u001b[0m\n"
     ]
    },
    {
     "data": {
      "text/plain": [
       "\"India's GDP is the world's fifth-largest by nominal GDP.\""
      ]
     },
     "execution_count": 20,
     "metadata": {},
     "output_type": "execute_result"
    }
   ],
   "source": [
    "agent.run(\"What is current GDP of India?\")"
   ]
  },
  {
   "cell_type": "markdown",
   "id": "75afd591",
   "metadata": {},
   "source": [
    "Above is a use case of a deprecated agent initialization class (legacy class) , Below we'll be using different latest agent types initialization"
   ]
  },
  {
   "cell_type": "code",
   "execution_count": 21,
   "id": "80f089f0",
   "metadata": {},
   "outputs": [],
   "source": [
    "from langchain_community.tools.tavily_search import TavilySearchResults\n",
    "search = TavilySearchResults()"
   ]
  },
  {
   "cell_type": "code",
   "execution_count": 22,
   "id": "79621995",
   "metadata": {},
   "outputs": [],
   "source": [
    "tools = [search]"
   ]
  },
  {
   "cell_type": "code",
   "execution_count": 23,
   "id": "eda1c2c4",
   "metadata": {},
   "outputs": [],
   "source": [
    "# Get the prompt to use - you can modify this!\n",
    "from langchain import hub\n",
    "prompt = hub.pull(\"hwchase17/openai-functions-agent\") \n",
    "# prompt.messages"
   ]
  },
  {
   "cell_type": "markdown",
   "id": "1971a543",
   "metadata": {},
   "source": [
    "** agent_scratchpad :** The agent does not call a tool just once to get the desired answer, but has a structure that calls tools repetedly until the desired answer is obtained. Ecah time you call a tool, what the previous call was like, information about the rpevious call, and the result are stored int his field.\n",
    "\n",
    "How it decides , when it got a desired answer ?\n",
    "\n",
    "=> • Final Answer Marker: The prompt template is designed so that when the LLM deems that it has enough context and information, it produces an output that begins with or contains a clear marker like “Final Answer: …”. This is the signal to the agent framework that the iterative process should stop and the produced output can be used as the answer. \n",
    "\n",
    "• Implicit Confidence and Context: There aren’t explicit numeric parameters (like thresholds or scores) that determine when to stop; the LLM decides based on the cumulative reasoning. It “knows” from the context of the conversation (including previous tool results) that additional tool calls are not necessary. \n",
    "\n",
    "• Prompt Instructions and Formatting: The behavior is largely influenced by the prompt’s design: the instructions that detail when to call tools and when to provide the final answer. In essence, the final decision is a result of the LLM’s interpretation of these instructions together with the current conversation context. \n",
    "\n",
    "• Decoding Settings: Although not a direct “parameter” for deciding the answer, settings such as temperature, top-k, and other decoding parameters can indirectly affect how the LLM generates its chain-of-thought and whether it decides that it has satisfactorily answered the question (or if it needs to call another tool)"
   ]
  },
  {
   "cell_type": "code",
   "execution_count": 24,
   "id": "97eba02e",
   "metadata": {},
   "outputs": [],
   "source": [
    "from langchain_groq import ChatGroq\n",
    "llm = ChatGroq(model=\"Gemma2-9b-It\", temperature=0.0, max_tokens=1000)"
   ]
  },
  {
   "cell_type": "code",
   "execution_count": 25,
   "id": "c4f286be",
   "metadata": {},
   "outputs": [],
   "source": [
    "from langchain.agents import create_tool_calling_agent\n",
    "agent = create_tool_calling_agent(llm, tools, prompt=prompt)"
   ]
  },
  {
   "cell_type": "code",
   "execution_count": 26,
   "id": "1ea80846",
   "metadata": {},
   "outputs": [],
   "source": [
    "from langchain.agents import AgentExecutor\n",
    "agent_executor = AgentExecutor(agent=agent, tools=tools, verbose=True)"
   ]
  },
  {
   "cell_type": "code",
   "execution_count": 27,
   "id": "25023640",
   "metadata": {},
   "outputs": [
    {
     "name": "stdout",
     "output_type": "stream",
     "text": [
      "\n",
      "\n",
      "\u001b[1m> Entering new AgentExecutor chain...\u001b[0m\n",
      "\u001b[32;1m\u001b[1;3m\n",
      "Invoking: `tavily_search_results_json` with `{'query': 'How are you?'}`\n",
      "\n",
      "\n",
      "\u001b[0m\u001b[36;1m\u001b[1;3m[{'title': \"6 ways to answer 'How are you?' when you're absolutely not 'fine'\", 'url': 'https://www.cnbc.com/2025/04/11/things-to-say-when-someone-asks-how-are-you-and-youre-absolutely-not-fine.html', 'content': 'And the next time you default to asking someone else, “How are you?” stop yourself and try a different question instead, like “What’s been on your mind lately?” or even “How are you, really?”\\nStephanie Harrison\\xa0is the founder of\\xa0The New Happy, an organization advancing a new philosophy of happiness. She is an expert in happiness, speaker, designer, and author of the book ”New Happy:\\xa0Getting Happiness Right in a World That’s Got It Wrong.” Follow her on\\xa0Instagram,\\xa0TikTok\\xa0and\\xa0LinkedIn. [...] Each of us has the power to help — one honest response to “How are you?” at a time. Here are a few ways to get started.\\n1. ‘Hey, thanks for asking. How am I? Hmm. Right now, I’m feeling…’\\nIf surface acting has become second nature to you, try this useful technique to process the question and consider your answer out loud. It will derail your instinct to immediately respond with, “I’m fine! And you?” and help you practice going inward to identify what you’re truly feeling. [...] What we need to get through these times is social support. But in order to receive it, we have to stop “surface acting,” or feeling pressured to put on a happy face. It’s why we answer “How are you?” with an immediate “Fine!” even when we’re not really fine at all.', 'score': 0.7837407}, {'title': '9 Ways to Ask “How Are You?” - Grammarly', 'url': 'https://www.grammarly.com/blog/writing-tips/how-are-you/', 'content': 'Grammarly helps you communicate confidently\\nWrite with Grammarly\\n9 ways to ask “How are you?”\\nThere are many ways to ask this fundamental question, but how you phrase it can imply different things. For example:\\n1 How are you? This is polite, but it’s not necessarily a serious inquiry about the other person’s well-being.\\n2 How are you doing? This is a direct inquiry about how a person is feeling in general. [...] 3 Are you OK? The meaning of this phrase depends on the context. In England, for example, this simply means “How are you?” while Americans may use this phrase to check if someone requires assistance.\\n4 How’s it going? This is casual. You’re asking how a person’s life has been lately, in a more general sense.\\n5 What’s up? This is essentially a casual hello. [...] Conversely, if you’re emailing or messaging your manager who just got back from parental leave, something slightly more formal and targeted might make more sense, like “How are you doing with the new baby?” That way you show interest in their major life event while keeping things professional.\\nHere are a few more examples of how to use “How are you?” and its alternatives in conversation:', 'score': 0.7429634}, {'title': '[Greeting] How are you? - Exciting song - Sing along - YouTube', 'url': 'https://www.youtube.com/watch?v=59FTQnfMbIE', 'content': \"★ Subscribe to us on YouTube: http://goo.gl/gDa963\\n★ More of Our Songs: https://goo.gl/ByGXT2\\n\\n\\n--- Title: How are you? ---\\n\\nGood morning. Good morning. \\nGood morning. How are you? \\nI'm fine. I'm fine. I'm fine.\\nThank you.\\n\\nGood afternoon. Good afternoon. \\nGood afternoon. How are you? \\nI'm not good. I'm not good. I'm not good. \\nOh, no.\\n\\nGood evening. Good evening. \\nGood evening. How are you? \\nI'm great. I'm great. I'm great.\\nThank you.\", 'score': 0.73914057}, {'title': 'How Are You? | Emotions Song | Wormhole Learning - Songs For Kids', 'url': 'https://www.youtube.com/watch?v=O13gITUS5t4', 'content': \"Hi, Judy. How are you?\\n Hi, Judy. How are you?\\n I am happy!\\n Yes, I am happy!\\n \\n Hi, Bobby. How are you?\\n Hi, Bobby. How are you?\\n I am sad. \\n Yes, I am sad.\\n \\nOh, don't be sad, Bobby!\\n\\n Hi, Judy. How are you?\\n Hi, Judy. How are you?\\n I am angry! \\n Yes, I am angry!\\n \\nHumph!\\n\\n Hi, Bobby. How are you?\\n Hi, Bobby. How are you?\\n I am hungry! \\n Yes, I am hungry!\\n \\nHere, Bobby. Have my ice cream.\\nThank you! Now I am full. [...] Hi, children. How are you?\\n Hi, children. How are you?\\n I'm happy!   \\n I'm sad! \\n I'm angry!   \\n I'm hungry! \\n I'm happy!   \\n I'm sad! \\n I'm angry!   \\n I'm hungry! \\n\\n[All music by Alfred Henshaw-Hill, © Copyright Wormhole Learning, 2022] \\n 0 comments [...] If you want more original content, find us on:\\n★ Instagram: https://www.instagram.com/wormhole_learning/ \\n★Twitter: https://twitter.com/Jacky_Wormhole \\n\\nHi children, Teacher Sally here. How are you today? Tell me about your emotions. I am very excited because I can dance with you and show you this brand new greetings song!\\n\\n\\nLYRICS\\nHi, Judy. How are you?\\nI am happy! Let's sing a song!\", 'score': 0.73778254}, {'title': 'How To Answer the Question “How Are You?” | Indeed.com', 'url': 'https://www.indeed.com/career-advice/career-development/how-are-you-response', 'content': 'How To Answer the Question “How Are You?” · Good: “Good” is the most common answer to the question “How are you?” It is polite and cheerful.', 'score': 0.72605723}]\u001b[0m\u001b[32;1m\u001b[1;3m\n",
      "Invoking: `tavily_search_results_json` with `{'query': 'How are you?'}`\n",
      "\n",
      "\n",
      "\u001b[0m\u001b[36;1m\u001b[1;3m[{'title': \"6 ways to answer 'How are you?' when you're absolutely not 'fine'\", 'url': 'https://www.cnbc.com/2025/04/11/things-to-say-when-someone-asks-how-are-you-and-youre-absolutely-not-fine.html', 'content': 'And the next time you default to asking someone else, “How are you?” stop yourself and try a different question instead, like “What’s been on your mind lately?” or even “How are you, really?”\\nStephanie Harrison\\xa0is the founder of\\xa0The New Happy, an organization advancing a new philosophy of happiness. She is an expert in happiness, speaker, designer, and author of the book ”New Happy:\\xa0Getting Happiness Right in a World That’s Got It Wrong.” Follow her on\\xa0Instagram,\\xa0TikTok\\xa0and\\xa0LinkedIn. [...] Each of us has the power to help — one honest response to “How are you?” at a time. Here are a few ways to get started.\\n1. ‘Hey, thanks for asking. How am I? Hmm. Right now, I’m feeling…’\\nIf surface acting has become second nature to you, try this useful technique to process the question and consider your answer out loud. It will derail your instinct to immediately respond with, “I’m fine! And you?” and help you practice going inward to identify what you’re truly feeling. [...] What we need to get through these times is social support. But in order to receive it, we have to stop “surface acting,” or feeling pressured to put on a happy face. It’s why we answer “How are you?” with an immediate “Fine!” even when we’re not really fine at all.', 'score': 0.7837407}, {'title': '9 Ways to Ask “How Are You?” - Grammarly', 'url': 'https://www.grammarly.com/blog/writing-tips/how-are-you/', 'content': 'Grammarly helps you communicate confidently\\nWrite with Grammarly\\n9 ways to ask “How are you?”\\nThere are many ways to ask this fundamental question, but how you phrase it can imply different things. For example:\\n1 How are you? This is polite, but it’s not necessarily a serious inquiry about the other person’s well-being.\\n2 How are you doing? This is a direct inquiry about how a person is feeling in general. [...] 3 Are you OK? The meaning of this phrase depends on the context. In England, for example, this simply means “How are you?” while Americans may use this phrase to check if someone requires assistance.\\n4 How’s it going? This is casual. You’re asking how a person’s life has been lately, in a more general sense.\\n5 What’s up? This is essentially a casual hello. [...] Conversely, if you’re emailing or messaging your manager who just got back from parental leave, something slightly more formal and targeted might make more sense, like “How are you doing with the new baby?” That way you show interest in their major life event while keeping things professional.\\nHere are a few more examples of how to use “How are you?” and its alternatives in conversation:', 'score': 0.7429634}, {'title': '[Greeting] How are you? - Exciting song - Sing along - YouTube', 'url': 'https://www.youtube.com/watch?v=59FTQnfMbIE', 'content': \"★ Subscribe to us on YouTube: http://goo.gl/gDa963\\n★ More of Our Songs: https://goo.gl/ByGXT2\\n\\n\\n--- Title: How are you? ---\\n\\nGood morning. Good morning. \\nGood morning. How are you? \\nI'm fine. I'm fine. I'm fine.\\nThank you.\\n\\nGood afternoon. Good afternoon. \\nGood afternoon. How are you? \\nI'm not good. I'm not good. I'm not good. \\nOh, no.\\n\\nGood evening. Good evening. \\nGood evening. How are you? \\nI'm great. I'm great. I'm great.\\nThank you.\", 'score': 0.73914057}, {'title': 'How Are You? | Emotions Song | Wormhole Learning - Songs For Kids', 'url': 'https://www.youtube.com/watch?v=O13gITUS5t4', 'content': \"Hi, Judy. How are you?\\n Hi, Judy. How are you?\\n I am happy!\\n Yes, I am happy!\\n \\n Hi, Bobby. How are you?\\n Hi, Bobby. How are you?\\n I am sad. \\n Yes, I am sad.\\n \\nOh, don't be sad, Bobby!\\n\\n Hi, Judy. How are you?\\n Hi, Judy. How are you?\\n I am angry! \\n Yes, I am angry!\\n \\nHumph!\\n\\n Hi, Bobby. How are you?\\n Hi, Bobby. How are you?\\n I am hungry! \\n Yes, I am hungry!\\n \\nHere, Bobby. Have my ice cream.\\nThank you! Now I am full. [...] Hi, children. How are you?\\n Hi, children. How are you?\\n I'm happy!   \\n I'm sad! \\n I'm angry!   \\n I'm hungry! \\n I'm happy!   \\n I'm sad! \\n I'm angry!   \\n I'm hungry! \\n\\n[All music by Alfred Henshaw-Hill, © Copyright Wormhole Learning, 2022] \\n 0 comments [...] If you want more original content, find us on:\\n★ Instagram: https://www.instagram.com/wormhole_learning/ \\n★Twitter: https://twitter.com/Jacky_Wormhole \\n\\nHi children, Teacher Sally here. How are you today? Tell me about your emotions. I am very excited because I can dance with you and show you this brand new greetings song!\\n\\n\\nLYRICS\\nHi, Judy. How are you?\\nI am happy! Let's sing a song!\", 'score': 0.73778254}, {'title': 'How To Answer the Question “How Are You?” | Indeed.com', 'url': 'https://www.indeed.com/career-advice/career-development/how-are-you-response', 'content': 'How To Answer the Question “How Are You?” · Good: “Good” is the most common answer to the question “How are you?” It is polite and cheerful.', 'score': 0.72605723}]\u001b[0m\u001b[32;1m\u001b[1;3mI am doing well, thank you for asking.\u001b[0m\n",
      "\n",
      "\u001b[1m> Finished chain.\u001b[0m\n"
     ]
    }
   ],
   "source": [
    "result = agent_executor.invoke({\"input\":\"Hello How are you?\"})"
   ]
  },
  {
   "cell_type": "code",
   "execution_count": 28,
   "id": "c968f3fa",
   "metadata": {},
   "outputs": [
    {
     "name": "stdout",
     "output_type": "stream",
     "text": [
      "I am doing well, thank you for asking.\n"
     ]
    }
   ],
   "source": [
    "print(result[\"output\"])"
   ]
  },
  {
   "cell_type": "code",
   "execution_count": 29,
   "id": "0795b2c0",
   "metadata": {},
   "outputs": [
    {
     "name": "stdout",
     "output_type": "stream",
     "text": [
      "\n",
      "\n",
      "\u001b[1m> Entering new AgentExecutor chain...\u001b[0m\n",
      "\u001b[32;1m\u001b[1;3m\n",
      "Invoking: `tavily_search_results_json` with `{'query': 'weather in America'}`\n",
      "\n",
      "\n",
      "\u001b[0m\u001b[36;1m\u001b[1;3m[{'title': 'Weather in United States', 'url': 'https://www.weatherapi.com/', 'content': \"{'location': {'name': 'United', 'region': 'Pennsylvania', 'country': 'United States of America', 'lat': 40.2183, 'lon': -79.4881, 'tz_id': 'America/New_York', 'localtime_epoch': 1745236285, 'localtime': '2025-04-21 07:51'}, 'current': {'last_updated_epoch': 1745235900, 'last_updated': '2025-04-21 07:45', 'temp_c': 12.3, 'temp_f': 54.1, 'is_day': 1, 'condition': {'text': 'Partly Cloudy', 'icon': '//cdn.weatherapi.com/weather/64x64/day/116.png', 'code': 1003}, 'wind_mph': 6.7, 'wind_kph': 10.8, 'wind_degree': 160, 'wind_dir': 'SSE', 'pressure_mb': 1019.0, 'pressure_in': 30.1, 'precip_mm': 0.0, 'precip_in': 0.0, 'humidity': 82, 'cloud': 0, 'feelslike_c': 11.3, 'feelslike_f': 52.3, 'windchill_c': 12.1, 'windchill_f': 53.8, 'heatindex_c': 13.8, 'heatindex_f': 56.9, 'dewpoint_c': 7.7, 'dewpoint_f': 45.9, 'vis_km': 16.0, 'vis_miles': 9.0, 'uv': 0.0, 'gust_mph': 14.1, 'gust_kph': 22.7}}\", 'score': 0.9970352}, {'title': 'United States weather forecast for Monday, 21 April 2025', 'url': 'https://www.weather25.com/north-america/usa?page=date&date=21-4', 'content': '| 27  57° /39° | 28  60° /41° | 29  60° /46° | 30  60° /46° | \\n| \\n| \\n|\\nClick on a day for an hourly weather forecast\\nCities in the United States\\nFor a more accurate weather forecast please select a city\\nAtlanta Austin Boston Chicago Dallas Las Vegas Los Angeles New York City Orlando Philadelphia\\nSee more locations\\nMore about the weather in the United States [...] | Sun | Mon | Tue | Wed | Thu | Fri | Sat |\\n| --- | --- | --- | --- | --- | --- | --- |\\n| \\n | \\n| 1  53° /39° | 2  48° /33° | 3  50° /35° | 4  51° /37° | 5  55° /39° |\\n| 6  59° /41° | 7  57° /41° | 8  59° /42° | 9  57° /41° | 10  55° /39° | 11  59° /41° | 12  60° /42° |\\n| 13  60° /46° | 14  69° /46° | 15  59° /46° | 16  57° /42° | 17  53° /37° | 18  50° /39° | 19  57° /37° |\\n| 20  60° /42° | 21  60° /39° | 22  57° /37° | 23  57° /37° | 24  59° /41° | 25  59° /39° | 26  59° /39° | [...] | Patchy heavy snow | 15 Miles |\\n| 2020 - April 21 | 51 ° / 37 ° | 0.42 in | \\n\\n| Moderate rain | 13 Miles |\\nWeather Calendar\\n\\nApril', 'score': 0.8872928}, {'title': 'Weather in America: April 21, 2025 | Latest Weather Clips', 'url': 'https://www.foxweather.com/watch/fmc-hfcsp9q4mnnuyp0c', 'content': 'Watch: Torrential rain, strong winds pummel Arkansas during tornado-warned storm\\n\\nPartly cloudy skies and cool conditions for 129th Boston Marathon\\n\\nWeather in America: April 21, 2025\\n\\nDeadly severe weather tears across central US over Easter weekend\\n\\nFOX Weather Meteorologist Nick Kosir breaks down the severe storm threat this evening through parts of the U.S.\\n\\nFOX Weather Storm Tracker Corey Gerken is moving throughout Missouri following the latest round of potential severe weather [...] Weather in America: April 21, 2025\\n\\nWeather in America: April 21, 2025\\n\\nFOX Weather has you covered with the breaking forecasts and weather news headlines for your Weather in America on Monday, April 21, 2025. Get the latest from FOX Weather Meteorologist Britta Merwin.\\n\\nLatest Videos\\n\\nMillions in Plains brace for return of severe weather this week\\n\\nSafelite look ahead forecast: Plains brace for busy stretch of severe storms, potential flash flooding [...] Watch: Deadly flooding in Moore, Oklahoma\\n\\nFunnel cloud in Missouri during Tornado Watch\\n\\nThis material may not be published, broadcast, rewritten, or\\n        redistributed. ©2025 FOX News Network, LLC. All\\n        rights reserved.', 'score': 0.8800674}, {'title': 'Storm Prediction Center Apr 21, 2025 0600 UTC Day 1 Convective ...', 'url': 'https://www.spc.noaa.gov/products/outlook/day1otlk.html', 'content': '...Synopsis...\\n   A compact upper low currently moving into western Oklahoma will\\n   shift quickly northeastward this afternoon and tonight, crossing\\n   eastern Kansas and western Missouri this evening and then continuing\\n   northeastward across Iowa and into Wisconsin tonight.  Fast\\n   southwesterly flow aloft will exist in advance of this system,\\n   within the tight height gradient between this feature and the\\n   persistent ridge centered over the Southeast. [...] ...SUMMARY...\\n   Severe thunderstorms are expected today across parts of the ArkLaTex\\n   into the Ozarks and mid Mississippi Valley, mainly this afternoon\\n   and evening. The best corridor for tornadoes (some of which could be\\n   strong) and scattered to numerous damaging winds should exist from\\n   central/northern Arkansas into Missouri. [...] Midwest this evening, supporting risk for embedded supercells and\\n   tornadoes, a few of which may be strong. In addition to the tornado\\n   threat, bowing structures along the front will support risk for\\n   damaging winds. See MCD#502 and MCD#504 for more information.', 'score': 0.8005209}, {'title': 'United States weather in April 2025 | Weather25.com', 'url': 'https://www.weather25.com/north-america/usa?page=month&month=April', 'content': '| Sun | Mon | Tue | Wed | Thu | Fri | Sat |\\n| --- | --- | --- | --- | --- | --- | --- |\\n| \\n | \\n| 1  53° /39° | 2  48° /33° | 3  51° /37° | 4  53° /39° | 5  55° /41° |\\n| 6  57° /39° | 7  53° /41° | 8  55° /41° | 9  55° /39° | 10  53° /39° | 11  57° /41° | 12  57° /42° |\\n| 13  57° /44° | 14  66° /46° | 15  59° /46° | 16  55° /41° | 17  55° /37° | 18  51° /39° | 19  60° /39° |\\n| 20  64° /50° | 21  53° /42° | 22  73° /46° | 23  68° /42° | 24  69° /48° | 25  53° /48° | 26  59° /46° | [...] Sunday Apr 20  0 in 64° / 50°Monday Apr 21  0 in 53° / 42°Tuesday Apr 22  0.2 in 73° / 46°Wednesday Apr 23  0 in 68° / 42°Thursday Apr 24  0 in 69° / 48°Friday Apr 25  0.43 in 53° / 48°Saturday Apr 26  0.36 in 59° / 46°Sunday Apr 27  0 in 60° / 39°Monday Apr 28  0 in 68° / 37°Tuesday Apr 29  0 in 75° / 46°Wednesday Apr 30  0 in 78° / 50°Thursday May 1  0.05 in 68° / 55°Friday May 2  0.15 in 71° / 57°Saturday May 3  0 in 60° / 46°Next Month >>\\nThe average weather in the United States in April [...] The temperatures in the United States in April are quite cold with temperatures between 42°F and 55°F, warm clothes are a must.\\nYou can expect rain for roughly half of the month of April in the United States. We’re expecting roughly 8 to 15 days of rain, so your rubber boots and umbrella are going to see plenty of use this month if you’re keen on staying dry.\\nPlease note that United States can expect a few days of snow in April.', 'score': 0.78670514}]\u001b[0m\u001b[32;1m\u001b[1;3m\n",
      "Invoking: `tavily_search_results_json` with `{'query': 'weather in America'}`\n",
      "\n",
      "\n",
      "\u001b[0m\u001b[36;1m\u001b[1;3m[{'title': 'Weather in United States', 'url': 'https://www.weatherapi.com/', 'content': \"{'location': {'name': 'United', 'region': 'Pennsylvania', 'country': 'United States of America', 'lat': 40.2183, 'lon': -79.4881, 'tz_id': 'America/New_York', 'localtime_epoch': 1745236285, 'localtime': '2025-04-21 07:51'}, 'current': {'last_updated_epoch': 1745235900, 'last_updated': '2025-04-21 07:45', 'temp_c': 12.3, 'temp_f': 54.1, 'is_day': 1, 'condition': {'text': 'Partly Cloudy', 'icon': '//cdn.weatherapi.com/weather/64x64/day/116.png', 'code': 1003}, 'wind_mph': 6.7, 'wind_kph': 10.8, 'wind_degree': 160, 'wind_dir': 'SSE', 'pressure_mb': 1019.0, 'pressure_in': 30.1, 'precip_mm': 0.0, 'precip_in': 0.0, 'humidity': 82, 'cloud': 0, 'feelslike_c': 11.3, 'feelslike_f': 52.3, 'windchill_c': 12.1, 'windchill_f': 53.8, 'heatindex_c': 13.8, 'heatindex_f': 56.9, 'dewpoint_c': 7.7, 'dewpoint_f': 45.9, 'vis_km': 16.0, 'vis_miles': 9.0, 'uv': 0.0, 'gust_mph': 14.1, 'gust_kph': 22.7}}\", 'score': 0.9970352}, {'title': 'United States weather forecast for Monday, 21 April 2025', 'url': 'https://www.weather25.com/north-america/usa?page=date&date=21-4', 'content': '| 27  57° /39° | 28  60° /41° | 29  60° /46° | 30  60° /46° | \\n| \\n| \\n|\\nClick on a day for an hourly weather forecast\\nCities in the United States\\nFor a more accurate weather forecast please select a city\\nAtlanta Austin Boston Chicago Dallas Las Vegas Los Angeles New York City Orlando Philadelphia\\nSee more locations\\nMore about the weather in the United States [...] | Sun | Mon | Tue | Wed | Thu | Fri | Sat |\\n| --- | --- | --- | --- | --- | --- | --- |\\n| \\n | \\n| 1  53° /39° | 2  48° /33° | 3  50° /35° | 4  51° /37° | 5  55° /39° |\\n| 6  59° /41° | 7  57° /41° | 8  59° /42° | 9  57° /41° | 10  55° /39° | 11  59° /41° | 12  60° /42° |\\n| 13  60° /46° | 14  69° /46° | 15  59° /46° | 16  57° /42° | 17  53° /37° | 18  50° /39° | 19  57° /37° |\\n| 20  60° /42° | 21  60° /39° | 22  57° /37° | 23  57° /37° | 24  59° /41° | 25  59° /39° | 26  59° /39° | [...] | Patchy heavy snow | 15 Miles |\\n| 2020 - April 21 | 51 ° / 37 ° | 0.42 in | \\n\\n| Moderate rain | 13 Miles |\\nWeather Calendar\\n\\nApril', 'score': 0.8872928}, {'title': 'Weather in America: April 21, 2025 | Latest Weather Clips', 'url': 'https://www.foxweather.com/watch/fmc-hfcsp9q4mnnuyp0c', 'content': 'Watch: Torrential rain, strong winds pummel Arkansas during tornado-warned storm\\n\\nPartly cloudy skies and cool conditions for 129th Boston Marathon\\n\\nWeather in America: April 21, 2025\\n\\nDeadly severe weather tears across central US over Easter weekend\\n\\nFOX Weather Meteorologist Nick Kosir breaks down the severe storm threat this evening through parts of the U.S.\\n\\nFOX Weather Storm Tracker Corey Gerken is moving throughout Missouri following the latest round of potential severe weather [...] Weather in America: April 21, 2025\\n\\nWeather in America: April 21, 2025\\n\\nFOX Weather has you covered with the breaking forecasts and weather news headlines for your Weather in America on Monday, April 21, 2025. Get the latest from FOX Weather Meteorologist Britta Merwin.\\n\\nLatest Videos\\n\\nMillions in Plains brace for return of severe weather this week\\n\\nSafelite look ahead forecast: Plains brace for busy stretch of severe storms, potential flash flooding [...] Watch: Deadly flooding in Moore, Oklahoma\\n\\nFunnel cloud in Missouri during Tornado Watch\\n\\nThis material may not be published, broadcast, rewritten, or\\n        redistributed. ©2025 FOX News Network, LLC. All\\n        rights reserved.', 'score': 0.8800674}, {'title': 'Storm Prediction Center Apr 21, 2025 0600 UTC Day 1 Convective ...', 'url': 'https://www.spc.noaa.gov/products/outlook/day1otlk.html', 'content': '...Synopsis...\\n   A compact upper low currently moving into western Oklahoma will\\n   shift quickly northeastward this afternoon and tonight, crossing\\n   eastern Kansas and western Missouri this evening and then continuing\\n   northeastward across Iowa and into Wisconsin tonight.  Fast\\n   southwesterly flow aloft will exist in advance of this system,\\n   within the tight height gradient between this feature and the\\n   persistent ridge centered over the Southeast. [...] ...SUMMARY...\\n   Severe thunderstorms are expected today across parts of the ArkLaTex\\n   into the Ozarks and mid Mississippi Valley, mainly this afternoon\\n   and evening. The best corridor for tornadoes (some of which could be\\n   strong) and scattered to numerous damaging winds should exist from\\n   central/northern Arkansas into Missouri. [...] Midwest this evening, supporting risk for embedded supercells and\\n   tornadoes, a few of which may be strong. In addition to the tornado\\n   threat, bowing structures along the front will support risk for\\n   damaging winds. See MCD#502 and MCD#504 for more information.', 'score': 0.8005209}, {'title': 'United States weather in April 2025 | Weather25.com', 'url': 'https://www.weather25.com/north-america/usa?page=month&month=April', 'content': '| Sun | Mon | Tue | Wed | Thu | Fri | Sat |\\n| --- | --- | --- | --- | --- | --- | --- |\\n| \\n | \\n| 1  53° /39° | 2  48° /33° | 3  51° /37° | 4  53° /39° | 5  55° /41° |\\n| 6  57° /39° | 7  53° /41° | 8  55° /41° | 9  55° /39° | 10  53° /39° | 11  57° /41° | 12  57° /42° |\\n| 13  57° /44° | 14  66° /46° | 15  59° /46° | 16  55° /41° | 17  55° /37° | 18  51° /39° | 19  60° /39° |\\n| 20  64° /50° | 21  53° /42° | 22  73° /46° | 23  68° /42° | 24  69° /48° | 25  53° /48° | 26  59° /46° | [...] Sunday Apr 20  0 in 64° / 50°Monday Apr 21  0 in 53° / 42°Tuesday Apr 22  0.2 in 73° / 46°Wednesday Apr 23  0 in 68° / 42°Thursday Apr 24  0 in 69° / 48°Friday Apr 25  0.43 in 53° / 48°Saturday Apr 26  0.36 in 59° / 46°Sunday Apr 27  0 in 60° / 39°Monday Apr 28  0 in 68° / 37°Tuesday Apr 29  0 in 75° / 46°Wednesday Apr 30  0 in 78° / 50°Thursday May 1  0.05 in 68° / 55°Friday May 2  0.15 in 71° / 57°Saturday May 3  0 in 60° / 46°Next Month >>\\nThe average weather in the United States in April [...] The temperatures in the United States in April are quite cold with temperatures between 42°F and 55°F, warm clothes are a must.\\nYou can expect rain for roughly half of the month of April in the United States. We’re expecting roughly 8 to 15 days of rain, so your rubber boots and umbrella are going to see plenty of use this month if you’re keen on staying dry.\\nPlease note that United States can expect a few days of snow in April.', 'score': 0.78670514}]\u001b[0m\u001b[32;1m\u001b[1;3m\n",
      "\u001b[0m\n",
      "\n",
      "\u001b[1m> Finished chain.\u001b[0m\n"
     ]
    },
    {
     "data": {
      "text/plain": [
       "{'input': 'What is the current weather in America?', 'output': '\\n'}"
      ]
     },
     "execution_count": 29,
     "metadata": {},
     "output_type": "execute_result"
    }
   ],
   "source": [
    "agent_executor.invoke({\"input\":\"What is the current weather in America?\"})"
   ]
  },
  {
   "cell_type": "markdown",
   "id": "83cf8672",
   "metadata": {},
   "source": [
    "1. RAG Tool\n",
    "2. ReAct\n",
    "3. Custom tool with ReAct agent\n",
    "4. agent code from latest version(v0.2 and v0.3)"
   ]
  },
  {
   "cell_type": "code",
   "execution_count": 30,
   "id": "cf3eaf7c",
   "metadata": {},
   "outputs": [
    {
     "name": "stderr",
     "output_type": "stream",
     "text": [
      "USER_AGENT environment variable not set, consider setting it to identify your requests.\n"
     ]
    }
   ],
   "source": [
    "from langchain_community.document_loaders import WebBaseLoader\n",
    "from langchain_community.vectorstores import FAISS\n",
    "from langchain_text_splitters import RecursiveCharacterTextSplitter\n"
   ]
  },
  {
   "cell_type": "code",
   "execution_count": 31,
   "id": "39ad0353",
   "metadata": {},
   "outputs": [],
   "source": [
    "loader = WebBaseLoader(\"https://blog.langchain.dev/langgraph-studio-the-first-agent-ide/\")\n",
    "docs = loader.load()"
   ]
  },
  {
   "cell_type": "code",
   "execution_count": 32,
   "id": "08105524",
   "metadata": {},
   "outputs": [
    {
     "data": {
      "text/plain": [
       "[Document(metadata={'source': 'https://blog.langchain.dev/langgraph-studio-the-first-agent-ide/', 'title': 'LangGraph Studio: The first agent IDE', 'description': 'LangGraph Studio provides a specialized agent IDE for visualizing, interacting with, and debugging complex agentic applications. See how to use it on your desktop today.', 'language': 'en'}, page_content=\"\\n\\n\\nLangGraph Studio: The first agent IDE\\n\\n\\n\\n\\n\\n\\n\\n\\n\\n\\n\\n\\n\\n\\n\\n\\n\\n\\n\\n\\n\\n\\n\\n\\n\\n\\n\\n\\n\\n\\n\\n\\n\\n\\n\\n\\n\\n\\n\\n\\n\\n\\n\\n\\n\\n\\n\\n\\n\\n\\nSkip to content\\n\\n\\n\\n\\n\\n\\n\\n\\n\\n\\n\\n\\n\\n\\n\\n\\nCase Studies\\n\\n\\n\\n\\nIn the Loop\\n\\n\\n\\n\\nLangChain\\n\\n\\n\\n\\nDocs\\n\\n\\n\\n\\nChangelog\\n\\n\\n\\n\\n\\nSign in\\nSubscribe\\n\\n\\n\\n\\n\\n\\n\\n\\n\\n\\n\\n\\n\\n\\n\\n\\n\\n\\n\\nLangGraph Studio: The first agent IDE\\nLangGraph Studio provides a specialized agent IDE for visualizing, interacting with, and debugging complex agentic applications. See how to use it on your desktop today.\\n\\n4 min read\\nAug 1, 2024\\n\\n\\n\\n\\n\\nLLMs have paved the way for the development of new types of agentic applications — and as LLM applications evolve, so must the tooling needed to efficiently develop them. Today, we're announcing LangGraph Studio - the first IDE designed specifically for agent development - in open beta.LangGraph Studio offers a new way to develop LLM applications, providing a specialized agent IDE for visualizing, interacting with, and debugging complex agentic applications. In this blog, we'll give a brief overview of LangGraph and then explore how LangGraph Studio streamlines the development of agentic applications.LangGraph: Balancing agent control with agency  In January 2023, we launched LangGraph, a highly controllable, low-level orchestration framework for building agentic applications. Since then, we've seen  teams build more complex agentic applications for production; in turn, we've heavily invested in LangGraph, leading to a stable 0.1 release this past June.LangGraph features a persistence layer that enables human-in-the-loop interactions, and it excels at building complex (i.e. more than a single LLM call) applications that require highly domain-specific cognitive architecture. Most of the agents we see in production fit this description.LangGraph is fully open source, available in both Python and Javascript. It works with or without LangChain, and integrates seamlessly with LangSmith.LangGraph Studio: Visualize and interact with agent graphs for quick iterationWhile LangGraph offers a new framework for developing agentic applications, we also strongly believe that new tooling is needed to make the development process easier. Building LLM applications differs from traditional software development, requiring different tooling outside of the traditional code editor.Coding is still important to developing LLM applications — after all, production-ready LangGraph applications have complicated custom logic in the nodes and edges of the graphs that are created. We don't aim to replace code editors but, instead, to augment the development experience with tools tailored for LangGraph applications. LangGraph Studio facilitates this by making it easy to visualize and interact with agent graphs, even if development still primarily happens in code. Visualizing graphs helps developers understand their structure. Furthermore, you can modify an agent result (or the logic underlying a specific node) halfway through the agent's trajectory. This creates an iterative process, by letting you interact with and manipulate the state at that point in time.While there is much more to explore, we're excited to introduce LangGraph Studio to start with bringing some of the core features of an agent IDE to the world.How to use LangGraph StudioLangGraph Studio is a desktop app, currently available for Apple Silicon. You can download a version here. Support for more platforms is coming soon.After you download and open LangGraph Studio, you will be prompted to log in with your LangSmith account. All users of LangSmith (including those with free accounts) currently have access to LangGraph Studio while it is in beta. You can sign up for a LangSmith account here.After downloading LangSmith, you can open a directory. At a bare minimum, this directory needs to contain a Python file with a graph defined in it. Next, you will need to create a langgraph.json file containing details such as where the agent is defined, which dependencies to install, and which environment variables to load. This file can be created in the UI, or can exist as a file in the directory already. For an example repository which meets these requirements, see this GitHub repo.After you open a directory, we will build an environment for you agent to run. After it builds, you should see a visualization of the graph along with a box for interacting with the agent.When you interact with the agent, you'll get a stream of real-time information about what steps are happening. You can see the agent decide which tools to call, call those tools, and then continue looping. You can interrupt the agent at any time if veers off course, or you can interrupt the agent to run it in a “debug mode” where it pauses after each step of the graph (so you can walk-through step by step).\\n\\n\\n\\n\\n\\n\\n\\n\\n\\n\\n\\n\\n\\n\\n\\n\\n\\n\\n\\n\\n\\n\\n0:00\\n\\n                            /0:19\\n\\n\\n1×\\n\\n\\n\\n\\n\\n\\n\\n\\n\\n\\n\\n\\n\\n\\n💡At any point, you can interact with the state of the agent.If you don’t like what the agent responded with at a specific step, you can directly modify the response and then continue with that new response. This can be useful for simulating what would have happened if the agent or a tool returned something different.\\n\\n\\n\\n\\n\\n\\n\\n\\n\\n\\n\\n\\n\\n\\n\\n\\n\\n\\n\\n\\n\\n\\n0:00\\n\\n                            /0:14\\n\\n\\n1×\\n\\n\\n\\n\\n\\n\\n\\n\\n\\n\\n\\n\\n\\n\\nYou can also modify the underlying code and then replay the node. LangGraph Studio detects changes to the underlying code files, allowing you to update prompts in your code editor and rerun nodes if an agent responds poorly. This can make it much easier to iterate on long-running agents.\\n\\n\\n\\n\\n\\n\\n\\n\\n\\n\\n\\n\\n\\n\\n\\n\\n\\n\\n\\n\\n\\n\\n0:00\\n\\n                            /0:20\\n\\n\\n1×\\n\\n\\n\\n\\n\\n\\n\\n\\n\\n\\n\\n\\n\\n\\nConclusionBuilding agentic applications differs from traditional software development. While code editors remain important, new IDEs designed for agents are also needed. LangGraph Studio is a step in this direction, and we're excited to see how it enhances your workflow.For more on LangGraph Studio, check out our documentation. You can also watch a video walkthrough on YouTube if that's more your style. You can\\xa0sign up for LangSmith\\xa0today to try out LangGraph Studio for free.We'd also love your feedback - drop us a line at hello@langchain.dev or on Twitter to share your thoughts.\\n\\n\\nJoin our newsletter\\nUpdates from the LangChain team and community\\n\\n\\nEnter your email\\n\\nSubscribe\\n\\nProcessing your application...\\nSuccess! Please check your inbox and click the link to confirm your subscription.\\nSorry, something went wrong. Please try again.\\n\\n\\n\\n\\n\\n\\n\\n\\n\\n\\n\\n\\n\\nSign up\\n\\n\\n\\n\\n\\n            © LangChain Blog 2025\\n        \\n\\n\\n\\n\\n\\n\\n\")]"
      ]
     },
     "execution_count": 32,
     "metadata": {},
     "output_type": "execute_result"
    }
   ],
   "source": [
    "docs"
   ]
  },
  {
   "cell_type": "code",
   "execution_count": 33,
   "id": "95710eac",
   "metadata": {},
   "outputs": [],
   "source": [
    "documents = RecursiveCharacterTextSplitter(\n",
    "    chunk_size=1000, chunk_overlap=200\n",
    ").split_documents(docs)"
   ]
  },
  {
   "cell_type": "code",
   "execution_count": 34,
   "id": "7606c698",
   "metadata": {},
   "outputs": [
    {
     "ename": "KeyboardInterrupt",
     "evalue": "",
     "output_type": "error",
     "traceback": [
      "\u001b[1;31m---------------------------------------------------------------------------\u001b[0m",
      "\u001b[1;31mKeyboardInterrupt\u001b[0m                         Traceback (most recent call last)",
      "Cell \u001b[1;32mIn[34], line 1\u001b[0m\n\u001b[1;32m----> 1\u001b[0m vector \u001b[38;5;241m=\u001b[39m \u001b[43mFAISS\u001b[49m\u001b[38;5;241;43m.\u001b[39;49m\u001b[43mfrom_documents\u001b[49m\u001b[43m(\u001b[49m\u001b[43mdocuments\u001b[49m\u001b[43m,\u001b[49m\u001b[43membeddings\u001b[49m\u001b[43m)\u001b[49m\n\u001b[0;32m      2\u001b[0m retriever \u001b[38;5;241m=\u001b[39m vector\u001b[38;5;241m.\u001b[39mas_retriever()\n",
      "File \u001b[1;32me:\\LanggraphAgent\\venv\\lib\\site-packages\\langchain_core\\vectorstores\\base.py:848\u001b[0m, in \u001b[0;36mVectorStore.from_documents\u001b[1;34m(cls, documents, embedding, **kwargs)\u001b[0m\n\u001b[0;32m    845\u001b[0m     \u001b[38;5;28;01mif\u001b[39;00m \u001b[38;5;28many\u001b[39m(ids):\n\u001b[0;32m    846\u001b[0m         kwargs[\u001b[38;5;124m\"\u001b[39m\u001b[38;5;124mids\u001b[39m\u001b[38;5;124m\"\u001b[39m] \u001b[38;5;241m=\u001b[39m ids\n\u001b[1;32m--> 848\u001b[0m \u001b[38;5;28;01mreturn\u001b[39;00m \u001b[38;5;28mcls\u001b[39m\u001b[38;5;241m.\u001b[39mfrom_texts(texts, embedding, metadatas\u001b[38;5;241m=\u001b[39mmetadatas, \u001b[38;5;241m*\u001b[39m\u001b[38;5;241m*\u001b[39mkwargs)\n",
      "File \u001b[1;32me:\\LanggraphAgent\\venv\\lib\\site-packages\\langchain_community\\vectorstores\\faiss.py:1043\u001b[0m, in \u001b[0;36mFAISS.from_texts\u001b[1;34m(cls, texts, embedding, metadatas, ids, **kwargs)\u001b[0m\n\u001b[0;32m   1016\u001b[0m \u001b[38;5;129m@classmethod\u001b[39m\n\u001b[0;32m   1017\u001b[0m \u001b[38;5;28;01mdef\u001b[39;00m\u001b[38;5;250m \u001b[39m\u001b[38;5;21mfrom_texts\u001b[39m(\n\u001b[0;32m   1018\u001b[0m     \u001b[38;5;28mcls\u001b[39m,\n\u001b[1;32m   (...)\u001b[0m\n\u001b[0;32m   1023\u001b[0m     \u001b[38;5;241m*\u001b[39m\u001b[38;5;241m*\u001b[39mkwargs: Any,\n\u001b[0;32m   1024\u001b[0m ) \u001b[38;5;241m-\u001b[39m\u001b[38;5;241m>\u001b[39m FAISS:\n\u001b[0;32m   1025\u001b[0m \u001b[38;5;250m    \u001b[39m\u001b[38;5;124;03m\"\"\"Construct FAISS wrapper from raw documents.\u001b[39;00m\n\u001b[0;32m   1026\u001b[0m \n\u001b[0;32m   1027\u001b[0m \u001b[38;5;124;03m    This is a user friendly interface that:\u001b[39;00m\n\u001b[1;32m   (...)\u001b[0m\n\u001b[0;32m   1041\u001b[0m \u001b[38;5;124;03m            faiss = FAISS.from_texts(texts, embeddings)\u001b[39;00m\n\u001b[0;32m   1042\u001b[0m \u001b[38;5;124;03m    \"\"\"\u001b[39;00m\n\u001b[1;32m-> 1043\u001b[0m     embeddings \u001b[38;5;241m=\u001b[39m \u001b[43membedding\u001b[49m\u001b[38;5;241;43m.\u001b[39;49m\u001b[43membed_documents\u001b[49m\u001b[43m(\u001b[49m\u001b[43mtexts\u001b[49m\u001b[43m)\u001b[49m\n\u001b[0;32m   1044\u001b[0m     \u001b[38;5;28;01mreturn\u001b[39;00m \u001b[38;5;28mcls\u001b[39m\u001b[38;5;241m.\u001b[39m__from(\n\u001b[0;32m   1045\u001b[0m         texts,\n\u001b[0;32m   1046\u001b[0m         embeddings,\n\u001b[1;32m   (...)\u001b[0m\n\u001b[0;32m   1050\u001b[0m         \u001b[38;5;241m*\u001b[39m\u001b[38;5;241m*\u001b[39mkwargs,\n\u001b[0;32m   1051\u001b[0m     )\n",
      "File \u001b[1;32me:\\LanggraphAgent\\venv\\lib\\site-packages\\langchain_huggingface\\embeddings\\huggingface.py:85\u001b[0m, in \u001b[0;36mHuggingFaceEmbeddings.embed_documents\u001b[1;34m(self, texts)\u001b[0m\n\u001b[0;32m     83\u001b[0m     sentence_transformers\u001b[38;5;241m.\u001b[39mSentenceTransformer\u001b[38;5;241m.\u001b[39mstop_multi_process_pool(pool)\n\u001b[0;32m     84\u001b[0m \u001b[38;5;28;01melse\u001b[39;00m:\n\u001b[1;32m---> 85\u001b[0m     embeddings \u001b[38;5;241m=\u001b[39m \u001b[38;5;28mself\u001b[39m\u001b[38;5;241m.\u001b[39m_client\u001b[38;5;241m.\u001b[39mencode(\n\u001b[0;32m     86\u001b[0m         texts,\n\u001b[0;32m     87\u001b[0m         show_progress_bar\u001b[38;5;241m=\u001b[39m\u001b[38;5;28mself\u001b[39m\u001b[38;5;241m.\u001b[39mshow_progress,\n\u001b[0;32m     88\u001b[0m         \u001b[38;5;241m*\u001b[39m\u001b[38;5;241m*\u001b[39m\u001b[38;5;28mself\u001b[39m\u001b[38;5;241m.\u001b[39mencode_kwargs,  \u001b[38;5;66;03m# type: ignore\u001b[39;00m\n\u001b[0;32m     89\u001b[0m     )\n\u001b[0;32m     91\u001b[0m \u001b[38;5;28;01mif\u001b[39;00m \u001b[38;5;28misinstance\u001b[39m(embeddings, \u001b[38;5;28mlist\u001b[39m):\n\u001b[0;32m     92\u001b[0m     \u001b[38;5;28;01mraise\u001b[39;00m \u001b[38;5;167;01mTypeError\u001b[39;00m(\n\u001b[0;32m     93\u001b[0m         \u001b[38;5;124m\"\u001b[39m\u001b[38;5;124mExpected embeddings to be a Tensor or a numpy array, \u001b[39m\u001b[38;5;124m\"\u001b[39m\n\u001b[0;32m     94\u001b[0m         \u001b[38;5;124m\"\u001b[39m\u001b[38;5;124mgot a list instead.\u001b[39m\u001b[38;5;124m\"\u001b[39m\n\u001b[0;32m     95\u001b[0m     )\n",
      "File \u001b[1;32me:\\LanggraphAgent\\venv\\lib\\site-packages\\sentence_transformers\\SentenceTransformer.py:685\u001b[0m, in \u001b[0;36mSentenceTransformer.encode\u001b[1;34m(self, sentences, prompt_name, prompt, batch_size, show_progress_bar, output_value, precision, convert_to_numpy, convert_to_tensor, device, normalize_embeddings, **kwargs)\u001b[0m\n\u001b[0;32m    682\u001b[0m features\u001b[38;5;241m.\u001b[39mupdate(extra_features)\n\u001b[0;32m    684\u001b[0m \u001b[38;5;28;01mwith\u001b[39;00m torch\u001b[38;5;241m.\u001b[39mno_grad():\n\u001b[1;32m--> 685\u001b[0m     out_features \u001b[38;5;241m=\u001b[39m \u001b[38;5;28mself\u001b[39m\u001b[38;5;241m.\u001b[39mforward(features, \u001b[38;5;241m*\u001b[39m\u001b[38;5;241m*\u001b[39mkwargs)\n\u001b[0;32m    686\u001b[0m     \u001b[38;5;28;01mif\u001b[39;00m \u001b[38;5;28mself\u001b[39m\u001b[38;5;241m.\u001b[39mdevice\u001b[38;5;241m.\u001b[39mtype \u001b[38;5;241m==\u001b[39m \u001b[38;5;124m\"\u001b[39m\u001b[38;5;124mhpu\u001b[39m\u001b[38;5;124m\"\u001b[39m:\n\u001b[0;32m    687\u001b[0m         out_features \u001b[38;5;241m=\u001b[39m copy\u001b[38;5;241m.\u001b[39mdeepcopy(out_features)\n",
      "File \u001b[1;32me:\\LanggraphAgent\\venv\\lib\\site-packages\\sentence_transformers\\SentenceTransformer.py:758\u001b[0m, in \u001b[0;36mSentenceTransformer.forward\u001b[1;34m(self, input, **kwargs)\u001b[0m\n\u001b[0;32m    756\u001b[0m     module_kwarg_keys \u001b[38;5;241m=\u001b[39m \u001b[38;5;28mself\u001b[39m\u001b[38;5;241m.\u001b[39mmodule_kwargs\u001b[38;5;241m.\u001b[39mget(module_name, [])\n\u001b[0;32m    757\u001b[0m     module_kwargs \u001b[38;5;241m=\u001b[39m {key: value \u001b[38;5;28;01mfor\u001b[39;00m key, value \u001b[38;5;129;01min\u001b[39;00m kwargs\u001b[38;5;241m.\u001b[39mitems() \u001b[38;5;28;01mif\u001b[39;00m key \u001b[38;5;129;01min\u001b[39;00m module_kwarg_keys}\n\u001b[1;32m--> 758\u001b[0m     \u001b[38;5;28minput\u001b[39m \u001b[38;5;241m=\u001b[39m module(\u001b[38;5;28minput\u001b[39m, \u001b[38;5;241m*\u001b[39m\u001b[38;5;241m*\u001b[39mmodule_kwargs)\n\u001b[0;32m    759\u001b[0m \u001b[38;5;28;01mreturn\u001b[39;00m \u001b[38;5;28minput\u001b[39m\n",
      "File \u001b[1;32me:\\LanggraphAgent\\venv\\lib\\site-packages\\torch\\nn\\modules\\module.py:1739\u001b[0m, in \u001b[0;36mModule._wrapped_call_impl\u001b[1;34m(self, *args, **kwargs)\u001b[0m\n\u001b[0;32m   1737\u001b[0m     \u001b[38;5;28;01mreturn\u001b[39;00m \u001b[38;5;28mself\u001b[39m\u001b[38;5;241m.\u001b[39m_compiled_call_impl(\u001b[38;5;241m*\u001b[39margs, \u001b[38;5;241m*\u001b[39m\u001b[38;5;241m*\u001b[39mkwargs)  \u001b[38;5;66;03m# type: ignore[misc]\u001b[39;00m\n\u001b[0;32m   1738\u001b[0m \u001b[38;5;28;01melse\u001b[39;00m:\n\u001b[1;32m-> 1739\u001b[0m     \u001b[38;5;28;01mreturn\u001b[39;00m \u001b[38;5;28mself\u001b[39m\u001b[38;5;241m.\u001b[39m_call_impl(\u001b[38;5;241m*\u001b[39margs, \u001b[38;5;241m*\u001b[39m\u001b[38;5;241m*\u001b[39mkwargs)\n",
      "File \u001b[1;32me:\\LanggraphAgent\\venv\\lib\\site-packages\\torch\\nn\\modules\\module.py:1750\u001b[0m, in \u001b[0;36mModule._call_impl\u001b[1;34m(self, *args, **kwargs)\u001b[0m\n\u001b[0;32m   1745\u001b[0m \u001b[38;5;66;03m# If we don't have any hooks, we want to skip the rest of the logic in\u001b[39;00m\n\u001b[0;32m   1746\u001b[0m \u001b[38;5;66;03m# this function, and just call forward.\u001b[39;00m\n\u001b[0;32m   1747\u001b[0m \u001b[38;5;28;01mif\u001b[39;00m \u001b[38;5;129;01mnot\u001b[39;00m (\u001b[38;5;28mself\u001b[39m\u001b[38;5;241m.\u001b[39m_backward_hooks \u001b[38;5;129;01mor\u001b[39;00m \u001b[38;5;28mself\u001b[39m\u001b[38;5;241m.\u001b[39m_backward_pre_hooks \u001b[38;5;129;01mor\u001b[39;00m \u001b[38;5;28mself\u001b[39m\u001b[38;5;241m.\u001b[39m_forward_hooks \u001b[38;5;129;01mor\u001b[39;00m \u001b[38;5;28mself\u001b[39m\u001b[38;5;241m.\u001b[39m_forward_pre_hooks\n\u001b[0;32m   1748\u001b[0m         \u001b[38;5;129;01mor\u001b[39;00m _global_backward_pre_hooks \u001b[38;5;129;01mor\u001b[39;00m _global_backward_hooks\n\u001b[0;32m   1749\u001b[0m         \u001b[38;5;129;01mor\u001b[39;00m _global_forward_hooks \u001b[38;5;129;01mor\u001b[39;00m _global_forward_pre_hooks):\n\u001b[1;32m-> 1750\u001b[0m     \u001b[38;5;28;01mreturn\u001b[39;00m forward_call(\u001b[38;5;241m*\u001b[39margs, \u001b[38;5;241m*\u001b[39m\u001b[38;5;241m*\u001b[39mkwargs)\n\u001b[0;32m   1752\u001b[0m result \u001b[38;5;241m=\u001b[39m \u001b[38;5;28;01mNone\u001b[39;00m\n\u001b[0;32m   1753\u001b[0m called_always_called_hooks \u001b[38;5;241m=\u001b[39m \u001b[38;5;28mset\u001b[39m()\n",
      "File \u001b[1;32me:\\LanggraphAgent\\venv\\lib\\site-packages\\sentence_transformers\\models\\Transformer.py:442\u001b[0m, in \u001b[0;36mTransformer.forward\u001b[1;34m(self, features, **kwargs)\u001b[0m\n\u001b[0;32m    435\u001b[0m \u001b[38;5;250m\u001b[39m\u001b[38;5;124;03m\"\"\"Returns token_embeddings, cls_token\"\"\"\u001b[39;00m\n\u001b[0;32m    436\u001b[0m trans_features \u001b[38;5;241m=\u001b[39m {\n\u001b[0;32m    437\u001b[0m     key: value\n\u001b[0;32m    438\u001b[0m     \u001b[38;5;28;01mfor\u001b[39;00m key, value \u001b[38;5;129;01min\u001b[39;00m features\u001b[38;5;241m.\u001b[39mitems()\n\u001b[0;32m    439\u001b[0m     \u001b[38;5;28;01mif\u001b[39;00m key \u001b[38;5;129;01min\u001b[39;00m [\u001b[38;5;124m\"\u001b[39m\u001b[38;5;124minput_ids\u001b[39m\u001b[38;5;124m\"\u001b[39m, \u001b[38;5;124m\"\u001b[39m\u001b[38;5;124mattention_mask\u001b[39m\u001b[38;5;124m\"\u001b[39m, \u001b[38;5;124m\"\u001b[39m\u001b[38;5;124mtoken_type_ids\u001b[39m\u001b[38;5;124m\"\u001b[39m, \u001b[38;5;124m\"\u001b[39m\u001b[38;5;124minputs_embeds\u001b[39m\u001b[38;5;124m\"\u001b[39m]\n\u001b[0;32m    440\u001b[0m }\n\u001b[1;32m--> 442\u001b[0m outputs \u001b[38;5;241m=\u001b[39m \u001b[38;5;28mself\u001b[39m\u001b[38;5;241m.\u001b[39mauto_model(\u001b[38;5;241m*\u001b[39m\u001b[38;5;241m*\u001b[39mtrans_features, \u001b[38;5;241m*\u001b[39m\u001b[38;5;241m*\u001b[39mkwargs, return_dict\u001b[38;5;241m=\u001b[39m\u001b[38;5;28;01mTrue\u001b[39;00m)\n\u001b[0;32m    443\u001b[0m token_embeddings \u001b[38;5;241m=\u001b[39m outputs[\u001b[38;5;241m0\u001b[39m]\n\u001b[0;32m    444\u001b[0m features[\u001b[38;5;124m\"\u001b[39m\u001b[38;5;124mtoken_embeddings\u001b[39m\u001b[38;5;124m\"\u001b[39m] \u001b[38;5;241m=\u001b[39m token_embeddings\n",
      "File \u001b[1;32me:\\LanggraphAgent\\venv\\lib\\site-packages\\torch\\nn\\modules\\module.py:1739\u001b[0m, in \u001b[0;36mModule._wrapped_call_impl\u001b[1;34m(self, *args, **kwargs)\u001b[0m\n\u001b[0;32m   1737\u001b[0m     \u001b[38;5;28;01mreturn\u001b[39;00m \u001b[38;5;28mself\u001b[39m\u001b[38;5;241m.\u001b[39m_compiled_call_impl(\u001b[38;5;241m*\u001b[39margs, \u001b[38;5;241m*\u001b[39m\u001b[38;5;241m*\u001b[39mkwargs)  \u001b[38;5;66;03m# type: ignore[misc]\u001b[39;00m\n\u001b[0;32m   1738\u001b[0m \u001b[38;5;28;01melse\u001b[39;00m:\n\u001b[1;32m-> 1739\u001b[0m     \u001b[38;5;28;01mreturn\u001b[39;00m \u001b[38;5;28mself\u001b[39m\u001b[38;5;241m.\u001b[39m_call_impl(\u001b[38;5;241m*\u001b[39margs, \u001b[38;5;241m*\u001b[39m\u001b[38;5;241m*\u001b[39mkwargs)\n",
      "File \u001b[1;32me:\\LanggraphAgent\\venv\\lib\\site-packages\\torch\\nn\\modules\\module.py:1750\u001b[0m, in \u001b[0;36mModule._call_impl\u001b[1;34m(self, *args, **kwargs)\u001b[0m\n\u001b[0;32m   1745\u001b[0m \u001b[38;5;66;03m# If we don't have any hooks, we want to skip the rest of the logic in\u001b[39;00m\n\u001b[0;32m   1746\u001b[0m \u001b[38;5;66;03m# this function, and just call forward.\u001b[39;00m\n\u001b[0;32m   1747\u001b[0m \u001b[38;5;28;01mif\u001b[39;00m \u001b[38;5;129;01mnot\u001b[39;00m (\u001b[38;5;28mself\u001b[39m\u001b[38;5;241m.\u001b[39m_backward_hooks \u001b[38;5;129;01mor\u001b[39;00m \u001b[38;5;28mself\u001b[39m\u001b[38;5;241m.\u001b[39m_backward_pre_hooks \u001b[38;5;129;01mor\u001b[39;00m \u001b[38;5;28mself\u001b[39m\u001b[38;5;241m.\u001b[39m_forward_hooks \u001b[38;5;129;01mor\u001b[39;00m \u001b[38;5;28mself\u001b[39m\u001b[38;5;241m.\u001b[39m_forward_pre_hooks\n\u001b[0;32m   1748\u001b[0m         \u001b[38;5;129;01mor\u001b[39;00m _global_backward_pre_hooks \u001b[38;5;129;01mor\u001b[39;00m _global_backward_hooks\n\u001b[0;32m   1749\u001b[0m         \u001b[38;5;129;01mor\u001b[39;00m _global_forward_hooks \u001b[38;5;129;01mor\u001b[39;00m _global_forward_pre_hooks):\n\u001b[1;32m-> 1750\u001b[0m     \u001b[38;5;28;01mreturn\u001b[39;00m forward_call(\u001b[38;5;241m*\u001b[39margs, \u001b[38;5;241m*\u001b[39m\u001b[38;5;241m*\u001b[39mkwargs)\n\u001b[0;32m   1752\u001b[0m result \u001b[38;5;241m=\u001b[39m \u001b[38;5;28;01mNone\u001b[39;00m\n\u001b[0;32m   1753\u001b[0m called_always_called_hooks \u001b[38;5;241m=\u001b[39m \u001b[38;5;28mset\u001b[39m()\n",
      "File \u001b[1;32me:\\LanggraphAgent\\venv\\lib\\site-packages\\transformers\\models\\bert\\modeling_bert.py:1144\u001b[0m, in \u001b[0;36mBertModel.forward\u001b[1;34m(self, input_ids, attention_mask, token_type_ids, position_ids, head_mask, inputs_embeds, encoder_hidden_states, encoder_attention_mask, past_key_values, use_cache, output_attentions, output_hidden_states, return_dict)\u001b[0m\n\u001b[0;32m   1137\u001b[0m \u001b[38;5;66;03m# Prepare head mask if needed\u001b[39;00m\n\u001b[0;32m   1138\u001b[0m \u001b[38;5;66;03m# 1.0 in head_mask indicate we keep the head\u001b[39;00m\n\u001b[0;32m   1139\u001b[0m \u001b[38;5;66;03m# attention_probs has shape bsz x n_heads x N x N\u001b[39;00m\n\u001b[0;32m   1140\u001b[0m \u001b[38;5;66;03m# input head_mask has shape [num_heads] or [num_hidden_layers x num_heads]\u001b[39;00m\n\u001b[0;32m   1141\u001b[0m \u001b[38;5;66;03m# and head_mask is converted to shape [num_hidden_layers x batch x num_heads x seq_length x seq_length]\u001b[39;00m\n\u001b[0;32m   1142\u001b[0m head_mask \u001b[38;5;241m=\u001b[39m \u001b[38;5;28mself\u001b[39m\u001b[38;5;241m.\u001b[39mget_head_mask(head_mask, \u001b[38;5;28mself\u001b[39m\u001b[38;5;241m.\u001b[39mconfig\u001b[38;5;241m.\u001b[39mnum_hidden_layers)\n\u001b[1;32m-> 1144\u001b[0m encoder_outputs \u001b[38;5;241m=\u001b[39m \u001b[38;5;28;43mself\u001b[39;49m\u001b[38;5;241;43m.\u001b[39;49m\u001b[43mencoder\u001b[49m\u001b[43m(\u001b[49m\n\u001b[0;32m   1145\u001b[0m \u001b[43m    \u001b[49m\u001b[43membedding_output\u001b[49m\u001b[43m,\u001b[49m\n\u001b[0;32m   1146\u001b[0m \u001b[43m    \u001b[49m\u001b[43mattention_mask\u001b[49m\u001b[38;5;241;43m=\u001b[39;49m\u001b[43mextended_attention_mask\u001b[49m\u001b[43m,\u001b[49m\n\u001b[0;32m   1147\u001b[0m \u001b[43m    \u001b[49m\u001b[43mhead_mask\u001b[49m\u001b[38;5;241;43m=\u001b[39;49m\u001b[43mhead_mask\u001b[49m\u001b[43m,\u001b[49m\n\u001b[0;32m   1148\u001b[0m \u001b[43m    \u001b[49m\u001b[43mencoder_hidden_states\u001b[49m\u001b[38;5;241;43m=\u001b[39;49m\u001b[43mencoder_hidden_states\u001b[49m\u001b[43m,\u001b[49m\n\u001b[0;32m   1149\u001b[0m \u001b[43m    \u001b[49m\u001b[43mencoder_attention_mask\u001b[49m\u001b[38;5;241;43m=\u001b[39;49m\u001b[43mencoder_extended_attention_mask\u001b[49m\u001b[43m,\u001b[49m\n\u001b[0;32m   1150\u001b[0m \u001b[43m    \u001b[49m\u001b[43mpast_key_values\u001b[49m\u001b[38;5;241;43m=\u001b[39;49m\u001b[43mpast_key_values\u001b[49m\u001b[43m,\u001b[49m\n\u001b[0;32m   1151\u001b[0m \u001b[43m    \u001b[49m\u001b[43muse_cache\u001b[49m\u001b[38;5;241;43m=\u001b[39;49m\u001b[43muse_cache\u001b[49m\u001b[43m,\u001b[49m\n\u001b[0;32m   1152\u001b[0m \u001b[43m    \u001b[49m\u001b[43moutput_attentions\u001b[49m\u001b[38;5;241;43m=\u001b[39;49m\u001b[43moutput_attentions\u001b[49m\u001b[43m,\u001b[49m\n\u001b[0;32m   1153\u001b[0m \u001b[43m    \u001b[49m\u001b[43moutput_hidden_states\u001b[49m\u001b[38;5;241;43m=\u001b[39;49m\u001b[43moutput_hidden_states\u001b[49m\u001b[43m,\u001b[49m\n\u001b[0;32m   1154\u001b[0m \u001b[43m    \u001b[49m\u001b[43mreturn_dict\u001b[49m\u001b[38;5;241;43m=\u001b[39;49m\u001b[43mreturn_dict\u001b[49m\u001b[43m,\u001b[49m\n\u001b[0;32m   1155\u001b[0m \u001b[43m\u001b[49m\u001b[43m)\u001b[49m\n\u001b[0;32m   1156\u001b[0m sequence_output \u001b[38;5;241m=\u001b[39m encoder_outputs[\u001b[38;5;241m0\u001b[39m]\n\u001b[0;32m   1157\u001b[0m pooled_output \u001b[38;5;241m=\u001b[39m \u001b[38;5;28mself\u001b[39m\u001b[38;5;241m.\u001b[39mpooler(sequence_output) \u001b[38;5;28;01mif\u001b[39;00m \u001b[38;5;28mself\u001b[39m\u001b[38;5;241m.\u001b[39mpooler \u001b[38;5;129;01mis\u001b[39;00m \u001b[38;5;129;01mnot\u001b[39;00m \u001b[38;5;28;01mNone\u001b[39;00m \u001b[38;5;28;01melse\u001b[39;00m \u001b[38;5;28;01mNone\u001b[39;00m\n",
      "File \u001b[1;32me:\\LanggraphAgent\\venv\\lib\\site-packages\\torch\\nn\\modules\\module.py:1739\u001b[0m, in \u001b[0;36mModule._wrapped_call_impl\u001b[1;34m(self, *args, **kwargs)\u001b[0m\n\u001b[0;32m   1737\u001b[0m     \u001b[38;5;28;01mreturn\u001b[39;00m \u001b[38;5;28mself\u001b[39m\u001b[38;5;241m.\u001b[39m_compiled_call_impl(\u001b[38;5;241m*\u001b[39margs, \u001b[38;5;241m*\u001b[39m\u001b[38;5;241m*\u001b[39mkwargs)  \u001b[38;5;66;03m# type: ignore[misc]\u001b[39;00m\n\u001b[0;32m   1738\u001b[0m \u001b[38;5;28;01melse\u001b[39;00m:\n\u001b[1;32m-> 1739\u001b[0m     \u001b[38;5;28;01mreturn\u001b[39;00m \u001b[38;5;28mself\u001b[39m\u001b[38;5;241m.\u001b[39m_call_impl(\u001b[38;5;241m*\u001b[39margs, \u001b[38;5;241m*\u001b[39m\u001b[38;5;241m*\u001b[39mkwargs)\n",
      "File \u001b[1;32me:\\LanggraphAgent\\venv\\lib\\site-packages\\torch\\nn\\modules\\module.py:1750\u001b[0m, in \u001b[0;36mModule._call_impl\u001b[1;34m(self, *args, **kwargs)\u001b[0m\n\u001b[0;32m   1745\u001b[0m \u001b[38;5;66;03m# If we don't have any hooks, we want to skip the rest of the logic in\u001b[39;00m\n\u001b[0;32m   1746\u001b[0m \u001b[38;5;66;03m# this function, and just call forward.\u001b[39;00m\n\u001b[0;32m   1747\u001b[0m \u001b[38;5;28;01mif\u001b[39;00m \u001b[38;5;129;01mnot\u001b[39;00m (\u001b[38;5;28mself\u001b[39m\u001b[38;5;241m.\u001b[39m_backward_hooks \u001b[38;5;129;01mor\u001b[39;00m \u001b[38;5;28mself\u001b[39m\u001b[38;5;241m.\u001b[39m_backward_pre_hooks \u001b[38;5;129;01mor\u001b[39;00m \u001b[38;5;28mself\u001b[39m\u001b[38;5;241m.\u001b[39m_forward_hooks \u001b[38;5;129;01mor\u001b[39;00m \u001b[38;5;28mself\u001b[39m\u001b[38;5;241m.\u001b[39m_forward_pre_hooks\n\u001b[0;32m   1748\u001b[0m         \u001b[38;5;129;01mor\u001b[39;00m _global_backward_pre_hooks \u001b[38;5;129;01mor\u001b[39;00m _global_backward_hooks\n\u001b[0;32m   1749\u001b[0m         \u001b[38;5;129;01mor\u001b[39;00m _global_forward_hooks \u001b[38;5;129;01mor\u001b[39;00m _global_forward_pre_hooks):\n\u001b[1;32m-> 1750\u001b[0m     \u001b[38;5;28;01mreturn\u001b[39;00m forward_call(\u001b[38;5;241m*\u001b[39margs, \u001b[38;5;241m*\u001b[39m\u001b[38;5;241m*\u001b[39mkwargs)\n\u001b[0;32m   1752\u001b[0m result \u001b[38;5;241m=\u001b[39m \u001b[38;5;28;01mNone\u001b[39;00m\n\u001b[0;32m   1753\u001b[0m called_always_called_hooks \u001b[38;5;241m=\u001b[39m \u001b[38;5;28mset\u001b[39m()\n",
      "File \u001b[1;32me:\\LanggraphAgent\\venv\\lib\\site-packages\\transformers\\models\\bert\\modeling_bert.py:695\u001b[0m, in \u001b[0;36mBertEncoder.forward\u001b[1;34m(self, hidden_states, attention_mask, head_mask, encoder_hidden_states, encoder_attention_mask, past_key_values, use_cache, output_attentions, output_hidden_states, return_dict)\u001b[0m\n\u001b[0;32m    684\u001b[0m     layer_outputs \u001b[38;5;241m=\u001b[39m \u001b[38;5;28mself\u001b[39m\u001b[38;5;241m.\u001b[39m_gradient_checkpointing_func(\n\u001b[0;32m    685\u001b[0m         layer_module\u001b[38;5;241m.\u001b[39m\u001b[38;5;21m__call__\u001b[39m,\n\u001b[0;32m    686\u001b[0m         hidden_states,\n\u001b[1;32m   (...)\u001b[0m\n\u001b[0;32m    692\u001b[0m         output_attentions,\n\u001b[0;32m    693\u001b[0m     )\n\u001b[0;32m    694\u001b[0m \u001b[38;5;28;01melse\u001b[39;00m:\n\u001b[1;32m--> 695\u001b[0m     layer_outputs \u001b[38;5;241m=\u001b[39m \u001b[43mlayer_module\u001b[49m\u001b[43m(\u001b[49m\n\u001b[0;32m    696\u001b[0m \u001b[43m        \u001b[49m\u001b[43mhidden_states\u001b[49m\u001b[43m,\u001b[49m\n\u001b[0;32m    697\u001b[0m \u001b[43m        \u001b[49m\u001b[43mattention_mask\u001b[49m\u001b[43m,\u001b[49m\n\u001b[0;32m    698\u001b[0m \u001b[43m        \u001b[49m\u001b[43mlayer_head_mask\u001b[49m\u001b[43m,\u001b[49m\n\u001b[0;32m    699\u001b[0m \u001b[43m        \u001b[49m\u001b[43mencoder_hidden_states\u001b[49m\u001b[43m,\u001b[49m\n\u001b[0;32m    700\u001b[0m \u001b[43m        \u001b[49m\u001b[43mencoder_attention_mask\u001b[49m\u001b[43m,\u001b[49m\n\u001b[0;32m    701\u001b[0m \u001b[43m        \u001b[49m\u001b[43mpast_key_value\u001b[49m\u001b[43m,\u001b[49m\n\u001b[0;32m    702\u001b[0m \u001b[43m        \u001b[49m\u001b[43moutput_attentions\u001b[49m\u001b[43m,\u001b[49m\n\u001b[0;32m    703\u001b[0m \u001b[43m    \u001b[49m\u001b[43m)\u001b[49m\n\u001b[0;32m    705\u001b[0m hidden_states \u001b[38;5;241m=\u001b[39m layer_outputs[\u001b[38;5;241m0\u001b[39m]\n\u001b[0;32m    706\u001b[0m \u001b[38;5;28;01mif\u001b[39;00m use_cache:\n",
      "File \u001b[1;32me:\\LanggraphAgent\\venv\\lib\\site-packages\\torch\\nn\\modules\\module.py:1739\u001b[0m, in \u001b[0;36mModule._wrapped_call_impl\u001b[1;34m(self, *args, **kwargs)\u001b[0m\n\u001b[0;32m   1737\u001b[0m     \u001b[38;5;28;01mreturn\u001b[39;00m \u001b[38;5;28mself\u001b[39m\u001b[38;5;241m.\u001b[39m_compiled_call_impl(\u001b[38;5;241m*\u001b[39margs, \u001b[38;5;241m*\u001b[39m\u001b[38;5;241m*\u001b[39mkwargs)  \u001b[38;5;66;03m# type: ignore[misc]\u001b[39;00m\n\u001b[0;32m   1738\u001b[0m \u001b[38;5;28;01melse\u001b[39;00m:\n\u001b[1;32m-> 1739\u001b[0m     \u001b[38;5;28;01mreturn\u001b[39;00m \u001b[38;5;28mself\u001b[39m\u001b[38;5;241m.\u001b[39m_call_impl(\u001b[38;5;241m*\u001b[39margs, \u001b[38;5;241m*\u001b[39m\u001b[38;5;241m*\u001b[39mkwargs)\n",
      "File \u001b[1;32me:\\LanggraphAgent\\venv\\lib\\site-packages\\torch\\nn\\modules\\module.py:1750\u001b[0m, in \u001b[0;36mModule._call_impl\u001b[1;34m(self, *args, **kwargs)\u001b[0m\n\u001b[0;32m   1745\u001b[0m \u001b[38;5;66;03m# If we don't have any hooks, we want to skip the rest of the logic in\u001b[39;00m\n\u001b[0;32m   1746\u001b[0m \u001b[38;5;66;03m# this function, and just call forward.\u001b[39;00m\n\u001b[0;32m   1747\u001b[0m \u001b[38;5;28;01mif\u001b[39;00m \u001b[38;5;129;01mnot\u001b[39;00m (\u001b[38;5;28mself\u001b[39m\u001b[38;5;241m.\u001b[39m_backward_hooks \u001b[38;5;129;01mor\u001b[39;00m \u001b[38;5;28mself\u001b[39m\u001b[38;5;241m.\u001b[39m_backward_pre_hooks \u001b[38;5;129;01mor\u001b[39;00m \u001b[38;5;28mself\u001b[39m\u001b[38;5;241m.\u001b[39m_forward_hooks \u001b[38;5;129;01mor\u001b[39;00m \u001b[38;5;28mself\u001b[39m\u001b[38;5;241m.\u001b[39m_forward_pre_hooks\n\u001b[0;32m   1748\u001b[0m         \u001b[38;5;129;01mor\u001b[39;00m _global_backward_pre_hooks \u001b[38;5;129;01mor\u001b[39;00m _global_backward_hooks\n\u001b[0;32m   1749\u001b[0m         \u001b[38;5;129;01mor\u001b[39;00m _global_forward_hooks \u001b[38;5;129;01mor\u001b[39;00m _global_forward_pre_hooks):\n\u001b[1;32m-> 1750\u001b[0m     \u001b[38;5;28;01mreturn\u001b[39;00m forward_call(\u001b[38;5;241m*\u001b[39margs, \u001b[38;5;241m*\u001b[39m\u001b[38;5;241m*\u001b[39mkwargs)\n\u001b[0;32m   1752\u001b[0m result \u001b[38;5;241m=\u001b[39m \u001b[38;5;28;01mNone\u001b[39;00m\n\u001b[0;32m   1753\u001b[0m called_always_called_hooks \u001b[38;5;241m=\u001b[39m \u001b[38;5;28mset\u001b[39m()\n",
      "File \u001b[1;32me:\\LanggraphAgent\\venv\\lib\\site-packages\\transformers\\models\\bert\\modeling_bert.py:585\u001b[0m, in \u001b[0;36mBertLayer.forward\u001b[1;34m(self, hidden_states, attention_mask, head_mask, encoder_hidden_states, encoder_attention_mask, past_key_value, output_attentions)\u001b[0m\n\u001b[0;32m    573\u001b[0m \u001b[38;5;28;01mdef\u001b[39;00m\u001b[38;5;250m \u001b[39m\u001b[38;5;21mforward\u001b[39m(\n\u001b[0;32m    574\u001b[0m     \u001b[38;5;28mself\u001b[39m,\n\u001b[0;32m    575\u001b[0m     hidden_states: torch\u001b[38;5;241m.\u001b[39mTensor,\n\u001b[1;32m   (...)\u001b[0m\n\u001b[0;32m    582\u001b[0m ) \u001b[38;5;241m-\u001b[39m\u001b[38;5;241m>\u001b[39m Tuple[torch\u001b[38;5;241m.\u001b[39mTensor]:\n\u001b[0;32m    583\u001b[0m     \u001b[38;5;66;03m# decoder uni-directional self-attention cached key/values tuple is at positions 1,2\u001b[39;00m\n\u001b[0;32m    584\u001b[0m     self_attn_past_key_value \u001b[38;5;241m=\u001b[39m past_key_value[:\u001b[38;5;241m2\u001b[39m] \u001b[38;5;28;01mif\u001b[39;00m past_key_value \u001b[38;5;129;01mis\u001b[39;00m \u001b[38;5;129;01mnot\u001b[39;00m \u001b[38;5;28;01mNone\u001b[39;00m \u001b[38;5;28;01melse\u001b[39;00m \u001b[38;5;28;01mNone\u001b[39;00m\n\u001b[1;32m--> 585\u001b[0m     self_attention_outputs \u001b[38;5;241m=\u001b[39m \u001b[38;5;28;43mself\u001b[39;49m\u001b[38;5;241;43m.\u001b[39;49m\u001b[43mattention\u001b[49m\u001b[43m(\u001b[49m\n\u001b[0;32m    586\u001b[0m \u001b[43m        \u001b[49m\u001b[43mhidden_states\u001b[49m\u001b[43m,\u001b[49m\n\u001b[0;32m    587\u001b[0m \u001b[43m        \u001b[49m\u001b[43mattention_mask\u001b[49m\u001b[43m,\u001b[49m\n\u001b[0;32m    588\u001b[0m \u001b[43m        \u001b[49m\u001b[43mhead_mask\u001b[49m\u001b[43m,\u001b[49m\n\u001b[0;32m    589\u001b[0m \u001b[43m        \u001b[49m\u001b[43moutput_attentions\u001b[49m\u001b[38;5;241;43m=\u001b[39;49m\u001b[43moutput_attentions\u001b[49m\u001b[43m,\u001b[49m\n\u001b[0;32m    590\u001b[0m \u001b[43m        \u001b[49m\u001b[43mpast_key_value\u001b[49m\u001b[38;5;241;43m=\u001b[39;49m\u001b[43mself_attn_past_key_value\u001b[49m\u001b[43m,\u001b[49m\n\u001b[0;32m    591\u001b[0m \u001b[43m    \u001b[49m\u001b[43m)\u001b[49m\n\u001b[0;32m    592\u001b[0m     attention_output \u001b[38;5;241m=\u001b[39m self_attention_outputs[\u001b[38;5;241m0\u001b[39m]\n\u001b[0;32m    594\u001b[0m     \u001b[38;5;66;03m# if decoder, the last output is tuple of self-attn cache\u001b[39;00m\n",
      "File \u001b[1;32me:\\LanggraphAgent\\venv\\lib\\site-packages\\torch\\nn\\modules\\module.py:1739\u001b[0m, in \u001b[0;36mModule._wrapped_call_impl\u001b[1;34m(self, *args, **kwargs)\u001b[0m\n\u001b[0;32m   1737\u001b[0m     \u001b[38;5;28;01mreturn\u001b[39;00m \u001b[38;5;28mself\u001b[39m\u001b[38;5;241m.\u001b[39m_compiled_call_impl(\u001b[38;5;241m*\u001b[39margs, \u001b[38;5;241m*\u001b[39m\u001b[38;5;241m*\u001b[39mkwargs)  \u001b[38;5;66;03m# type: ignore[misc]\u001b[39;00m\n\u001b[0;32m   1738\u001b[0m \u001b[38;5;28;01melse\u001b[39;00m:\n\u001b[1;32m-> 1739\u001b[0m     \u001b[38;5;28;01mreturn\u001b[39;00m \u001b[38;5;28mself\u001b[39m\u001b[38;5;241m.\u001b[39m_call_impl(\u001b[38;5;241m*\u001b[39margs, \u001b[38;5;241m*\u001b[39m\u001b[38;5;241m*\u001b[39mkwargs)\n",
      "File \u001b[1;32me:\\LanggraphAgent\\venv\\lib\\site-packages\\torch\\nn\\modules\\module.py:1750\u001b[0m, in \u001b[0;36mModule._call_impl\u001b[1;34m(self, *args, **kwargs)\u001b[0m\n\u001b[0;32m   1745\u001b[0m \u001b[38;5;66;03m# If we don't have any hooks, we want to skip the rest of the logic in\u001b[39;00m\n\u001b[0;32m   1746\u001b[0m \u001b[38;5;66;03m# this function, and just call forward.\u001b[39;00m\n\u001b[0;32m   1747\u001b[0m \u001b[38;5;28;01mif\u001b[39;00m \u001b[38;5;129;01mnot\u001b[39;00m (\u001b[38;5;28mself\u001b[39m\u001b[38;5;241m.\u001b[39m_backward_hooks \u001b[38;5;129;01mor\u001b[39;00m \u001b[38;5;28mself\u001b[39m\u001b[38;5;241m.\u001b[39m_backward_pre_hooks \u001b[38;5;129;01mor\u001b[39;00m \u001b[38;5;28mself\u001b[39m\u001b[38;5;241m.\u001b[39m_forward_hooks \u001b[38;5;129;01mor\u001b[39;00m \u001b[38;5;28mself\u001b[39m\u001b[38;5;241m.\u001b[39m_forward_pre_hooks\n\u001b[0;32m   1748\u001b[0m         \u001b[38;5;129;01mor\u001b[39;00m _global_backward_pre_hooks \u001b[38;5;129;01mor\u001b[39;00m _global_backward_hooks\n\u001b[0;32m   1749\u001b[0m         \u001b[38;5;129;01mor\u001b[39;00m _global_forward_hooks \u001b[38;5;129;01mor\u001b[39;00m _global_forward_pre_hooks):\n\u001b[1;32m-> 1750\u001b[0m     \u001b[38;5;28;01mreturn\u001b[39;00m forward_call(\u001b[38;5;241m*\u001b[39margs, \u001b[38;5;241m*\u001b[39m\u001b[38;5;241m*\u001b[39mkwargs)\n\u001b[0;32m   1752\u001b[0m result \u001b[38;5;241m=\u001b[39m \u001b[38;5;28;01mNone\u001b[39;00m\n\u001b[0;32m   1753\u001b[0m called_always_called_hooks \u001b[38;5;241m=\u001b[39m \u001b[38;5;28mset\u001b[39m()\n",
      "File \u001b[1;32me:\\LanggraphAgent\\venv\\lib\\site-packages\\transformers\\models\\bert\\modeling_bert.py:515\u001b[0m, in \u001b[0;36mBertAttention.forward\u001b[1;34m(self, hidden_states, attention_mask, head_mask, encoder_hidden_states, encoder_attention_mask, past_key_value, output_attentions)\u001b[0m\n\u001b[0;32m    505\u001b[0m \u001b[38;5;28;01mdef\u001b[39;00m\u001b[38;5;250m \u001b[39m\u001b[38;5;21mforward\u001b[39m(\n\u001b[0;32m    506\u001b[0m     \u001b[38;5;28mself\u001b[39m,\n\u001b[0;32m    507\u001b[0m     hidden_states: torch\u001b[38;5;241m.\u001b[39mTensor,\n\u001b[1;32m   (...)\u001b[0m\n\u001b[0;32m    513\u001b[0m     output_attentions: Optional[\u001b[38;5;28mbool\u001b[39m] \u001b[38;5;241m=\u001b[39m \u001b[38;5;28;01mFalse\u001b[39;00m,\n\u001b[0;32m    514\u001b[0m ) \u001b[38;5;241m-\u001b[39m\u001b[38;5;241m>\u001b[39m Tuple[torch\u001b[38;5;241m.\u001b[39mTensor]:\n\u001b[1;32m--> 515\u001b[0m     self_outputs \u001b[38;5;241m=\u001b[39m \u001b[38;5;28;43mself\u001b[39;49m\u001b[38;5;241;43m.\u001b[39;49m\u001b[43mself\u001b[49m\u001b[43m(\u001b[49m\n\u001b[0;32m    516\u001b[0m \u001b[43m        \u001b[49m\u001b[43mhidden_states\u001b[49m\u001b[43m,\u001b[49m\n\u001b[0;32m    517\u001b[0m \u001b[43m        \u001b[49m\u001b[43mattention_mask\u001b[49m\u001b[43m,\u001b[49m\n\u001b[0;32m    518\u001b[0m \u001b[43m        \u001b[49m\u001b[43mhead_mask\u001b[49m\u001b[43m,\u001b[49m\n\u001b[0;32m    519\u001b[0m \u001b[43m        \u001b[49m\u001b[43mencoder_hidden_states\u001b[49m\u001b[43m,\u001b[49m\n\u001b[0;32m    520\u001b[0m \u001b[43m        \u001b[49m\u001b[43mencoder_attention_mask\u001b[49m\u001b[43m,\u001b[49m\n\u001b[0;32m    521\u001b[0m \u001b[43m        \u001b[49m\u001b[43mpast_key_value\u001b[49m\u001b[43m,\u001b[49m\n\u001b[0;32m    522\u001b[0m \u001b[43m        \u001b[49m\u001b[43moutput_attentions\u001b[49m\u001b[43m,\u001b[49m\n\u001b[0;32m    523\u001b[0m \u001b[43m    \u001b[49m\u001b[43m)\u001b[49m\n\u001b[0;32m    524\u001b[0m     attention_output \u001b[38;5;241m=\u001b[39m \u001b[38;5;28mself\u001b[39m\u001b[38;5;241m.\u001b[39moutput(self_outputs[\u001b[38;5;241m0\u001b[39m], hidden_states)\n\u001b[0;32m    525\u001b[0m     outputs \u001b[38;5;241m=\u001b[39m (attention_output,) \u001b[38;5;241m+\u001b[39m self_outputs[\u001b[38;5;241m1\u001b[39m:]  \u001b[38;5;66;03m# add attentions if we output them\u001b[39;00m\n",
      "File \u001b[1;32me:\\LanggraphAgent\\venv\\lib\\site-packages\\torch\\nn\\modules\\module.py:1739\u001b[0m, in \u001b[0;36mModule._wrapped_call_impl\u001b[1;34m(self, *args, **kwargs)\u001b[0m\n\u001b[0;32m   1737\u001b[0m     \u001b[38;5;28;01mreturn\u001b[39;00m \u001b[38;5;28mself\u001b[39m\u001b[38;5;241m.\u001b[39m_compiled_call_impl(\u001b[38;5;241m*\u001b[39margs, \u001b[38;5;241m*\u001b[39m\u001b[38;5;241m*\u001b[39mkwargs)  \u001b[38;5;66;03m# type: ignore[misc]\u001b[39;00m\n\u001b[0;32m   1738\u001b[0m \u001b[38;5;28;01melse\u001b[39;00m:\n\u001b[1;32m-> 1739\u001b[0m     \u001b[38;5;28;01mreturn\u001b[39;00m \u001b[38;5;28mself\u001b[39m\u001b[38;5;241m.\u001b[39m_call_impl(\u001b[38;5;241m*\u001b[39margs, \u001b[38;5;241m*\u001b[39m\u001b[38;5;241m*\u001b[39mkwargs)\n",
      "File \u001b[1;32me:\\LanggraphAgent\\venv\\lib\\site-packages\\torch\\nn\\modules\\module.py:1750\u001b[0m, in \u001b[0;36mModule._call_impl\u001b[1;34m(self, *args, **kwargs)\u001b[0m\n\u001b[0;32m   1745\u001b[0m \u001b[38;5;66;03m# If we don't have any hooks, we want to skip the rest of the logic in\u001b[39;00m\n\u001b[0;32m   1746\u001b[0m \u001b[38;5;66;03m# this function, and just call forward.\u001b[39;00m\n\u001b[0;32m   1747\u001b[0m \u001b[38;5;28;01mif\u001b[39;00m \u001b[38;5;129;01mnot\u001b[39;00m (\u001b[38;5;28mself\u001b[39m\u001b[38;5;241m.\u001b[39m_backward_hooks \u001b[38;5;129;01mor\u001b[39;00m \u001b[38;5;28mself\u001b[39m\u001b[38;5;241m.\u001b[39m_backward_pre_hooks \u001b[38;5;129;01mor\u001b[39;00m \u001b[38;5;28mself\u001b[39m\u001b[38;5;241m.\u001b[39m_forward_hooks \u001b[38;5;129;01mor\u001b[39;00m \u001b[38;5;28mself\u001b[39m\u001b[38;5;241m.\u001b[39m_forward_pre_hooks\n\u001b[0;32m   1748\u001b[0m         \u001b[38;5;129;01mor\u001b[39;00m _global_backward_pre_hooks \u001b[38;5;129;01mor\u001b[39;00m _global_backward_hooks\n\u001b[0;32m   1749\u001b[0m         \u001b[38;5;129;01mor\u001b[39;00m _global_forward_hooks \u001b[38;5;129;01mor\u001b[39;00m _global_forward_pre_hooks):\n\u001b[1;32m-> 1750\u001b[0m     \u001b[38;5;28;01mreturn\u001b[39;00m forward_call(\u001b[38;5;241m*\u001b[39margs, \u001b[38;5;241m*\u001b[39m\u001b[38;5;241m*\u001b[39mkwargs)\n\u001b[0;32m   1752\u001b[0m result \u001b[38;5;241m=\u001b[39m \u001b[38;5;28;01mNone\u001b[39;00m\n\u001b[0;32m   1753\u001b[0m called_always_called_hooks \u001b[38;5;241m=\u001b[39m \u001b[38;5;28mset\u001b[39m()\n",
      "File \u001b[1;32me:\\LanggraphAgent\\venv\\lib\\site-packages\\transformers\\models\\bert\\modeling_bert.py:395\u001b[0m, in \u001b[0;36mBertSdpaSelfAttention.forward\u001b[1;34m(self, hidden_states, attention_mask, head_mask, encoder_hidden_states, encoder_attention_mask, past_key_value, output_attentions)\u001b[0m\n\u001b[0;32m    383\u001b[0m     \u001b[38;5;28;01mreturn\u001b[39;00m \u001b[38;5;28msuper\u001b[39m()\u001b[38;5;241m.\u001b[39mforward(\n\u001b[0;32m    384\u001b[0m         hidden_states,\n\u001b[0;32m    385\u001b[0m         attention_mask,\n\u001b[1;32m   (...)\u001b[0m\n\u001b[0;32m    390\u001b[0m         output_attentions,\n\u001b[0;32m    391\u001b[0m     )\n\u001b[0;32m    393\u001b[0m bsz, tgt_len, _ \u001b[38;5;241m=\u001b[39m hidden_states\u001b[38;5;241m.\u001b[39msize()\n\u001b[1;32m--> 395\u001b[0m query_layer \u001b[38;5;241m=\u001b[39m \u001b[38;5;28mself\u001b[39m\u001b[38;5;241m.\u001b[39mtranspose_for_scores(\u001b[38;5;28;43mself\u001b[39;49m\u001b[38;5;241;43m.\u001b[39;49m\u001b[43mquery\u001b[49m\u001b[43m(\u001b[49m\u001b[43mhidden_states\u001b[49m\u001b[43m)\u001b[49m)\n\u001b[0;32m    397\u001b[0m \u001b[38;5;66;03m# If this is instantiated as a cross-attention module, the keys and values come from an encoder; the attention\u001b[39;00m\n\u001b[0;32m    398\u001b[0m \u001b[38;5;66;03m# mask needs to be such that the encoder's padding tokens are not attended to.\u001b[39;00m\n\u001b[0;32m    399\u001b[0m is_cross_attention \u001b[38;5;241m=\u001b[39m encoder_hidden_states \u001b[38;5;129;01mis\u001b[39;00m \u001b[38;5;129;01mnot\u001b[39;00m \u001b[38;5;28;01mNone\u001b[39;00m\n",
      "File \u001b[1;32me:\\LanggraphAgent\\venv\\lib\\site-packages\\torch\\nn\\modules\\module.py:1739\u001b[0m, in \u001b[0;36mModule._wrapped_call_impl\u001b[1;34m(self, *args, **kwargs)\u001b[0m\n\u001b[0;32m   1737\u001b[0m     \u001b[38;5;28;01mreturn\u001b[39;00m \u001b[38;5;28mself\u001b[39m\u001b[38;5;241m.\u001b[39m_compiled_call_impl(\u001b[38;5;241m*\u001b[39margs, \u001b[38;5;241m*\u001b[39m\u001b[38;5;241m*\u001b[39mkwargs)  \u001b[38;5;66;03m# type: ignore[misc]\u001b[39;00m\n\u001b[0;32m   1738\u001b[0m \u001b[38;5;28;01melse\u001b[39;00m:\n\u001b[1;32m-> 1739\u001b[0m     \u001b[38;5;28;01mreturn\u001b[39;00m \u001b[38;5;28mself\u001b[39m\u001b[38;5;241m.\u001b[39m_call_impl(\u001b[38;5;241m*\u001b[39margs, \u001b[38;5;241m*\u001b[39m\u001b[38;5;241m*\u001b[39mkwargs)\n",
      "File \u001b[1;32me:\\LanggraphAgent\\venv\\lib\\site-packages\\torch\\nn\\modules\\module.py:1750\u001b[0m, in \u001b[0;36mModule._call_impl\u001b[1;34m(self, *args, **kwargs)\u001b[0m\n\u001b[0;32m   1745\u001b[0m \u001b[38;5;66;03m# If we don't have any hooks, we want to skip the rest of the logic in\u001b[39;00m\n\u001b[0;32m   1746\u001b[0m \u001b[38;5;66;03m# this function, and just call forward.\u001b[39;00m\n\u001b[0;32m   1747\u001b[0m \u001b[38;5;28;01mif\u001b[39;00m \u001b[38;5;129;01mnot\u001b[39;00m (\u001b[38;5;28mself\u001b[39m\u001b[38;5;241m.\u001b[39m_backward_hooks \u001b[38;5;129;01mor\u001b[39;00m \u001b[38;5;28mself\u001b[39m\u001b[38;5;241m.\u001b[39m_backward_pre_hooks \u001b[38;5;129;01mor\u001b[39;00m \u001b[38;5;28mself\u001b[39m\u001b[38;5;241m.\u001b[39m_forward_hooks \u001b[38;5;129;01mor\u001b[39;00m \u001b[38;5;28mself\u001b[39m\u001b[38;5;241m.\u001b[39m_forward_pre_hooks\n\u001b[0;32m   1748\u001b[0m         \u001b[38;5;129;01mor\u001b[39;00m _global_backward_pre_hooks \u001b[38;5;129;01mor\u001b[39;00m _global_backward_hooks\n\u001b[0;32m   1749\u001b[0m         \u001b[38;5;129;01mor\u001b[39;00m _global_forward_hooks \u001b[38;5;129;01mor\u001b[39;00m _global_forward_pre_hooks):\n\u001b[1;32m-> 1750\u001b[0m     \u001b[38;5;28;01mreturn\u001b[39;00m forward_call(\u001b[38;5;241m*\u001b[39margs, \u001b[38;5;241m*\u001b[39m\u001b[38;5;241m*\u001b[39mkwargs)\n\u001b[0;32m   1752\u001b[0m result \u001b[38;5;241m=\u001b[39m \u001b[38;5;28;01mNone\u001b[39;00m\n\u001b[0;32m   1753\u001b[0m called_always_called_hooks \u001b[38;5;241m=\u001b[39m \u001b[38;5;28mset\u001b[39m()\n",
      "File \u001b[1;32me:\\LanggraphAgent\\venv\\lib\\site-packages\\torch\\nn\\modules\\linear.py:125\u001b[0m, in \u001b[0;36mLinear.forward\u001b[1;34m(self, input)\u001b[0m\n\u001b[0;32m    124\u001b[0m \u001b[38;5;28;01mdef\u001b[39;00m\u001b[38;5;250m \u001b[39m\u001b[38;5;21mforward\u001b[39m(\u001b[38;5;28mself\u001b[39m, \u001b[38;5;28minput\u001b[39m: Tensor) \u001b[38;5;241m-\u001b[39m\u001b[38;5;241m>\u001b[39m Tensor:\n\u001b[1;32m--> 125\u001b[0m     \u001b[38;5;28;01mreturn\u001b[39;00m \u001b[43mF\u001b[49m\u001b[38;5;241;43m.\u001b[39;49m\u001b[43mlinear\u001b[49m\u001b[43m(\u001b[49m\u001b[38;5;28;43minput\u001b[39;49m\u001b[43m,\u001b[49m\u001b[43m \u001b[49m\u001b[38;5;28;43mself\u001b[39;49m\u001b[38;5;241;43m.\u001b[39;49m\u001b[43mweight\u001b[49m\u001b[43m,\u001b[49m\u001b[43m \u001b[49m\u001b[38;5;28;43mself\u001b[39;49m\u001b[38;5;241;43m.\u001b[39;49m\u001b[43mbias\u001b[49m\u001b[43m)\u001b[49m\n",
      "\u001b[1;31mKeyboardInterrupt\u001b[0m: "
     ]
    }
   ],
   "source": [
    "vector = FAISS.from_documents(documents,embeddings)\n",
    "retriever = vector.as_retriever()"
   ]
  },
  {
   "cell_type": "code",
   "execution_count": null,
   "id": "963692fb",
   "metadata": {},
   "outputs": [
    {
     "data": {
      "text/plain": [
       "Document(id='60d1c324-78be-4c03-9910-195e0b099d7b', metadata={'source': 'https://blog.langchain.dev/langgraph-studio-the-first-agent-ide/', 'title': 'LangGraph Studio: The first agent IDE', 'description': 'LangGraph Studio provides a specialized agent IDE for visualizing, interacting with, and debugging complex agentic applications. See how to use it on your desktop today.', 'language': 'en'}, page_content=\"0:00\\n\\n                            /0:20\\n\\n\\n1×\\n\\n\\n\\n\\n\\n\\n\\n\\n\\n\\n\\n\\n\\n\\nConclusionBuilding agentic applications differs from traditional software development. While code editors remain important, new IDEs designed for agents are also needed. LangGraph Studio is a step in this direction, and we're excited to see how it enhances your workflow.For more on LangGraph Studio, check out our documentation. You can also watch a video walkthrough on YouTube if that's more your style. You can\\xa0sign up for LangSmith\\xa0today to try out LangGraph Studio for free.We'd also love your feedback - drop us a line at hello@langchain.dev or on Twitter to share your thoughts.\\n\\n\\nJoin our newsletter\\nUpdates from the LangChain team and community\\n\\n\\nEnter your email\\n\\nSubscribe\\n\\nProcessing your application...\\nSuccess! Please check your inbox and click the link to confirm your subscription.\\nSorry, something went wrong. Please try again.\\n\\n\\n\\n\\n\\n\\n\\n\\n\\n\\n\\n\\n\\nSign up\\n\\n\\n\\n\\n\\n            © LangChain Blog 2025\")"
      ]
     },
     "execution_count": 108,
     "metadata": {},
     "output_type": "execute_result"
    }
   ],
   "source": [
    "retriever.invoke(\"What is langgraph studio?\")[0]"
   ]
  },
  {
   "cell_type": "code",
   "execution_count": null,
   "id": "eec875d4",
   "metadata": {},
   "outputs": [],
   "source": [
    "from langchain.tools.retriever import create_retriever_tool\n",
    "retriever_tool = create_retriever_tool(\n",
    "    retriever,\n",
    "    \"langgraph_studio\",\n",
    "    \"Search for information about Langgraph. For any questions about Langgraph, you must use this tool.\"\n",
    ")"
   ]
  },
  {
   "cell_type": "code",
   "execution_count": null,
   "id": "e7beb5f7",
   "metadata": {},
   "outputs": [],
   "source": [
    "from langchain_community.tools.tavily_search import TavilySearchResults\n",
    "search = TavilySearchResults()"
   ]
  },
  {
   "cell_type": "code",
   "execution_count": null,
   "id": "e3390ef9",
   "metadata": {},
   "outputs": [
    {
     "name": "stdout",
     "output_type": "stream",
     "text": [
      "Page: LangChain\n",
      "Summary: LangChain is a software framework that helps facilitate the integration of large language models (LLMs) into applications. As a language model integration framework, LangChain's use-cases largely overlap with those of language models in general, including document analysis and summarization, chatbots, and code analysis.\n",
      "\n",
      "Page: Model Context Protocol\n",
      "Summary: The Model Context Protocol (MCP) is an open standard developed by the artificial intelligence company Anthropic for enabling large language model (LLM) applications to interact with external tools, systems, and data sources. Designed to standardize context exchange between AI assistants and software environments, MCP provides a model-agnostic interface for reading files, executing functions, and handling contextual prompts. It was officially announced and open-sourced by Anthropic in November 2024, with subsequent adoption by major AI providers including OpenAI and Google DeepMind.\n",
      "\n",
      "Page: Retrieval-augmented generation\n",
      "Summary: Retrieval-augmented generation (RAG) is a technique that enables generative artificial intelligence (Gen AI) models to retrieve and incorporate new information. It modifies interactions with a large language model (LLM) so that the model responds to user queries with reference to a specified set of documents, using this information to supplement information from its pre-existing training data. This allows LLMs to use domain-specific and/or updated information. Use cases include providing chatbot access to internal company data or generating responses based on authoritative sources.\n",
      "RAG improves large language models (LLMs) by incorporating information retrieval before generating responses. Unlike traditional LLMs that rely on static training data, RAG pulls relevant text from databases, uploaded documents, or web sources. According to Ars Technica, \"RAG is a way of improving LLM performance, in essence by blending the LLM process with a web search or other document look-up process to help LLMs stick to the facts.\" This method helps reduce AI hallucinations, which have led to real-world issues like chatbots inventing policies or lawyers citing nonexistent legal cases.\n",
      "By dynamically retrieving information, RAG enables AI to provide more accurate responses without frequent retraining. According to IBM, \"RAG also reduces the need for users to continuously train the model on new data and update its parameters as circumstances evolve. In this way, RAG can lower the computational and financial costs of running LLM-powered chatbots in an enterprise setting.\"\n",
      "Beyond efficiency gains, RAG also allows LLMs to include source references in their responses, enabling users to verify information by reviewing cited documents or original sources. This can provide greater transparency, as users can cross-check retrieved content to ensure accuracy and relevance.\n",
      "The term \"retrieval-augmented generation\" (RAG) was first introduced in 2020 by Douwe Kiela, Patrick Lewis, Ethan Perez, Aleksandra Piktus, Fabio Petroni, Vladimir Karpukhin, Naman Goyal, Heinrich Küttler, Mike Lewis, Wen-tau Yih, Tim Rocktäschel, and Sebastian Riedel in their research paper Retrieval-Augmented Generation for Knowledge-Intensive NLP Tasks, at Meta.\n",
      "\n",
      "\n",
      "['https://www.youtube.com/watch?v=qZ9n4V9lZkE&pp=ygUGVW5SYWFo', 'https://www.youtube.com/watch?v=yUu9qHvC4ko&pp=ygUGVW5SYWFo']\n"
     ]
    }
   ],
   "source": [
    "from langchain_community.tools import WikipediaQueryRun, YouTubeSearchTool\n",
    "from langchain_community.utilities import WikipediaAPIWrapper\n",
    "api_wrapper = WikipediaAPIWrapper()\n",
    "wikitool = WikipediaQueryRun(api_wrapper=api_wrapper)\n",
    "print(wikitool.run({\"query\":\"langchain\"}))\n",
    "ytsearch = YouTubeSearchTool(api_wrapper=api_wrapper)\n",
    "print(ytsearch.run(\"UnRaah\"))"
   ]
  },
  {
   "cell_type": "code",
   "execution_count": null,
   "id": "a5e58162",
   "metadata": {},
   "outputs": [],
   "source": [
    "tools = [search, retriever_tool, wikitool, ytsearch]"
   ]
  },
  {
   "cell_type": "code",
   "execution_count": null,
   "id": "55c510dc",
   "metadata": {},
   "outputs": [],
   "source": [
    "llm = ChatGroq(model=\"Gemma2-9b-It\", temperature=0.0, max_tokens=2000)"
   ]
  },
  {
   "cell_type": "code",
   "execution_count": null,
   "id": "bcf54c6c",
   "metadata": {},
   "outputs": [],
   "source": [
    "from langchain.agents import create_tool_calling_agent\n",
    "\n",
    "agent = create_tool_calling_agent(llm, tools, prompt)"
   ]
  },
  {
   "cell_type": "code",
   "execution_count": null,
   "id": "eacece46",
   "metadata": {},
   "outputs": [],
   "source": [
    "from langchain.agents import AgentExecutor\n",
    "\n",
    "agent_executor = AgentExecutor(agent = agent, tools = tools, verbose=True)"
   ]
  },
  {
   "cell_type": "code",
   "execution_count": null,
   "id": "b3c2fd39",
   "metadata": {},
   "outputs": [
    {
     "name": "stdout",
     "output_type": "stream",
     "text": [
      "\n",
      "\n",
      "\u001b[1m> Entering new AgentExecutor chain...\u001b[0m\n",
      "\u001b[32;1m\u001b[1;3m\n",
      "Invoking: `langgraph_studio` with `{'query': 'How to use it?'}`\n",
      "\n",
      "\n",
      "\u001b[0m\u001b[33;1m\u001b[1;3mSign up\n",
      "\n",
      "\n",
      "\n",
      "\n",
      "\n",
      "            © LangChain Blog 2025\n",
      "\n",
      "a specific node) halfway through the agent's trajectory. This creates an iterative process, by letting you interact with and manipulate the state at that point in time.While there is much more to explore, we're excited to introduce LangGraph Studio to start with bringing some of the core features of an agent IDE to the world.How to use LangGraph StudioLangGraph Studio is a desktop app, currently available for Apple Silicon. You can download a version here. Support for more platforms is coming soon.After you download and open LangGraph Studio, you will be prompted to log in with your LangSmith account. All users of LangSmith (including those with free accounts) currently have access to LangGraph Studio while it is in beta. You can sign up for a LangSmith account here.After downloading LangSmith, you can open a directory. At a bare minimum, this directory needs to contain a Python file with a graph defined in it. Next, you will need to create a langgraph.json file containing details\n",
      "\n",
      "is needed to make the development process easier. Building LLM applications differs from traditional software development, requiring different tooling outside of the traditional code editor.Coding is still important to developing LLM applications — after all, production-ready LangGraph applications have complicated custom logic in the nodes and edges of the graphs that are created. We don't aim to replace code editors but, instead, to augment the development experience with tools tailored for LangGraph applications. LangGraph Studio facilitates this by making it easy to visualize and interact with agent graphs, even if development still primarily happens in code. Visualizing graphs helps developers understand their structure. Furthermore, you can modify an agent result (or the logic underlying a specific node) halfway through the agent's trajectory. This creates an iterative process, by letting you interact with and manipulate the state at that point in time.While there is much more\n",
      "\n",
      "0:00\n",
      "\n",
      "                            /0:20\n",
      "\n",
      "\n",
      "1×\n",
      "\n",
      "\n",
      "\n",
      "\n",
      "\n",
      "\n",
      "\n",
      "\n",
      "\n",
      "\n",
      "\n",
      "\n",
      "\n",
      "\n",
      "ConclusionBuilding agentic applications differs from traditional software development. While code editors remain important, new IDEs designed for agents are also needed. LangGraph Studio is a step in this direction, and we're excited to see how it enhances your workflow.For more on LangGraph Studio, check out our documentation. You can also watch a video walkthrough on YouTube if that's more your style. You can sign up for LangSmith today to try out LangGraph Studio for free.We'd also love your feedback - drop us a line at hello@langchain.dev or on Twitter to share your thoughts.\n",
      "\n",
      "\n",
      "Join our newsletter\n",
      "Updates from the LangChain team and community\n",
      "\n",
      "\n",
      "Enter your email\n",
      "\n",
      "Subscribe\n",
      "\n",
      "Processing your application...\n",
      "Success! Please check your inbox and click the link to confirm your subscription.\n",
      "Sorry, something went wrong. Please try again.\n",
      "\n",
      "\n",
      "\n",
      "\n",
      "\n",
      "\n",
      "\n",
      "\n",
      "\n",
      "\n",
      "\n",
      "\n",
      "\n",
      "Sign up\n",
      "\n",
      "\n",
      "\n",
      "\n",
      "\n",
      "            © LangChain Blog 2025\u001b[0m\u001b[32;1m\u001b[1;3m\n",
      "Invoking: `langgraph_studio` with `{'query': 'What is LangGraph Studio?'}`\n",
      "\n",
      "\n",
      "\u001b[0m\u001b[33;1m\u001b[1;3m0:00\n",
      "\n",
      "                            /0:20\n",
      "\n",
      "\n",
      "1×\n",
      "\n",
      "\n",
      "\n",
      "\n",
      "\n",
      "\n",
      "\n",
      "\n",
      "\n",
      "\n",
      "\n",
      "\n",
      "\n",
      "\n",
      "ConclusionBuilding agentic applications differs from traditional software development. While code editors remain important, new IDEs designed for agents are also needed. LangGraph Studio is a step in this direction, and we're excited to see how it enhances your workflow.For more on LangGraph Studio, check out our documentation. You can also watch a video walkthrough on YouTube if that's more your style. You can sign up for LangSmith today to try out LangGraph Studio for free.We'd also love your feedback - drop us a line at hello@langchain.dev or on Twitter to share your thoughts.\n",
      "\n",
      "\n",
      "Join our newsletter\n",
      "Updates from the LangChain team and community\n",
      "\n",
      "\n",
      "Enter your email\n",
      "\n",
      "Subscribe\n",
      "\n",
      "Processing your application...\n",
      "Success! Please check your inbox and click the link to confirm your subscription.\n",
      "Sorry, something went wrong. Please try again.\n",
      "\n",
      "\n",
      "\n",
      "\n",
      "\n",
      "\n",
      "\n",
      "\n",
      "\n",
      "\n",
      "\n",
      "\n",
      "\n",
      "Sign up\n",
      "\n",
      "\n",
      "\n",
      "\n",
      "\n",
      "            © LangChain Blog 2025\n",
      "\n",
      "a specific node) halfway through the agent's trajectory. This creates an iterative process, by letting you interact with and manipulate the state at that point in time.While there is much more to explore, we're excited to introduce LangGraph Studio to start with bringing some of the core features of an agent IDE to the world.How to use LangGraph StudioLangGraph Studio is a desktop app, currently available for Apple Silicon. You can download a version here. Support for more platforms is coming soon.After you download and open LangGraph Studio, you will be prompted to log in with your LangSmith account. All users of LangSmith (including those with free accounts) currently have access to LangGraph Studio while it is in beta. You can sign up for a LangSmith account here.After downloading LangSmith, you can open a directory. At a bare minimum, this directory needs to contain a Python file with a graph defined in it. Next, you will need to create a langgraph.json file containing details\n",
      "\n",
      "LangGraph Studio: The first agent IDE\n",
      "\n",
      "\n",
      "\n",
      "\n",
      "\n",
      "\n",
      "\n",
      "\n",
      "\n",
      "\n",
      "\n",
      "\n",
      "\n",
      "\n",
      "\n",
      "\n",
      "\n",
      "\n",
      "\n",
      "\n",
      "\n",
      "\n",
      "\n",
      "\n",
      "\n",
      "\n",
      "\n",
      "\n",
      "\n",
      "\n",
      "\n",
      "\n",
      "\n",
      "\n",
      "\n",
      "\n",
      "\n",
      "\n",
      "\n",
      "\n",
      "\n",
      "\n",
      "\n",
      "\n",
      "\n",
      "\n",
      "\n",
      "\n",
      "\n",
      "\n",
      "Skip to content\n",
      "\n",
      "\n",
      "\n",
      "\n",
      "\n",
      "\n",
      "\n",
      "\n",
      "\n",
      "\n",
      "\n",
      "\n",
      "\n",
      "\n",
      "\n",
      "\n",
      "Case Studies\n",
      "\n",
      "\n",
      "\n",
      "\n",
      "In the Loop\n",
      "\n",
      "\n",
      "\n",
      "\n",
      "LangChain\n",
      "\n",
      "\n",
      "\n",
      "\n",
      "Docs\n",
      "\n",
      "\n",
      "\n",
      "\n",
      "Changelog\n",
      "\n",
      "\n",
      "\n",
      "\n",
      "\n",
      "Sign in\n",
      "Subscribe\n",
      "\n",
      "\n",
      "\n",
      "\n",
      "\n",
      "\n",
      "\n",
      "\n",
      "\n",
      "\n",
      "\n",
      "\n",
      "\n",
      "\n",
      "\n",
      "\n",
      "\n",
      "\n",
      "\n",
      "LangGraph Studio: The first agent IDE\n",
      "LangGraph Studio provides a specialized agent IDE for visualizing, interacting with, and debugging complex agentic applications. See how to use it on your desktop today.\n",
      "\n",
      "4 min read\n",
      "Aug 1, 2024\n",
      "\n",
      "LLMs have paved the way for the development of new types of agentic applications — and as LLM applications evolve, so must the tooling needed to efficiently develop them. Today, we're announcing LangGraph Studio - the first IDE designed specifically for agent development - in open beta.LangGraph Studio offers a new way to develop LLM applications, providing a specialized agent IDE for visualizing, interacting with, and debugging complex agentic applications. In this blog, we'll give a brief overview of LangGraph and then explore how LangGraph Studio streamlines the development of agentic applications.LangGraph: Balancing agent control with agency  In January 2023, we launched LangGraph, a highly controllable, low-level orchestration framework for building agentic applications. Since then, we've seen  teams build more complex agentic applications for production; in turn, we've heavily invested in LangGraph, leading to a stable 0.1 release this past June.LangGraph features a persistence\u001b[0m\u001b[32;1m\u001b[1;3mLangGraph Studio is a desktop app that provides a specialized IDE for visualizing, interacting with, and debugging complex agentic applications. \n",
      "\u001b[0m\n",
      "\n",
      "\u001b[1m> Finished chain.\u001b[0m\n"
     ]
    }
   ],
   "source": [
    "response = agent_executor.invoke({\"input\":\"Hi! What is a langgraph studio? How to use it?\"})"
   ]
  },
  {
   "cell_type": "code",
   "execution_count": null,
   "id": "fd642882",
   "metadata": {},
   "outputs": [
    {
     "name": "stdout",
     "output_type": "stream",
     "text": [
      "LangGraph Studio is a desktop app that provides a specialized IDE for visualizing, interacting with, and debugging complex agentic applications. \n",
      "\n"
     ]
    }
   ],
   "source": [
    "print(response[\"output\"])"
   ]
  },
  {
   "cell_type": "code",
   "execution_count": null,
   "id": "6d939529",
   "metadata": {},
   "outputs": [
    {
     "name": "stdout",
     "output_type": "stream",
     "text": [
      "\n",
      "\n",
      "\u001b[1m> Entering new AgentExecutor chain...\u001b[0m\n",
      "\u001b[32;1m\u001b[1;3m\n",
      "Invoking: `wikipedia` with `{'query': 'highest mountain peak in Western Ghats'}`\n",
      "\n",
      "\n",
      "\u001b[0m\u001b[38;5;200m\u001b[1;3mPage: List of peaks in the Western Ghats\n",
      "Summary: Following is a list of peaks in the Western Ghats:\n",
      "\n",
      "Page: Western Ghats\n",
      "Summary: The Western Ghats, also known as the Sahyadri, is a mountain range that stretches 1,600 km (990 mi) along the western coast of the Indian peninsula. Covering an area of 160,000 km2 (62,000 sq mi), it traverses the Indian states of Gujarat, Maharashtra, Goa, Karnataka, Kerala, and Tamil Nadu. The range forms an almost continuous chain of mountains along the western edge of the Deccan Plateau, from the Tapti River to Swamithoppe in Kanyakumari district at the southern tip of the Indian peninsula. The Western Ghats meet with the Eastern Ghats at Nilgiris before continuing south.\n",
      "Geologic evidence indicates that the mountains were formed during the break-up of the supercontinent of Gondwana. The mountains came along the west coast of India somewhere in the late Jurassic and early Cretaceous periods when India separated from the African continent. The mountains can be roughly divided into three parts: the northern section with an elevation ranging from 900–1,500 m (3,000–4,900 ft), the middle section starting from the south of Goa with a lower elevation of less than 900 m (3,000 ft), and the southern section where the altitude rises again. The Western Ghats have several peaks that rise above 2,000 m (6,600 ft), with Anamudi (2,695 m (8,842 ft)) being the highest peak. The average elevation is around 1,200 m (3,900 ft).\n",
      "The Western Ghats form one of the major watersheds of India, feeding many perennial river systems that drain almost 40% of the land area of the country. Because of the higher elevation of the Deccan plateau on the west, most rivers flow from eastwards towards the Bay of Bengal, resulting in chiselled eastern slopes and steeper western slopes facing the Arabian Sea. The Western Ghats play an important role in determining the climate and seasons in India. It blocks the rain-bearing monsoon winds flowing eastward from the Arabian Sea, resulting in rainfall along the western coast. By the time the air rises above the mountains, it becomes dry, forming a rain shadow region with very little rainfall on the leeward side towards the interior of the Deccan plateau.\n",
      "The Western Ghats region is a biodiversity hotspot. It contains a large number of different species of flora and fauna, most of which are endemic to this region. At least 325 globally threatened species occur in the Western Ghats. The region was declared as a UNESCO World Heritage Site in 2012.\n",
      "\n",
      "Page: Nilgiri Mountains\n",
      "Summary: The Nilgiri Mountains (IPA: [n̪iːlɐɡiɾi]) form a part of the Western Ghats in northwestern Tamil Nadu, southern Karnataka and eastern Kerala in South India. They are located at the trijunction of the three states and connect the Western Ghats to the Eastern Ghats. At least 24 of the Nilgiri Mountains' peaks are above 2,000 m (6,600 ft), with the highest peak being Doddabetta at 2,637 m (8,652 ft).\u001b[0m\u001b[32;1m\u001b[1;3m\n",
      "Invoking: `wikipedia` with `{'query': 'Anamudi height'}`\n",
      "\n",
      "\n",
      "\u001b[0m\u001b[38;5;200m\u001b[1;3mPage: Idukki district\n",
      "Summary: Idukki (ഇടുക്കി; IPA: [iɖukːi] ) is one of the 14 districts in the Indian state of Kerala in the southwest of the country. It is the largest district in Kerala and lies amid the Cardamom Hills of Western Ghats in Kerala. Idukki district contains two municipal towns – Kattappana and Thodupuzha, and five taluks.\n",
      "The district was constituted on 26 January 1972, by taking Peerumade, Udumbanchola, Devikulam taluks of the former High Range division from Kottayam district and the Thodupuzha taluk from Ernakulam district. Its division was previously headquartered at Kottayam city but moved to Kuyilimala near Painavu and Cheruthoni in June 1976. Malayalam and English are the two official administrative languages in the district. Tamil is the second most spoken language in Idukki district after Malayalam.\n",
      "Around 66% of Kerala's power needs come from various hydroelectric power projects in Idukki district. Numerous cash crops and spices are cultivated throughout the district, making it The Spice Garden of Kerala. A significant area in the district is protected as reserved forests and wildlife sanctuaries. The Periyar River is a major river that originates and flows through Idukki. The Pamba River is another important river that originates from Idukki district.\n",
      "Though it is the largest district in the region in terms of area, it has the lowest population density among the districts of Kerala. There are only two municipalities in the district and the urban population is comparatively much lower than the rural population, due to its mountainous nature. The 2,695 metres (8,842 ft) high peak of Anamudi, which is also the highest point of elevation in India outside the Himalayas, lies in the northern portion of the district of Idukki. The Idukki Dam is one of the highest arch dams in Asia.\n",
      "The major tourism destination of Idukki is Munnar.\n",
      "\n",
      "Page: List of Indian states and union territories by highest point\n",
      "Summary: This is the alphabetical list of the highest points of the Indian states and union territories.\n",
      "\n",
      "Page: Vattavada\n",
      "Summary: Vattavada is a village in Idukki district in the state of Kerala, bordering Tamil Nadu, India. The village is located along Palani Hills in Western Ghats. It is an agricultural village known for growing a wide range of vegetables and fruits in the terrace farmlands.\u001b[0m\u001b[32;1m\u001b[1;3mAnamudi is 2,695 meters (8,842 feet) high.\u001b[0m\n",
      "\n",
      "\u001b[1m> Finished chain.\u001b[0m\n"
     ]
    }
   ],
   "source": [
    "response2 = agent_executor.invoke({\"input\":\"Tell me the highest mountain peak in Western Ghats across India with its height.\"})"
   ]
  },
  {
   "cell_type": "code",
   "execution_count": null,
   "id": "00624472",
   "metadata": {},
   "outputs": [
    {
     "name": "stdout",
     "output_type": "stream",
     "text": [
      "Anamudi is 2,695 meters (8,842 feet) high.\n"
     ]
    }
   ],
   "source": [
    "print(response2[\"output\"])\n"
   ]
  },
  {
   "cell_type": "code",
   "execution_count": null,
   "id": "6d7845b9",
   "metadata": {},
   "outputs": [
    {
     "name": "stderr",
     "output_type": "stream",
     "text": [
      "C:\\Users\\Len\\AppData\\Local\\Temp\\ipykernel_21016\\2027793779.py:1: LangChainDeprecationWarning: The method `Chain.__call__` was deprecated in langchain 0.1.0 and will be removed in 1.0. Use :meth:`~invoke` instead.\n",
      "  response3 = agent_executor({\"input\":\"Find me the link of youtube channel name 'Unraah' where music videos are uploaded.\" })\n"
     ]
    },
    {
     "name": "stdout",
     "output_type": "stream",
     "text": [
      "\n",
      "\n",
      "\u001b[1m> Entering new AgentExecutor chain...\u001b[0m\n",
      "\u001b[32;1m\u001b[1;3m\n",
      "Invoking: `youtube_search` with `{'query': 'Unraah'}`\n",
      "\n",
      "\n",
      "\u001b[0m\u001b[36;1m\u001b[1;3m['https://www.youtube.com/watch?v=qZ9n4V9lZkE&pp=ygUGVW5yYWFo', 'https://www.youtube.com/watch?v=yUu9qHvC4ko&pp=ygUGVW5yYWFo']\u001b[0m\u001b[32;1m\u001b[1;3mhttps://www.youtube.com/watch?v=qZ9n4V9lZkE&pp=ygUGVW5yYWFo \n",
      "\u001b[0m\n",
      "\n",
      "\u001b[1m> Finished chain.\u001b[0m\n"
     ]
    }
   ],
   "source": [
    "response3 = agent_executor({\"input\":\"Find me the link of youtube channel name 'Unraah' where music videos are uploaded.\" })"
   ]
  },
  {
   "cell_type": "code",
   "execution_count": null,
   "id": "bd7dc610",
   "metadata": {},
   "outputs": [
    {
     "data": {
      "text/plain": [
       "'https://www.youtube.com/watch?v=qZ9n4V9lZkE&pp=ygUGVW5yYWFo \\n'"
      ]
     },
     "execution_count": 135,
     "metadata": {},
     "output_type": "execute_result"
    }
   ],
   "source": [
    "response3[\"output\"]"
   ]
  },
  {
   "cell_type": "code",
   "execution_count": null,
   "id": "8d0c3211",
   "metadata": {},
   "outputs": [
    {
     "name": "stdout",
     "output_type": "stream",
     "text": [
      "\n",
      "\n",
      "\u001b[1m> Entering new AgentExecutor chain...\u001b[0m\n",
      "\u001b[32;1m\u001b[1;3m\n",
      "Invoking: `wikipedia` with `{'query': 'List of Indian authors who have won the Booker Prize'}`\n",
      "\n",
      "\n",
      "\u001b[0m\u001b[38;5;200m\u001b[1;3mPage: Booker Prize\n",
      "Summary: The Booker Prize, formerly the Booker Prize for Fiction (1969–2001) and the Man Booker Prize (2002–2019), is a prestigious literary award conferred each year for the best single work of sustained fiction written in the English language, which was published in the United Kingdom or Ireland. The winner of the Booker Prize receives £50,000, as well as international publicity that usually leads to a significant sales boost. When the prize was created, only novels written by Commonwealth, Irish, and South African (and later Zimbabwean) citizens were eligible to receive the prize; in 2014, eligibility was widened to any English-language novel—a change that proved controversial.\n",
      "A five-person panel consisting of authors, publishers and journalists, as well as politicians, actors, artists and musicians, is appointed by the Booker Prize Foundation each year to choose the winning book. Gaby Wood has been the chief executive of the Booker Prize Foundation since 2015.\n",
      "A high-profile literary award in British culture, the Booker Prize is greeted with anticipation and fanfare around the world. Literary critics have noted that it is a mark of distinction for authors to be selected for inclusion in the shortlist or to be nominated for the \"longlist\".\n",
      "A sister prize, the International Booker Prize, is awarded for a work of fiction translated into English and published in the United Kingdom or Ireland. Unlike the Booker Prize, short story collections are eligible for the International Booker Prize. The £50,000 prize money is split evenly between the author and translator of the winning novel.\n",
      "\n",
      "Page: International Booker Prize\n",
      "Summary: The International Booker Prize (formerly known as the Man Booker International Prize) is an international literary award hosted in the United Kingdom. The introduction of the International Prize to complement the Man Booker Prize, as the Booker Prize was then known, was announced in June 2004. Sponsored by the Man Group, from 2005 until 2015 the award was given every two years to a living author of any nationality for a body of work published in English or generally available in English translation. It rewarded one author's \"continued creativity, development and overall contribution to fiction on the world stage\", and was a recognition of the writer's body of work rather than any one title.\n",
      "Since 2016, the award has been given annually to a single work of fiction or collection of short stories, translated into English and published in the United Kingdom or Ireland, with a £50,000 prize for the winning title, shared equally between author and translator.\n",
      "Crankstart, the charitable foundation of Sir Michael Moritz and his wife, Harriet Heyman began supporting The Booker Prizes on 1 June 2019. From this date, the prizes were known as The Booker Prize and The International Booker Prize. Of their support for The Booker Prize Foundation and the prizes, Moritz commented: \"Neither of us can imagine a day where we don’t spend time reading a book. The Booker Prizes are ways of spreading the word about the insights, discoveries, pleasures and joy that spring from great fiction\".\n",
      "\n",
      "Page: List of suicides\n",
      "Summary: The following notable people died by suicide. This includes suicides effected under duress and excludes deaths by accident or misadventure. People who may or may not have died by their own hand, or whose intention to die is disputed, but who are widely believed to have deliberately killed themselves, may be listed.\u001b[0m\u001b[32;1m\u001b[1;3m\n",
      "Invoking: `wikipedia` with `{'query': 'List of Indian authors who have won the Booker Prize'}`\n",
      "\n",
      "\n",
      "\u001b[0m\u001b[38;5;200m\u001b[1;3mPage: Booker Prize\n",
      "Summary: The Booker Prize, formerly the Booker Prize for Fiction (1969–2001) and the Man Booker Prize (2002–2019), is a prestigious literary award conferred each year for the best single work of sustained fiction written in the English language, which was published in the United Kingdom or Ireland. The winner of the Booker Prize receives £50,000, as well as international publicity that usually leads to a significant sales boost. When the prize was created, only novels written by Commonwealth, Irish, and South African (and later Zimbabwean) citizens were eligible to receive the prize; in 2014, eligibility was widened to any English-language novel—a change that proved controversial.\n",
      "A five-person panel consisting of authors, publishers and journalists, as well as politicians, actors, artists and musicians, is appointed by the Booker Prize Foundation each year to choose the winning book. Gaby Wood has been the chief executive of the Booker Prize Foundation since 2015.\n",
      "A high-profile literary award in British culture, the Booker Prize is greeted with anticipation and fanfare around the world. Literary critics have noted that it is a mark of distinction for authors to be selected for inclusion in the shortlist or to be nominated for the \"longlist\".\n",
      "A sister prize, the International Booker Prize, is awarded for a work of fiction translated into English and published in the United Kingdom or Ireland. Unlike the Booker Prize, short story collections are eligible for the International Booker Prize. The £50,000 prize money is split evenly between the author and translator of the winning novel.\n",
      "\n",
      "Page: International Booker Prize\n",
      "Summary: The International Booker Prize (formerly known as the Man Booker International Prize) is an international literary award hosted in the United Kingdom. The introduction of the International Prize to complement the Man Booker Prize, as the Booker Prize was then known, was announced in June 2004. Sponsored by the Man Group, from 2005 until 2015 the award was given every two years to a living author of any nationality for a body of work published in English or generally available in English translation. It rewarded one author's \"continued creativity, development and overall contribution to fiction on the world stage\", and was a recognition of the writer's body of work rather than any one title.\n",
      "Since 2016, the award has been given annually to a single work of fiction or collection of short stories, translated into English and published in the United Kingdom or Ireland, with a £50,000 prize for the winning title, shared equally between author and translator.\n",
      "Crankstart, the charitable foundation of Sir Michael Moritz and his wife, Harriet Heyman began supporting The Booker Prizes on 1 June 2019. From this date, the prizes were known as The Booker Prize and The International Booker Prize. Of their support for The Booker Prize Foundation and the prizes, Moritz commented: \"Neither of us can imagine a day where we don’t spend time reading a book. The Booker Prizes are ways of spreading the word about the insights, discoveries, pleasures and joy that spring from great fiction\".\n",
      "\n",
      "Page: List of suicides\n",
      "Summary: The following notable people died by suicide. This includes suicides effected under duress and excludes deaths by accident or misadventure. People who may or may not have died by their own hand, or whose intention to die is disputed, but who are widely believed to have deliberately killed themselves, may be listed.\u001b[0m\u001b[32;1m\u001b[1;3m\n",
      "Invoking: `wikipedia` with `{'query': 'List of Indian authors who have won the Booker Prize'}`\n",
      "\n",
      "\n",
      "\u001b[0m\u001b[38;5;200m\u001b[1;3mPage: Booker Prize\n",
      "Summary: The Booker Prize, formerly the Booker Prize for Fiction (1969–2001) and the Man Booker Prize (2002–2019), is a prestigious literary award conferred each year for the best single work of sustained fiction written in the English language, which was published in the United Kingdom or Ireland. The winner of the Booker Prize receives £50,000, as well as international publicity that usually leads to a significant sales boost. When the prize was created, only novels written by Commonwealth, Irish, and South African (and later Zimbabwean) citizens were eligible to receive the prize; in 2014, eligibility was widened to any English-language novel—a change that proved controversial.\n",
      "A five-person panel consisting of authors, publishers and journalists, as well as politicians, actors, artists and musicians, is appointed by the Booker Prize Foundation each year to choose the winning book. Gaby Wood has been the chief executive of the Booker Prize Foundation since 2015.\n",
      "A high-profile literary award in British culture, the Booker Prize is greeted with anticipation and fanfare around the world. Literary critics have noted that it is a mark of distinction for authors to be selected for inclusion in the shortlist or to be nominated for the \"longlist\".\n",
      "A sister prize, the International Booker Prize, is awarded for a work of fiction translated into English and published in the United Kingdom or Ireland. Unlike the Booker Prize, short story collections are eligible for the International Booker Prize. The £50,000 prize money is split evenly between the author and translator of the winning novel.\n",
      "\n",
      "Page: International Booker Prize\n",
      "Summary: The International Booker Prize (formerly known as the Man Booker International Prize) is an international literary award hosted in the United Kingdom. The introduction of the International Prize to complement the Man Booker Prize, as the Booker Prize was then known, was announced in June 2004. Sponsored by the Man Group, from 2005 until 2015 the award was given every two years to a living author of any nationality for a body of work published in English or generally available in English translation. It rewarded one author's \"continued creativity, development and overall contribution to fiction on the world stage\", and was a recognition of the writer's body of work rather than any one title.\n",
      "Since 2016, the award has been given annually to a single work of fiction or collection of short stories, translated into English and published in the United Kingdom or Ireland, with a £50,000 prize for the winning title, shared equally between author and translator.\n",
      "Crankstart, the charitable foundation of Sir Michael Moritz and his wife, Harriet Heyman began supporting The Booker Prizes on 1 June 2019. From this date, the prizes were known as The Booker Prize and The International Booker Prize. Of their support for The Booker Prize Foundation and the prizes, Moritz commented: \"Neither of us can imagine a day where we don’t spend time reading a book. The Booker Prizes are ways of spreading the word about the insights, discoveries, pleasures and joy that spring from great fiction\".\n",
      "\n",
      "Page: List of suicides\n",
      "Summary: The following notable people died by suicide. This includes suicides effected under duress and excludes deaths by accident or misadventure. People who may or may not have died by their own hand, or whose intention to die is disputed, but who are widely believed to have deliberately killed themselves, may be listed.\u001b[0m\u001b[32;1m\u001b[1;3m\n",
      "Invoking: `wikipedia` with `{'query': 'List of Indian authors who have won the Booker Prize'}`\n",
      "\n",
      "\n",
      "\u001b[0m\u001b[38;5;200m\u001b[1;3mPage: Booker Prize\n",
      "Summary: The Booker Prize, formerly the Booker Prize for Fiction (1969–2001) and the Man Booker Prize (2002–2019), is a prestigious literary award conferred each year for the best single work of sustained fiction written in the English language, which was published in the United Kingdom or Ireland. The winner of the Booker Prize receives £50,000, as well as international publicity that usually leads to a significant sales boost. When the prize was created, only novels written by Commonwealth, Irish, and South African (and later Zimbabwean) citizens were eligible to receive the prize; in 2014, eligibility was widened to any English-language novel—a change that proved controversial.\n",
      "A five-person panel consisting of authors, publishers and journalists, as well as politicians, actors, artists and musicians, is appointed by the Booker Prize Foundation each year to choose the winning book. Gaby Wood has been the chief executive of the Booker Prize Foundation since 2015.\n",
      "A high-profile literary award in British culture, the Booker Prize is greeted with anticipation and fanfare around the world. Literary critics have noted that it is a mark of distinction for authors to be selected for inclusion in the shortlist or to be nominated for the \"longlist\".\n",
      "A sister prize, the International Booker Prize, is awarded for a work of fiction translated into English and published in the United Kingdom or Ireland. Unlike the Booker Prize, short story collections are eligible for the International Booker Prize. The £50,000 prize money is split evenly between the author and translator of the winning novel.\n",
      "\n",
      "Page: International Booker Prize\n",
      "Summary: The International Booker Prize (formerly known as the Man Booker International Prize) is an international literary award hosted in the United Kingdom. The introduction of the International Prize to complement the Man Booker Prize, as the Booker Prize was then known, was announced in June 2004. Sponsored by the Man Group, from 2005 until 2015 the award was given every two years to a living author of any nationality for a body of work published in English or generally available in English translation. It rewarded one author's \"continued creativity, development and overall contribution to fiction on the world stage\", and was a recognition of the writer's body of work rather than any one title.\n",
      "Since 2016, the award has been given annually to a single work of fiction or collection of short stories, translated into English and published in the United Kingdom or Ireland, with a £50,000 prize for the winning title, shared equally between author and translator.\n",
      "Crankstart, the charitable foundation of Sir Michael Moritz and his wife, Harriet Heyman began supporting The Booker Prizes on 1 June 2019. From this date, the prizes were known as The Booker Prize and The International Booker Prize. Of their support for The Booker Prize Foundation and the prizes, Moritz commented: \"Neither of us can imagine a day where we don’t spend time reading a book. The Booker Prizes are ways of spreading the word about the insights, discoveries, pleasures and joy that spring from great fiction\".\n",
      "\n",
      "Page: List of suicides\n",
      "Summary: The following notable people died by suicide. This includes suicides effected under duress and excludes deaths by accident or misadventure. People who may or may not have died by their own hand, or whose intention to die is disputed, but who are widely believed to have deliberately killed themselves, may be listed.\u001b[0m\u001b[32;1m\u001b[1;3m\n",
      "Invoking: `wikipedia` with `{'query': 'List of Indian authors who have won the Booker Prize'}`\n",
      "\n",
      "\n",
      "\u001b[0m\u001b[38;5;200m\u001b[1;3mPage: Booker Prize\n",
      "Summary: The Booker Prize, formerly the Booker Prize for Fiction (1969–2001) and the Man Booker Prize (2002–2019), is a prestigious literary award conferred each year for the best single work of sustained fiction written in the English language, which was published in the United Kingdom or Ireland. The winner of the Booker Prize receives £50,000, as well as international publicity that usually leads to a significant sales boost. When the prize was created, only novels written by Commonwealth, Irish, and South African (and later Zimbabwean) citizens were eligible to receive the prize; in 2014, eligibility was widened to any English-language novel—a change that proved controversial.\n",
      "A five-person panel consisting of authors, publishers and journalists, as well as politicians, actors, artists and musicians, is appointed by the Booker Prize Foundation each year to choose the winning book. Gaby Wood has been the chief executive of the Booker Prize Foundation since 2015.\n",
      "A high-profile literary award in British culture, the Booker Prize is greeted with anticipation and fanfare around the world. Literary critics have noted that it is a mark of distinction for authors to be selected for inclusion in the shortlist or to be nominated for the \"longlist\".\n",
      "A sister prize, the International Booker Prize, is awarded for a work of fiction translated into English and published in the United Kingdom or Ireland. Unlike the Booker Prize, short story collections are eligible for the International Booker Prize. The £50,000 prize money is split evenly between the author and translator of the winning novel.\n",
      "\n",
      "Page: International Booker Prize\n",
      "Summary: The International Booker Prize (formerly known as the Man Booker International Prize) is an international literary award hosted in the United Kingdom. The introduction of the International Prize to complement the Man Booker Prize, as the Booker Prize was then known, was announced in June 2004. Sponsored by the Man Group, from 2005 until 2015 the award was given every two years to a living author of any nationality for a body of work published in English or generally available in English translation. It rewarded one author's \"continued creativity, development and overall contribution to fiction on the world stage\", and was a recognition of the writer's body of work rather than any one title.\n",
      "Since 2016, the award has been given annually to a single work of fiction or collection of short stories, translated into English and published in the United Kingdom or Ireland, with a £50,000 prize for the winning title, shared equally between author and translator.\n",
      "Crankstart, the charitable foundation of Sir Michael Moritz and his wife, Harriet Heyman began supporting The Booker Prizes on 1 June 2019. From this date, the prizes were known as The Booker Prize and The International Booker Prize. Of their support for The Booker Prize Foundation and the prizes, Moritz commented: \"Neither of us can imagine a day where we don’t spend time reading a book. The Booker Prizes are ways of spreading the word about the insights, discoveries, pleasures and joy that spring from great fiction\".\n",
      "\n",
      "Page: List of suicides\n",
      "Summary: The following notable people died by suicide. This includes suicides effected under duress and excludes deaths by accident or misadventure. People who may or may not have died by their own hand, or whose intention to die is disputed, but who are widely believed to have deliberately killed themselves, may be listed.\u001b[0m\u001b[32;1m\u001b[1;3m```json\n",
      "{\n",
      "\t\"tool_call\": {\n",
      "\t\t\"id\": \"pending\",\n",
      "\t\t\"type\": \"function\",\n",
      "\t\t\"function\": {\n",
      "\t\t\t\"name\": \"wikipedia\",\n",
      "\t\t\t\"parameters\": {\n",
      "\t\t\t\t\"query\": \"List of Indian authors who have won the Booker Prize\"\n",
      "\t\t\t}\n",
      "\t\t}\n",
      "\t}\n",
      "```\n",
      "```json\n",
      "{\n",
      "\t\"tool_call\": {\n",
      "\t\t\"id\": \"pending\",\n",
      "\t\t\"type\": \"function\",\n",
      "\t\t\"function\": {\n",
      "\t\t\t\"name\": \"wikipedia\",\n",
      "\t\t\t\"parameters\": {\n",
      "\t\t\t\t\"query\": \"List of Indian authors who have won the Booker Prize\"\n",
      "\t\t\t}\n",
      "\t\t}\n",
      "\t}\n",
      "```json\n",
      "{\n",
      "\t\"tool_call\": {\n",
      "\t\t\"id\": \"pending\",\n",
      "\t\t\"type\": \"function\",\n",
      "\t\t\"function\": {\n",
      "\t\t\t\"name\": \"wikipedia\",\n",
      "\t\t\t\"parameters\": {\n",
      "\t\t\t\t\"query\": \"List of Indian authors who have won the Booker Prize\"\n",
      "\t\t\t}\n",
      "\t\t}\n",
      "\t}\n",
      "```json\n",
      "{\n",
      "\t\"tool_call\": {\n",
      "\t\t\"id\": \"pending\",\n",
      "\t\t\"type\": \"function\",\n",
      "\t\t\"function\": {\n",
      "\t\t\t\"name\": \"wikipedia\",\n",
      "\t\t\t\"parameters\": {\n",
      "\t\t\t\t\"query\": \"List of Indian authors who have won the Booker Prize\"\n",
      "\t\t\t}\n",
      "\t\t}\n",
      "\t}\n",
      "```json\n",
      "{\n",
      "\t\"tool_call\": {\n",
      "\t\t\"id\": \"pending\",\n",
      "\t\t\"type\": \"function\",\n",
      "\t\t\"function\": {\n",
      "\t\t\t\"name\": \"wikipedia\",\n",
      "\t\t\t\"parameters\": {\n",
      "\t\t\t\t\"query\": \"List of Indian authors who have won the Booker Prize\"\n",
      "\t\t\t}\n",
      "\t\t}\n",
      "\t}\n",
      "```json\n",
      "{\n",
      "\t\"tool_tool_call\": {\n",
      "\t\t\"id\": \"pending\",\n",
      "\t\t\"type\": \"function\",\n",
      "\t\t\"function\": {\n",
      "\t\t\t\"name\": \"wikipedia\",\n",
      "\t\t\t\"parameters\": {\n",
      "\t\t\t\t\"query\": \"List of Indian authors who have won the Booker Prize\"\n",
      "\t\t\t}\n",
      "\t\t}\n",
      "\t}\n",
      "```json\n",
      "{\n",
      "\t\"tool_call\": {\n",
      "\t\t\"id\": \"pending\",\n",
      "\t\t\"type\": \"function\",\n",
      "\t\t\"function\": {\n",
      "\t\t\t\"name\": \"wikipedia\",\n",
      "\t\t\t\"parameters\": {\n",
      "\t\t\t\t\"query\": \"List of Indian authors who have won the Booker Prize\"\n",
      "\t\t\t}\n",
      "\t\t}\n",
      "\t}\n",
      "```json\n",
      "{\n",
      "\t\"tool_call\": {\n",
      "\t\t\"id\": \"pending\",\n",
      "\t\t\"type\": \"function\",\n",
      "\t\t\"function\": {\n",
      "\t\t\t\"name\": \"wikipedia\",\n",
      "\t\t\t\"parameters\": {\n",
      "\t\t\t\t\"query\": \"List of Indian authors who have won the Booker Prize\"\n",
      "\t\t\t}\n",
      "\t\t}\n",
      "\t}\n",
      "```json\n",
      "{\n",
      "\t\"tool_call\": {\n",
      "\t\t\"id\": \"pending\",\n",
      "\t\t\"type\": \"function\",\n",
      "\t\t\"function\": {\n",
      "\t\t\t\"name\": \"wikipedia\",\n",
      "\t\t\t\"parameters\": {\n",
      "\t\t\t\t\"query\": \"List of Indian authors who have won the Booker Prize\"\n",
      "\t\t\t}\n",
      "\t\t}\n",
      "\t}\n",
      "```json\n",
      "{\n",
      "\t\"tool_call\": {\n",
      "\t\t\"id\": \"pending\",\n",
      "\t\t\"type\": \"function\",\n",
      "\t\t\"function\": {\n",
      "\t\t\t\"name\": \"wikipedia\",\n",
      "\t\t\t\"parameters\": {\n",
      "\t\t\t\t\"query\": \"List of Indian authors who have won the Booker Prize\"\n",
      "\t\t\t}\n",
      "\t\t}\n",
      "\t}\n",
      "```json\n",
      "{\n",
      "\t\"tool_tool_call\": {\n",
      "\t\t\"id\": \"pending\",\n",
      "\t\t\"type\": \"function\",\n",
      "\t\t\"function\": {\n",
      "\t\t\t\"name\": \"wikipedia\",\n",
      "\t\t\t\"parameters\": {\n",
      "\t\t\t\t\"query\": \"List of Indian authors who have won the Booker Prize\"\n",
      "\t\t\t}\n",
      "\t\t}\n",
      "\t}\n",
      "```json\n",
      "{\n",
      "\t\"tool_call\": {\n",
      "\t\t\"id\": \"pending\",\n",
      "\t\t\"type\": \"function\",\n",
      "\t\t\"function\": {\n",
      "\t\t\t\"name\": \"wikipedia\",\n",
      "\t\t\t\"parameters\": {\n",
      "\t\t\t\t\"query\": \"List of Indian authors who have won the Booker Prize\"\n",
      "\t\t\t}\n",
      "\t\t}\n",
      "\t}\n",
      "```json\n",
      "{\n",
      "\t\"tool_call\": {\n",
      "\t\t\"id\": \"pending\",\n",
      "\t\t\"type\": \"function\",\n",
      "\t\t\"function\": {\n",
      "\t\t\t\"name\": \"wikipedia\",\n",
      "\t\t\t\"parameters\": {\n",
      "\t\t\t\t\"query\": \"List of Indian authors who have won the Booker Prize\"\n",
      "\t\t\t}\n",
      "\t\t}\n",
      "\t}\n",
      "```json\n",
      "{\n",
      "\t\"tool_call\": {\n",
      "\t\t\"id\": \"pending\",\n",
      "\t\t\"type\": \"function\",\n",
      "\t\t\"function\": {\n",
      "\t\t\t\"name\": \"wikipedia\",\n",
      "\t\t\t\"parameters\": {\n",
      "\t\t\t\t\"query\": \"List of Indian authors who have won the Booker Prize\"\n",
      "\t\t\t}\n",
      "\t\t}\n",
      "\t}\n",
      "```json\n",
      "{\n",
      "\t\"tool_call\": {\n",
      "\t\t\"id\": \"pending\",\n",
      "\t\t\"type\": \"function\",\n",
      "\t\t\"function\": {\n",
      "\t\t\t\"name\": \"wikipedia\",\n",
      "\t\t\t\"parameters\": {\n",
      "\t\t\t\t\"query\": \"List of Indian authors who have won the Booker Prize\"\n",
      "\t\t\t}\n",
      "\t\t}\n",
      "\t}\n",
      "```json\n",
      "{\n",
      "\t\"tool_call\": {\n",
      "\t\t\"id\": \"pending\",\n",
      "\t\t\"type\": \"function\",\n",
      "\t\t\"function\": {\n",
      "\t\t\t\"name\": \"wikipedia\",\n",
      "\t\t\t\"parameters\": {\n",
      "\t\t\t\t\"query\": \"List of Indian authors who have won the Booker Prize\"\n",
      "\t\t\t}\n",
      "\t\t}\n",
      "\t}\n",
      "```json\n",
      "{\n",
      "\t\"tool_call\": {\n",
      "\t\t\"id\": \"pending\",\n",
      "\t\t\"type\": \"function\",\n",
      "\t\t\"function\": {\n",
      "\t\t\t\"name\": \"wikipedia\",\n",
      "\t\t\t\"parameters\": {\n",
      "\t\t\t\t\"query\": \"List of Indian authors who have won the Booker Prize\"\n",
      "\t\t\t}\n",
      "\t\t}\n",
      "\t}\n",
      "```json\n",
      "{\n",
      "\t\"tool_call\": {\n",
      "\t\t\"id\": \"pending\",\n",
      "\t\t\"type\": \"function\",\n",
      "\t\t\"function\": {\n",
      "\t\t\t\"name\": \"wikipedia\",\n",
      "\t\t\t\"parameters\": {\n",
      "\t\t\t\t\"query\": \"List of Indian authors who have won the Booker Prize\"\n",
      "\t\t\t}\n",
      "\t\t}\n",
      "\t}\n",
      "```json\n",
      "{\n",
      "\t\"tool_tool_call\": {\n",
      "\t\t\"id\": \"pending\",\n",
      "\t\t\"type\": \"function\",\n",
      "\t\t\"function\": {\n",
      "\t\t\t\"name\": \"wikipedia\",\n",
      "\t\t\t\"parameters\": {\n",
      "\t\t\t\t\"query\": \"List of Indian authors who have won the Booker Prize\"\n",
      "\t\t\t}\n",
      "\t\t}\n",
      "\t}\n",
      "```json\n",
      "{\n",
      "\t\"tool_call\": {\n",
      "\t\t\"id\": \"pending\",\n",
      "\t\t\"type\": \"function\",\n",
      "\t\t\"function\": {\n",
      "\t\t\t\"name\": \"wikipedia\",\n",
      "\t\t\t\"parameters\": {\n",
      "\t\t\t\t\"query\": \"List of Indian authors who have won the Booker Prize\"\n",
      "\t\t\t}\n",
      "\t\t}\n",
      "\t}\n",
      "```json\n",
      "{\n",
      "\t\"tool_call\": {\n",
      "\t\t\"id\": \"pending\",\n",
      "\t\t\"type\": \"function\",\n",
      "\t\t\"function\": {\n",
      "\t\t\t\"name\": \"wikipedia\",\n",
      "\t\t\t\"parameters\": {\n",
      "\t\t\t\t\"query\": \"List of Indian authors who have won the Booker Prize\"\n",
      "\t\t\t}\n",
      "\t\t}\n",
      "\t}\n",
      "```json\n",
      "{\n",
      "\t\"tool_call\": {\n",
      "\t\t\"id\": \"pending\",\n",
      "\t\t\"function\": {\n",
      "\t\t\t\"name\": \"wikipedia\",\n",
      "\t\t\t\"parameters\": {\n",
      "\t\t\t\t\"query\": \"List of Indian authors who have won the Booker Prize\"\n",
      "\t\t\t}\n",
      "\t\t}\n",
      "\t}\n",
      "```json\n",
      "\t\"tool_call\": {\n",
      "\t\t\"id\": \"pending\",\n",
      "\t\t\"function\": {\n",
      "\t\t\t\"name\": \"wikipedia\",\n",
      "\t\t\t\"parameters\": {\n",
      "\t\t\t\t\"query\": \"List of Indian authors who have won the Booker Prize\"\n",
      "\t\t\t}\n",
      "\t\t}\n",
      "\t}\n",
      "```json\n",
      "\t\"tool_call\": {\n",
      "\t\t\"id\": \"pending\",\n",
      "\t\t\"function\": {\n",
      "\t\t\t\"name\": \"wikipedia\",\n",
      "\t\t\t\"parameters\": {\n",
      "\t\t\t\t\"query\": \"List of Indian authors who have won the Booker Prize\"\n",
      "\t\t\t}\n",
      "\t\t}\n",
      "\t}\n",
      "```json\n",
      "\t\"tool_call\": {\n",
      "\t\t\"id\": \"pending\",\n",
      "\t\t\"function\": {\n",
      "\t\t\t\"name\": \"wikipedia\",\n",
      "\t\t\t\"parameters\": {\n",
      "\t\t\t\t\"query\": \"List of Indian authors who have won the Booker Prize\"\n",
      "\t\t\t}\n",
      "\t\t}\n",
      "\t}\n",
      "\t\"tool_call\": {\n",
      "\t\t\"id\": \"pending\",\n",
      "\t\t\"function\": {\n",
      "\t\t\t\"name\": \"wikipedia\",\n",
      "\t\t\t\"parameters\": {\n",
      "\t\t\t\t\"query\": \"List of Indian authors who have won the Booker Prize\"\n",
      "\t\t\t}\n",
      "\t\t}\n",
      "\t}\n",
      "\t\"tool_call\": {\n",
      "\t\t\"id\": \"pending\",\n",
      "\t\t\"function\": {\n",
      "\t\t\t\"name\": \"wikipedia\",\n",
      "\t\t\t\"parameters\": {\n",
      "\t\t\t\t\"query\": \"List of Indian authors who have won the Booker Prize\"\n",
      "\t\t\t}\n",
      "\t\t}\n",
      "\t}\n",
      "\t\"tool_call\": {\n",
      "\t\t\"id\": \"pending\",\n",
      "\t\t\"function\": {\n",
      "\t\t\t\"name\": \"wikipedia\",\n",
      "\u001b[0m\n",
      "\n",
      "\u001b[1m> Finished chain.\u001b[0m\n"
     ]
    }
   ],
   "source": [
    "response3 = agent_executor({\"input\":\"Give me a list of Indian Authors who've won Bookers Prize along with their book names.\"})"
   ]
  },
  {
   "cell_type": "code",
   "execution_count": null,
   "id": "b500f8fb",
   "metadata": {},
   "outputs": [
    {
     "name": "stdout",
     "output_type": "stream",
     "text": [
      "```json\n",
      "{\n",
      "\t\"tool_call\": {\n",
      "\t\t\"id\": \"pending\",\n",
      "\t\t\"type\": \"function\",\n",
      "\t\t\"function\": {\n",
      "\t\t\t\"name\": \"wikipedia\",\n",
      "\t\t\t\"parameters\": {\n",
      "\t\t\t\t\"query\": \"List of Indian authors who have won the Booker Prize\"\n",
      "\t\t\t}\n",
      "\t\t}\n",
      "\t}\n",
      "```\n",
      "```json\n",
      "{\n",
      "\t\"tool_call\": {\n",
      "\t\t\"id\": \"pending\",\n",
      "\t\t\"type\": \"function\",\n",
      "\t\t\"function\": {\n",
      "\t\t\t\"name\": \"wikipedia\",\n",
      "\t\t\t\"parameters\": {\n",
      "\t\t\t\t\"query\": \"List of Indian authors who have won the Booker Prize\"\n",
      "\t\t\t}\n",
      "\t\t}\n",
      "\t}\n",
      "```json\n",
      "{\n",
      "\t\"tool_call\": {\n",
      "\t\t\"id\": \"pending\",\n",
      "\t\t\"type\": \"function\",\n",
      "\t\t\"function\": {\n",
      "\t\t\t\"name\": \"wikipedia\",\n",
      "\t\t\t\"parameters\": {\n",
      "\t\t\t\t\"query\": \"List of Indian authors who have won the Booker Prize\"\n",
      "\t\t\t}\n",
      "\t\t}\n",
      "\t}\n",
      "```json\n",
      "{\n",
      "\t\"tool_call\": {\n",
      "\t\t\"id\": \"pending\",\n",
      "\t\t\"type\": \"function\",\n",
      "\t\t\"function\": {\n",
      "\t\t\t\"name\": \"wikipedia\",\n",
      "\t\t\t\"parameters\": {\n",
      "\t\t\t\t\"query\": \"List of Indian authors who have won the Booker Prize\"\n",
      "\t\t\t}\n",
      "\t\t}\n",
      "\t}\n",
      "```json\n",
      "{\n",
      "\t\"tool_call\": {\n",
      "\t\t\"id\": \"pending\",\n",
      "\t\t\"type\": \"function\",\n",
      "\t\t\"function\": {\n",
      "\t\t\t\"name\": \"wikipedia\",\n",
      "\t\t\t\"parameters\": {\n",
      "\t\t\t\t\"query\": \"List of Indian authors who have won the Booker Prize\"\n",
      "\t\t\t}\n",
      "\t\t}\n",
      "\t}\n",
      "```json\n",
      "{\n",
      "\t\"tool_tool_call\": {\n",
      "\t\t\"id\": \"pending\",\n",
      "\t\t\"type\": \"function\",\n",
      "\t\t\"function\": {\n",
      "\t\t\t\"name\": \"wikipedia\",\n",
      "\t\t\t\"parameters\": {\n",
      "\t\t\t\t\"query\": \"List of Indian authors who have won the Booker Prize\"\n",
      "\t\t\t}\n",
      "\t\t}\n",
      "\t}\n",
      "```json\n",
      "{\n",
      "\t\"tool_call\": {\n",
      "\t\t\"id\": \"pending\",\n",
      "\t\t\"type\": \"function\",\n",
      "\t\t\"function\": {\n",
      "\t\t\t\"name\": \"wikipedia\",\n",
      "\t\t\t\"parameters\": {\n",
      "\t\t\t\t\"query\": \"List of Indian authors who have won the Booker Prize\"\n",
      "\t\t\t}\n",
      "\t\t}\n",
      "\t}\n",
      "```json\n",
      "{\n",
      "\t\"tool_call\": {\n",
      "\t\t\"id\": \"pending\",\n",
      "\t\t\"type\": \"function\",\n",
      "\t\t\"function\": {\n",
      "\t\t\t\"name\": \"wikipedia\",\n",
      "\t\t\t\"parameters\": {\n",
      "\t\t\t\t\"query\": \"List of Indian authors who have won the Booker Prize\"\n",
      "\t\t\t}\n",
      "\t\t}\n",
      "\t}\n",
      "```json\n",
      "{\n",
      "\t\"tool_call\": {\n",
      "\t\t\"id\": \"pending\",\n",
      "\t\t\"type\": \"function\",\n",
      "\t\t\"function\": {\n",
      "\t\t\t\"name\": \"wikipedia\",\n",
      "\t\t\t\"parameters\": {\n",
      "\t\t\t\t\"query\": \"List of Indian authors who have won the Booker Prize\"\n",
      "\t\t\t}\n",
      "\t\t}\n",
      "\t}\n",
      "```json\n",
      "{\n",
      "\t\"tool_call\": {\n",
      "\t\t\"id\": \"pending\",\n",
      "\t\t\"type\": \"function\",\n",
      "\t\t\"function\": {\n",
      "\t\t\t\"name\": \"wikipedia\",\n",
      "\t\t\t\"parameters\": {\n",
      "\t\t\t\t\"query\": \"List of Indian authors who have won the Booker Prize\"\n",
      "\t\t\t}\n",
      "\t\t}\n",
      "\t}\n",
      "```json\n",
      "{\n",
      "\t\"tool_tool_call\": {\n",
      "\t\t\"id\": \"pending\",\n",
      "\t\t\"type\": \"function\",\n",
      "\t\t\"function\": {\n",
      "\t\t\t\"name\": \"wikipedia\",\n",
      "\t\t\t\"parameters\": {\n",
      "\t\t\t\t\"query\": \"List of Indian authors who have won the Booker Prize\"\n",
      "\t\t\t}\n",
      "\t\t}\n",
      "\t}\n",
      "```json\n",
      "{\n",
      "\t\"tool_call\": {\n",
      "\t\t\"id\": \"pending\",\n",
      "\t\t\"type\": \"function\",\n",
      "\t\t\"function\": {\n",
      "\t\t\t\"name\": \"wikipedia\",\n",
      "\t\t\t\"parameters\": {\n",
      "\t\t\t\t\"query\": \"List of Indian authors who have won the Booker Prize\"\n",
      "\t\t\t}\n",
      "\t\t}\n",
      "\t}\n",
      "```json\n",
      "{\n",
      "\t\"tool_call\": {\n",
      "\t\t\"id\": \"pending\",\n",
      "\t\t\"type\": \"function\",\n",
      "\t\t\"function\": {\n",
      "\t\t\t\"name\": \"wikipedia\",\n",
      "\t\t\t\"parameters\": {\n",
      "\t\t\t\t\"query\": \"List of Indian authors who have won the Booker Prize\"\n",
      "\t\t\t}\n",
      "\t\t}\n",
      "\t}\n",
      "```json\n",
      "{\n",
      "\t\"tool_call\": {\n",
      "\t\t\"id\": \"pending\",\n",
      "\t\t\"type\": \"function\",\n",
      "\t\t\"function\": {\n",
      "\t\t\t\"name\": \"wikipedia\",\n",
      "\t\t\t\"parameters\": {\n",
      "\t\t\t\t\"query\": \"List of Indian authors who have won the Booker Prize\"\n",
      "\t\t\t}\n",
      "\t\t}\n",
      "\t}\n",
      "```json\n",
      "{\n",
      "\t\"tool_call\": {\n",
      "\t\t\"id\": \"pending\",\n",
      "\t\t\"type\": \"function\",\n",
      "\t\t\"function\": {\n",
      "\t\t\t\"name\": \"wikipedia\",\n",
      "\t\t\t\"parameters\": {\n",
      "\t\t\t\t\"query\": \"List of Indian authors who have won the Booker Prize\"\n",
      "\t\t\t}\n",
      "\t\t}\n",
      "\t}\n",
      "```json\n",
      "{\n",
      "\t\"tool_call\": {\n",
      "\t\t\"id\": \"pending\",\n",
      "\t\t\"type\": \"function\",\n",
      "\t\t\"function\": {\n",
      "\t\t\t\"name\": \"wikipedia\",\n",
      "\t\t\t\"parameters\": {\n",
      "\t\t\t\t\"query\": \"List of Indian authors who have won the Booker Prize\"\n",
      "\t\t\t}\n",
      "\t\t}\n",
      "\t}\n",
      "```json\n",
      "{\n",
      "\t\"tool_call\": {\n",
      "\t\t\"id\": \"pending\",\n",
      "\t\t\"type\": \"function\",\n",
      "\t\t\"function\": {\n",
      "\t\t\t\"name\": \"wikipedia\",\n",
      "\t\t\t\"parameters\": {\n",
      "\t\t\t\t\"query\": \"List of Indian authors who have won the Booker Prize\"\n",
      "\t\t\t}\n",
      "\t\t}\n",
      "\t}\n",
      "```json\n",
      "{\n",
      "\t\"tool_call\": {\n",
      "\t\t\"id\": \"pending\",\n",
      "\t\t\"type\": \"function\",\n",
      "\t\t\"function\": {\n",
      "\t\t\t\"name\": \"wikipedia\",\n",
      "\t\t\t\"parameters\": {\n",
      "\t\t\t\t\"query\": \"List of Indian authors who have won the Booker Prize\"\n",
      "\t\t\t}\n",
      "\t\t}\n",
      "\t}\n",
      "```json\n",
      "{\n",
      "\t\"tool_tool_call\": {\n",
      "\t\t\"id\": \"pending\",\n",
      "\t\t\"type\": \"function\",\n",
      "\t\t\"function\": {\n",
      "\t\t\t\"name\": \"wikipedia\",\n",
      "\t\t\t\"parameters\": {\n",
      "\t\t\t\t\"query\": \"List of Indian authors who have won the Booker Prize\"\n",
      "\t\t\t}\n",
      "\t\t}\n",
      "\t}\n",
      "```json\n",
      "{\n",
      "\t\"tool_call\": {\n",
      "\t\t\"id\": \"pending\",\n",
      "\t\t\"type\": \"function\",\n",
      "\t\t\"function\": {\n",
      "\t\t\t\"name\": \"wikipedia\",\n",
      "\t\t\t\"parameters\": {\n",
      "\t\t\t\t\"query\": \"List of Indian authors who have won the Booker Prize\"\n",
      "\t\t\t}\n",
      "\t\t}\n",
      "\t}\n",
      "```json\n",
      "{\n",
      "\t\"tool_call\": {\n",
      "\t\t\"id\": \"pending\",\n",
      "\t\t\"type\": \"function\",\n",
      "\t\t\"function\": {\n",
      "\t\t\t\"name\": \"wikipedia\",\n",
      "\t\t\t\"parameters\": {\n",
      "\t\t\t\t\"query\": \"List of Indian authors who have won the Booker Prize\"\n",
      "\t\t\t}\n",
      "\t\t}\n",
      "\t}\n",
      "```json\n",
      "{\n",
      "\t\"tool_call\": {\n",
      "\t\t\"id\": \"pending\",\n",
      "\t\t\"function\": {\n",
      "\t\t\t\"name\": \"wikipedia\",\n",
      "\t\t\t\"parameters\": {\n",
      "\t\t\t\t\"query\": \"List of Indian authors who have won the Booker Prize\"\n",
      "\t\t\t}\n",
      "\t\t}\n",
      "\t}\n",
      "```json\n",
      "\t\"tool_call\": {\n",
      "\t\t\"id\": \"pending\",\n",
      "\t\t\"function\": {\n",
      "\t\t\t\"name\": \"wikipedia\",\n",
      "\t\t\t\"parameters\": {\n",
      "\t\t\t\t\"query\": \"List of Indian authors who have won the Booker Prize\"\n",
      "\t\t\t}\n",
      "\t\t}\n",
      "\t}\n",
      "```json\n",
      "\t\"tool_call\": {\n",
      "\t\t\"id\": \"pending\",\n",
      "\t\t\"function\": {\n",
      "\t\t\t\"name\": \"wikipedia\",\n",
      "\t\t\t\"parameters\": {\n",
      "\t\t\t\t\"query\": \"List of Indian authors who have won the Booker Prize\"\n",
      "\t\t\t}\n",
      "\t\t}\n",
      "\t}\n",
      "```json\n",
      "\t\"tool_call\": {\n",
      "\t\t\"id\": \"pending\",\n",
      "\t\t\"function\": {\n",
      "\t\t\t\"name\": \"wikipedia\",\n",
      "\t\t\t\"parameters\": {\n",
      "\t\t\t\t\"query\": \"List of Indian authors who have won the Booker Prize\"\n",
      "\t\t\t}\n",
      "\t\t}\n",
      "\t}\n",
      "\t\"tool_call\": {\n",
      "\t\t\"id\": \"pending\",\n",
      "\t\t\"function\": {\n",
      "\t\t\t\"name\": \"wikipedia\",\n",
      "\t\t\t\"parameters\": {\n",
      "\t\t\t\t\"query\": \"List of Indian authors who have won the Booker Prize\"\n",
      "\t\t\t}\n",
      "\t\t}\n",
      "\t}\n",
      "\t\"tool_call\": {\n",
      "\t\t\"id\": \"pending\",\n",
      "\t\t\"function\": {\n",
      "\t\t\t\"name\": \"wikipedia\",\n",
      "\t\t\t\"parameters\": {\n",
      "\t\t\t\t\"query\": \"List of Indian authors who have won the Booker Prize\"\n",
      "\t\t\t}\n",
      "\t\t}\n",
      "\t}\n",
      "\t\"tool_call\": {\n",
      "\t\t\"id\": \"pending\",\n",
      "\t\t\"function\": {\n",
      "\t\t\t\"name\": \"wikipedia\",\n",
      "\n"
     ]
    }
   ],
   "source": [
    "print(response3[\"output\"])"
   ]
  },
  {
   "cell_type": "markdown",
   "id": "202a00d0",
   "metadata": {},
   "source": [
    "# ReAct Agent\n",
    "Reasoning & Action / Reasoning & Acting\n",
    "\n",
    "Definition : \n",
    "* The ReAct framework combines reasoning and acting in a single loop to handle tasks. The agent uses natural language reasoning (thinking through steps) and task actions (performing tasks like calculations or data retrieval)\n",
    "* The agent uses a combination of reasoning steps to guide actions in real-time, using feedback from those actions to further inform the next step in reasoning.\n",
    "\n",
    "### How it Works\n",
    "* Step 1 : The agent recwives a question or task\n",
    "* Step 2 : It reasons aloud (in natural language) about how to solve it.\n",
    "* Step 3 : Based on its reasoning, it takes actions (e.g. searching a database, calculating something)\n",
    "* Step 4 : The results of these actions are integrated into its reasoning and may trigger further actions.\n",
    "* Step 5 : It repeats the process until it arrives at a solution.\n",
    "\n",
    "### Key Points :\n",
    "* Combining thinking and doing (reasoning and actions)\n",
    "* Performs iterative steps, updating its processes based on action results.\n",
    "* Typically handles complex decision-making scenarios.\n",
    "\n",
    "### Examples :\n",
    "* Original task : \"Calculate the total number of apples in a basket if there are 4 baskets and 7 apples in each.\n",
    "* Reasoning : \"I need to multiply 4 by 7 to get the total number of apples.\"\n",
    "* Action : Perform the multiplication\n",
    "* Result : There are 28 apples.\n",
    "* Reasoning : I am done\n"
   ]
  },
  {
   "cell_type": "code",
   "execution_count": null,
   "id": "cdd98d5a",
   "metadata": {},
   "outputs": [
    {
     "data": {
      "text/plain": [
       "True"
      ]
     },
     "execution_count": 156,
     "metadata": {},
     "output_type": "execute_result"
    }
   ],
   "source": [
    "load_dotenv()"
   ]
  },
  {
   "cell_type": "code",
   "execution_count": null,
   "id": "9448e99b",
   "metadata": {},
   "outputs": [],
   "source": [
    "SERPER_API_KEY = os.getenv(\"SERPER_API_KEY\")\n",
    "# print(GOOGLESERPER_API_KEY)"
   ]
  },
  {
   "cell_type": "code",
   "execution_count": null,
   "id": "1a5dd93a",
   "metadata": {},
   "outputs": [],
   "source": [
    "from langchain.utilities import GoogleSerperAPIWrapper\n",
    "from langchain.agents import Tool\n",
    "from langchain_core.prompts import PromptTemplate\n",
    "from langchain.agents import AgentExecutor, create_react_agent"
   ]
  },
  {
   "cell_type": "code",
   "execution_count": null,
   "id": "a9f57d94",
   "metadata": {},
   "outputs": [],
   "source": [
    "google_search = GoogleSerperAPIWrapper()"
   ]
  },
  {
   "cell_type": "code",
   "execution_count": null,
   "id": "b66a3888",
   "metadata": {},
   "outputs": [],
   "source": [
    "\n",
    "tools = [\n",
    "    Tool(\n",
    "        name=\"Web Answer\",\n",
    "        func = google_search.run,\n",
    "        description=\"useful for when you need to ask with search\",\n",
    "        verbose=True\n",
    "    )\n",
    "]"
   ]
  },
  {
   "cell_type": "code",
   "execution_count": null,
   "id": "a49adc3b",
   "metadata": {},
   "outputs": [],
   "source": [
    "template = \"\"\"\n",
    "    Answer the following questions as best as you can. You have access tot he following tools:\n",
    "    {tools}\n",
    "    Use the following format:\n",
    "    Question : The input question you must answer\n",
    "    Thought : You should always think about what to do\n",
    "    Action : The action to take, should be one of [{tool_names}]\n",
    "    Action Input : the input to the action\n",
    "    Observation : The result of the action\n",
    "    ... (this Thought/Action Input/Observation cab repeat N times and stop when you feel like stopping)\n",
    "    Thought : I now know the final asnwer\n",
    "    Final answer : The final answer to the original input questions Begin!\n",
    "    Question : {input}\n",
    "    Thought : {agent_scratchpad}\n",
    "\"\"\""
   ]
  },
  {
   "cell_type": "code",
   "execution_count": null,
   "id": "d0f1a1cf",
   "metadata": {},
   "outputs": [],
   "source": [
    "prompt = PromptTemplate.from_template(template)"
   ]
  },
  {
   "cell_type": "code",
   "execution_count": null,
   "id": "cd86d777",
   "metadata": {},
   "outputs": [
    {
     "name": "stdout",
     "output_type": "stream",
     "text": [
      "input_variables=['agent_scratchpad', 'input', 'tool_names', 'tools'] input_types={} partial_variables={} template='\\n    Answer the following questions as best as you can. You have access tot he following tools:\\n    {tools}\\n    Use the following format:\\n    Question : The input question you must answer\\n    Thought : You should always think about what to do\\n    Action : The action to take, should be one of [{tool_names}]\\n    Action Input : the input to the action\\n    Observation : The result of the action\\n    ... (this Thought/Action Input/Observation cab repeat N times and stop when you feel like stopping)\\n    Thought : I now know the final asnwer\\n    Final answer : The final answer to the original input questions Begin!\\n    Question : {input}\\n    Thought : {agent_scratchpad}\\n'\n"
     ]
    }
   ],
   "source": [
    "print(prompt)"
   ]
  },
  {
   "cell_type": "code",
   "execution_count": null,
   "id": "a557d329",
   "metadata": {},
   "outputs": [],
   "source": [
    "search_agent = create_react_agent(llm,tools,prompt)"
   ]
  },
  {
   "cell_type": "code",
   "execution_count": null,
   "id": "c1814914",
   "metadata": {},
   "outputs": [],
   "source": [
    "agent_executor = AgentExecutor(\n",
    "    agent = search_agent,\n",
    "    tools = tools,\n",
    "    verbose = True,\n",
    "    return_intermediate_steps=True,\n",
    ")"
   ]
  },
  {
   "cell_type": "code",
   "execution_count": null,
   "id": "0f94e4a2",
   "metadata": {},
   "outputs": [
    {
     "name": "stdout",
     "output_type": "stream",
     "text": [
      "\n",
      "\n",
      "\u001b[1m> Entering new AgentExecutor chain...\u001b[0m\n",
      "\u001b[32;1m\u001b[1;3mQuestion : Who is the best football player of all time?\n",
      "Thought : This is subjective and depends on personal preference. I can try to find out who is commonly considered one of the best. \n",
      "Action : Web Answer\n",
      "Action Input : Who is considered the best football player of all time?\u001b[0m\u001b[36;1m\u001b[1;3mPatrick Mahomes, who has taken the baton from Brady, is quickly building a reputation as one of the greatest players of all time. Jerry Rice was chosen as the top player of all time, with Jim Brown as the second choice. Lionel Messi, Cristiano Ronaldo, Pele and Diego Maradona are generally viewed as the top four (not necessarily in that order). 10. Andres Iniesta · 9. Ronaldo · 8. Alfredo Di Stefano · 7. Franz Beckenbauer · 6. Johan Cruyff · 5. Zinedine Zidane · 4. Pele · 3. Cristiano Ronaldo. The answer has not changed , Lionel Messi is individually the best player in football history(Messi is the perfect mixture between greatness and raw talent 48 ... The 100 best football players who have ever lived: from Messi to Maradona, Cristiano to Cruyff and everyone in between. 1. Tom Brady (Quarterback). Tom Brady is widely regarded as the greatest player in NFL history. His unmatched consistency, leadership, and ... Tom Brady is the best NFL player ever. Playing the most important position in sports, Brady won more Super Bowls than Michael Jordan did NBA ... Ranking factors ; 1. Lionel Messi. 1084 ; 2. Cristiano Ronaldo. 1262 ; 3. Pele. 739 ; 4. Diego Maradona. 428. Tom Brady is generally considered to be the very best NFL player of all time, but it depends on who you ask!\u001b[0m"
     ]
    },
    {
     "ename": "ValueError",
     "evalue": "An output parsing error occurred. In order to pass this error back to the agent and have it try again, pass `handle_parsing_errors=True` to the AgentExecutor. This is the error: Could not parse LLM output: `Thought :  There isn't a single definitive answer to who is the best football player of all time, as it's subjective and depends on individual preferences and criteria. \nFinal answer :  Some of the most commonly cited names in the \"greatest of all time\" conversation include Lionel Messi, Cristiano Ronaldo, Pelé, Diego Maradona, and Tom Brady (in the NFL). \n\n\n`\nFor troubleshooting, visit: https://python.langchain.com/docs/troubleshooting/errors/OUTPUT_PARSING_FAILURE ",
     "output_type": "error",
     "traceback": [
      "\u001b[1;31m---------------------------------------------------------------------------\u001b[0m",
      "\u001b[1;31mOutputParserException\u001b[0m                     Traceback (most recent call last)",
      "File \u001b[1;32me:\\LanggraphAgent\\venv\\lib\\site-packages\\langchain\\agents\\agent.py:1358\u001b[0m, in \u001b[0;36mAgentExecutor._iter_next_step\u001b[1;34m(self, name_to_tool_map, color_mapping, inputs, intermediate_steps, run_manager)\u001b[0m\n\u001b[0;32m   1357\u001b[0m     \u001b[38;5;66;03m# Call the LLM to see what to do.\u001b[39;00m\n\u001b[1;32m-> 1358\u001b[0m     output \u001b[38;5;241m=\u001b[39m \u001b[38;5;28mself\u001b[39m\u001b[38;5;241m.\u001b[39m_action_agent\u001b[38;5;241m.\u001b[39mplan(\n\u001b[0;32m   1359\u001b[0m         intermediate_steps,\n\u001b[0;32m   1360\u001b[0m         callbacks\u001b[38;5;241m=\u001b[39mrun_manager\u001b[38;5;241m.\u001b[39mget_child() \u001b[38;5;28;01mif\u001b[39;00m run_manager \u001b[38;5;28;01melse\u001b[39;00m \u001b[38;5;28;01mNone\u001b[39;00m,\n\u001b[0;32m   1361\u001b[0m         \u001b[38;5;241m*\u001b[39m\u001b[38;5;241m*\u001b[39minputs,\n\u001b[0;32m   1362\u001b[0m     )\n\u001b[0;32m   1363\u001b[0m \u001b[38;5;28;01mexcept\u001b[39;00m OutputParserException \u001b[38;5;28;01mas\u001b[39;00m e:\n",
      "File \u001b[1;32me:\\LanggraphAgent\\venv\\lib\\site-packages\\langchain\\agents\\agent.py:465\u001b[0m, in \u001b[0;36mRunnableAgent.plan\u001b[1;34m(self, intermediate_steps, callbacks, **kwargs)\u001b[0m\n\u001b[0;32m    458\u001b[0m \u001b[38;5;28;01mif\u001b[39;00m \u001b[38;5;28mself\u001b[39m\u001b[38;5;241m.\u001b[39mstream_runnable:\n\u001b[0;32m    459\u001b[0m     \u001b[38;5;66;03m# Use streaming to make sure that the underlying LLM is invoked in a\u001b[39;00m\n\u001b[0;32m    460\u001b[0m     \u001b[38;5;66;03m# streaming\u001b[39;00m\n\u001b[1;32m   (...)\u001b[0m\n\u001b[0;32m    463\u001b[0m     \u001b[38;5;66;03m# Because the response from the plan is not a generator, we need to\u001b[39;00m\n\u001b[0;32m    464\u001b[0m     \u001b[38;5;66;03m# accumulate the output into final output and return that.\u001b[39;00m\n\u001b[1;32m--> 465\u001b[0m     \u001b[38;5;28;01mfor\u001b[39;00m chunk \u001b[38;5;129;01min\u001b[39;00m \u001b[38;5;28mself\u001b[39m\u001b[38;5;241m.\u001b[39mrunnable\u001b[38;5;241m.\u001b[39mstream(inputs, config\u001b[38;5;241m=\u001b[39m{\u001b[38;5;124m\"\u001b[39m\u001b[38;5;124mcallbacks\u001b[39m\u001b[38;5;124m\"\u001b[39m: callbacks}):\n\u001b[0;32m    466\u001b[0m         \u001b[38;5;28;01mif\u001b[39;00m final_output \u001b[38;5;129;01mis\u001b[39;00m \u001b[38;5;28;01mNone\u001b[39;00m:\n",
      "File \u001b[1;32me:\\LanggraphAgent\\venv\\lib\\site-packages\\langchain_core\\runnables\\base.py:3424\u001b[0m, in \u001b[0;36mRunnableSequence.stream\u001b[1;34m(self, input, config, **kwargs)\u001b[0m\n\u001b[0;32m   3417\u001b[0m \u001b[38;5;129m@override\u001b[39m\n\u001b[0;32m   3418\u001b[0m \u001b[38;5;28;01mdef\u001b[39;00m\u001b[38;5;250m \u001b[39m\u001b[38;5;21mstream\u001b[39m(\n\u001b[0;32m   3419\u001b[0m     \u001b[38;5;28mself\u001b[39m,\n\u001b[1;32m   (...)\u001b[0m\n\u001b[0;32m   3422\u001b[0m     \u001b[38;5;241m*\u001b[39m\u001b[38;5;241m*\u001b[39mkwargs: Optional[Any],\n\u001b[0;32m   3423\u001b[0m ) \u001b[38;5;241m-\u001b[39m\u001b[38;5;241m>\u001b[39m Iterator[Output]:\n\u001b[1;32m-> 3424\u001b[0m     \u001b[38;5;28;01myield from\u001b[39;00m \u001b[38;5;28mself\u001b[39m\u001b[38;5;241m.\u001b[39mtransform(\u001b[38;5;28miter\u001b[39m([\u001b[38;5;28minput\u001b[39m]), config, \u001b[38;5;241m*\u001b[39m\u001b[38;5;241m*\u001b[39mkwargs)\n",
      "File \u001b[1;32me:\\LanggraphAgent\\venv\\lib\\site-packages\\langchain_core\\runnables\\base.py:3410\u001b[0m, in \u001b[0;36mRunnableSequence.transform\u001b[1;34m(self, input, config, **kwargs)\u001b[0m\n\u001b[0;32m   3403\u001b[0m \u001b[38;5;129m@override\u001b[39m\n\u001b[0;32m   3404\u001b[0m \u001b[38;5;28;01mdef\u001b[39;00m\u001b[38;5;250m \u001b[39m\u001b[38;5;21mtransform\u001b[39m(\n\u001b[0;32m   3405\u001b[0m     \u001b[38;5;28mself\u001b[39m,\n\u001b[1;32m   (...)\u001b[0m\n\u001b[0;32m   3408\u001b[0m     \u001b[38;5;241m*\u001b[39m\u001b[38;5;241m*\u001b[39mkwargs: Optional[Any],\n\u001b[0;32m   3409\u001b[0m ) \u001b[38;5;241m-\u001b[39m\u001b[38;5;241m>\u001b[39m Iterator[Output]:\n\u001b[1;32m-> 3410\u001b[0m     \u001b[38;5;28;01myield from\u001b[39;00m \u001b[38;5;28mself\u001b[39m\u001b[38;5;241m.\u001b[39m_transform_stream_with_config(\n\u001b[0;32m   3411\u001b[0m         \u001b[38;5;28minput\u001b[39m,\n\u001b[0;32m   3412\u001b[0m         \u001b[38;5;28mself\u001b[39m\u001b[38;5;241m.\u001b[39m_transform,\n\u001b[0;32m   3413\u001b[0m         patch_config(config, run_name\u001b[38;5;241m=\u001b[39m(config \u001b[38;5;129;01mor\u001b[39;00m {})\u001b[38;5;241m.\u001b[39mget(\u001b[38;5;124m\"\u001b[39m\u001b[38;5;124mrun_name\u001b[39m\u001b[38;5;124m\"\u001b[39m) \u001b[38;5;129;01mor\u001b[39;00m \u001b[38;5;28mself\u001b[39m\u001b[38;5;241m.\u001b[39mname),\n\u001b[0;32m   3414\u001b[0m         \u001b[38;5;241m*\u001b[39m\u001b[38;5;241m*\u001b[39mkwargs,\n\u001b[0;32m   3415\u001b[0m     )\n",
      "File \u001b[1;32me:\\LanggraphAgent\\venv\\lib\\site-packages\\langchain_core\\runnables\\base.py:2205\u001b[0m, in \u001b[0;36mRunnable._transform_stream_with_config\u001b[1;34m(self, input, transformer, config, run_type, **kwargs)\u001b[0m\n\u001b[0;32m   2204\u001b[0m \u001b[38;5;28;01mwhile\u001b[39;00m \u001b[38;5;28;01mTrue\u001b[39;00m:\n\u001b[1;32m-> 2205\u001b[0m     chunk: Output \u001b[38;5;241m=\u001b[39m \u001b[43mcontext\u001b[49m\u001b[38;5;241;43m.\u001b[39;49m\u001b[43mrun\u001b[49m\u001b[43m(\u001b[49m\u001b[38;5;28;43mnext\u001b[39;49m\u001b[43m,\u001b[49m\u001b[43m \u001b[49m\u001b[43miterator\u001b[49m\u001b[43m)\u001b[49m\n\u001b[0;32m   2206\u001b[0m     \u001b[38;5;28;01myield\u001b[39;00m chunk\n",
      "File \u001b[1;32me:\\LanggraphAgent\\venv\\lib\\site-packages\\langchain_core\\runnables\\base.py:3372\u001b[0m, in \u001b[0;36mRunnableSequence._transform\u001b[1;34m(self, input, run_manager, config, **kwargs)\u001b[0m\n\u001b[0;32m   3370\u001b[0m         final_pipeline \u001b[38;5;241m=\u001b[39m step\u001b[38;5;241m.\u001b[39mtransform(final_pipeline, config)\n\u001b[1;32m-> 3372\u001b[0m \u001b[38;5;28;01myield from\u001b[39;00m final_pipeline\n",
      "File \u001b[1;32me:\\LanggraphAgent\\venv\\lib\\site-packages\\langchain_core\\runnables\\base.py:1437\u001b[0m, in \u001b[0;36mRunnable.transform\u001b[1;34m(self, input, config, **kwargs)\u001b[0m\n\u001b[0;32m   1436\u001b[0m \u001b[38;5;28;01mif\u001b[39;00m got_first_val:\n\u001b[1;32m-> 1437\u001b[0m     \u001b[38;5;28;01myield from\u001b[39;00m \u001b[38;5;28mself\u001b[39m\u001b[38;5;241m.\u001b[39mstream(final, config, \u001b[38;5;241m*\u001b[39m\u001b[38;5;241m*\u001b[39mkwargs)\n",
      "File \u001b[1;32me:\\LanggraphAgent\\venv\\lib\\site-packages\\langchain_core\\runnables\\base.py:1004\u001b[0m, in \u001b[0;36mRunnable.stream\u001b[1;34m(self, input, config, **kwargs)\u001b[0m\n\u001b[0;32m    992\u001b[0m \u001b[38;5;250m\u001b[39m\u001b[38;5;124;03m\"\"\"Default implementation of stream, which calls invoke.\u001b[39;00m\n\u001b[0;32m    993\u001b[0m \n\u001b[0;32m    994\u001b[0m \u001b[38;5;124;03mSubclasses should override this method if they support streaming output.\u001b[39;00m\n\u001b[1;32m   (...)\u001b[0m\n\u001b[0;32m   1002\u001b[0m \u001b[38;5;124;03m    The output of the Runnable.\u001b[39;00m\n\u001b[0;32m   1003\u001b[0m \u001b[38;5;124;03m\"\"\"\u001b[39;00m\n\u001b[1;32m-> 1004\u001b[0m \u001b[38;5;28;01myield\u001b[39;00m \u001b[38;5;28mself\u001b[39m\u001b[38;5;241m.\u001b[39minvoke(\u001b[38;5;28minput\u001b[39m, config, \u001b[38;5;241m*\u001b[39m\u001b[38;5;241m*\u001b[39mkwargs)\n",
      "File \u001b[1;32me:\\LanggraphAgent\\venv\\lib\\site-packages\\langchain_core\\output_parsers\\base.py:196\u001b[0m, in \u001b[0;36mBaseOutputParser.invoke\u001b[1;34m(self, input, config, **kwargs)\u001b[0m\n\u001b[0;32m    195\u001b[0m \u001b[38;5;28;01mif\u001b[39;00m \u001b[38;5;28misinstance\u001b[39m(\u001b[38;5;28minput\u001b[39m, BaseMessage):\n\u001b[1;32m--> 196\u001b[0m     \u001b[38;5;28;01mreturn\u001b[39;00m \u001b[38;5;28;43mself\u001b[39;49m\u001b[38;5;241;43m.\u001b[39;49m\u001b[43m_call_with_config\u001b[49m\u001b[43m(\u001b[49m\n\u001b[0;32m    197\u001b[0m \u001b[43m        \u001b[49m\u001b[38;5;28;43;01mlambda\u001b[39;49;00m\u001b[43m \u001b[49m\u001b[43minner_input\u001b[49m\u001b[43m:\u001b[49m\u001b[43m \u001b[49m\u001b[38;5;28;43mself\u001b[39;49m\u001b[38;5;241;43m.\u001b[39;49m\u001b[43mparse_result\u001b[49m\u001b[43m(\u001b[49m\n\u001b[0;32m    198\u001b[0m \u001b[43m            \u001b[49m\u001b[43m[\u001b[49m\u001b[43mChatGeneration\u001b[49m\u001b[43m(\u001b[49m\u001b[43mmessage\u001b[49m\u001b[38;5;241;43m=\u001b[39;49m\u001b[43minner_input\u001b[49m\u001b[43m)\u001b[49m\u001b[43m]\u001b[49m\n\u001b[0;32m    199\u001b[0m \u001b[43m        \u001b[49m\u001b[43m)\u001b[49m\u001b[43m,\u001b[49m\n\u001b[0;32m    200\u001b[0m \u001b[43m        \u001b[49m\u001b[38;5;28;43minput\u001b[39;49m\u001b[43m,\u001b[49m\n\u001b[0;32m    201\u001b[0m \u001b[43m        \u001b[49m\u001b[43mconfig\u001b[49m\u001b[43m,\u001b[49m\n\u001b[0;32m    202\u001b[0m \u001b[43m        \u001b[49m\u001b[43mrun_type\u001b[49m\u001b[38;5;241;43m=\u001b[39;49m\u001b[38;5;124;43m\"\u001b[39;49m\u001b[38;5;124;43mparser\u001b[39;49m\u001b[38;5;124;43m\"\u001b[39;49m\u001b[43m,\u001b[49m\n\u001b[0;32m    203\u001b[0m \u001b[43m    \u001b[49m\u001b[43m)\u001b[49m\n\u001b[0;32m    204\u001b[0m \u001b[38;5;28;01mreturn\u001b[39;00m \u001b[38;5;28mself\u001b[39m\u001b[38;5;241m.\u001b[39m_call_with_config(\n\u001b[0;32m    205\u001b[0m     \u001b[38;5;28;01mlambda\u001b[39;00m inner_input: \u001b[38;5;28mself\u001b[39m\u001b[38;5;241m.\u001b[39mparse_result([Generation(text\u001b[38;5;241m=\u001b[39minner_input)]),\n\u001b[0;32m    206\u001b[0m     \u001b[38;5;28minput\u001b[39m,\n\u001b[0;32m    207\u001b[0m     config,\n\u001b[0;32m    208\u001b[0m     run_type\u001b[38;5;241m=\u001b[39m\u001b[38;5;124m\"\u001b[39m\u001b[38;5;124mparser\u001b[39m\u001b[38;5;124m\"\u001b[39m,\n\u001b[0;32m    209\u001b[0m )\n",
      "File \u001b[1;32me:\\LanggraphAgent\\venv\\lib\\site-packages\\langchain_core\\runnables\\base.py:1930\u001b[0m, in \u001b[0;36mRunnable._call_with_config\u001b[1;34m(self, func, input, config, run_type, serialized, **kwargs)\u001b[0m\n\u001b[0;32m   1927\u001b[0m     \u001b[38;5;28;01mwith\u001b[39;00m set_config_context(child_config) \u001b[38;5;28;01mas\u001b[39;00m context:\n\u001b[0;32m   1928\u001b[0m         output \u001b[38;5;241m=\u001b[39m cast(\n\u001b[0;32m   1929\u001b[0m             \u001b[38;5;124m\"\u001b[39m\u001b[38;5;124mOutput\u001b[39m\u001b[38;5;124m\"\u001b[39m,\n\u001b[1;32m-> 1930\u001b[0m             context\u001b[38;5;241m.\u001b[39mrun(\n\u001b[0;32m   1931\u001b[0m                 call_func_with_variable_args,  \u001b[38;5;66;03m# type: ignore[arg-type]\u001b[39;00m\n\u001b[0;32m   1932\u001b[0m                 func,\n\u001b[0;32m   1933\u001b[0m                 \u001b[38;5;28minput\u001b[39m,\n\u001b[0;32m   1934\u001b[0m                 config,\n\u001b[0;32m   1935\u001b[0m                 run_manager,\n\u001b[0;32m   1936\u001b[0m                 \u001b[38;5;241m*\u001b[39m\u001b[38;5;241m*\u001b[39mkwargs,\n\u001b[0;32m   1937\u001b[0m             ),\n\u001b[0;32m   1938\u001b[0m         )\n\u001b[0;32m   1939\u001b[0m \u001b[38;5;28;01mexcept\u001b[39;00m \u001b[38;5;167;01mBaseException\u001b[39;00m \u001b[38;5;28;01mas\u001b[39;00m e:\n",
      "File \u001b[1;32me:\\LanggraphAgent\\venv\\lib\\site-packages\\langchain_core\\runnables\\config.py:428\u001b[0m, in \u001b[0;36mcall_func_with_variable_args\u001b[1;34m(func, input, config, run_manager, **kwargs)\u001b[0m\n\u001b[0;32m    427\u001b[0m     kwargs[\u001b[38;5;124m\"\u001b[39m\u001b[38;5;124mrun_manager\u001b[39m\u001b[38;5;124m\"\u001b[39m] \u001b[38;5;241m=\u001b[39m run_manager\n\u001b[1;32m--> 428\u001b[0m \u001b[38;5;28;01mreturn\u001b[39;00m func(\u001b[38;5;28minput\u001b[39m, \u001b[38;5;241m*\u001b[39m\u001b[38;5;241m*\u001b[39mkwargs)\n",
      "File \u001b[1;32me:\\LanggraphAgent\\venv\\lib\\site-packages\\langchain_core\\output_parsers\\base.py:197\u001b[0m, in \u001b[0;36mBaseOutputParser.invoke.<locals>.<lambda>\u001b[1;34m(inner_input)\u001b[0m\n\u001b[0;32m    195\u001b[0m \u001b[38;5;28;01mif\u001b[39;00m \u001b[38;5;28misinstance\u001b[39m(\u001b[38;5;28minput\u001b[39m, BaseMessage):\n\u001b[0;32m    196\u001b[0m     \u001b[38;5;28;01mreturn\u001b[39;00m \u001b[38;5;28mself\u001b[39m\u001b[38;5;241m.\u001b[39m_call_with_config(\n\u001b[1;32m--> 197\u001b[0m         \u001b[38;5;28;01mlambda\u001b[39;00m inner_input: \u001b[38;5;28;43mself\u001b[39;49m\u001b[38;5;241;43m.\u001b[39;49m\u001b[43mparse_result\u001b[49m\u001b[43m(\u001b[49m\n\u001b[0;32m    198\u001b[0m \u001b[43m            \u001b[49m\u001b[43m[\u001b[49m\u001b[43mChatGeneration\u001b[49m\u001b[43m(\u001b[49m\u001b[43mmessage\u001b[49m\u001b[38;5;241;43m=\u001b[39;49m\u001b[43minner_input\u001b[49m\u001b[43m)\u001b[49m\u001b[43m]\u001b[49m\n\u001b[0;32m    199\u001b[0m \u001b[43m        \u001b[49m\u001b[43m)\u001b[49m,\n\u001b[0;32m    200\u001b[0m         \u001b[38;5;28minput\u001b[39m,\n\u001b[0;32m    201\u001b[0m         config,\n\u001b[0;32m    202\u001b[0m         run_type\u001b[38;5;241m=\u001b[39m\u001b[38;5;124m\"\u001b[39m\u001b[38;5;124mparser\u001b[39m\u001b[38;5;124m\"\u001b[39m,\n\u001b[0;32m    203\u001b[0m     )\n\u001b[0;32m    204\u001b[0m \u001b[38;5;28;01mreturn\u001b[39;00m \u001b[38;5;28mself\u001b[39m\u001b[38;5;241m.\u001b[39m_call_with_config(\n\u001b[0;32m    205\u001b[0m     \u001b[38;5;28;01mlambda\u001b[39;00m inner_input: \u001b[38;5;28mself\u001b[39m\u001b[38;5;241m.\u001b[39mparse_result([Generation(text\u001b[38;5;241m=\u001b[39minner_input)]),\n\u001b[0;32m    206\u001b[0m     \u001b[38;5;28minput\u001b[39m,\n\u001b[0;32m    207\u001b[0m     config,\n\u001b[0;32m    208\u001b[0m     run_type\u001b[38;5;241m=\u001b[39m\u001b[38;5;124m\"\u001b[39m\u001b[38;5;124mparser\u001b[39m\u001b[38;5;124m\"\u001b[39m,\n\u001b[0;32m    209\u001b[0m )\n",
      "File \u001b[1;32me:\\LanggraphAgent\\venv\\lib\\site-packages\\langchain_core\\output_parsers\\base.py:250\u001b[0m, in \u001b[0;36mBaseOutputParser.parse_result\u001b[1;34m(self, result, partial)\u001b[0m\n\u001b[0;32m    236\u001b[0m \u001b[38;5;250m\u001b[39m\u001b[38;5;124;03m\"\"\"Parse a list of candidate model Generations into a specific format.\u001b[39;00m\n\u001b[0;32m    237\u001b[0m \n\u001b[0;32m    238\u001b[0m \u001b[38;5;124;03mThe return value is parsed from only the first Generation in the result, which\u001b[39;00m\n\u001b[1;32m   (...)\u001b[0m\n\u001b[0;32m    248\u001b[0m \u001b[38;5;124;03m    Structured output.\u001b[39;00m\n\u001b[0;32m    249\u001b[0m \u001b[38;5;124;03m\"\"\"\u001b[39;00m\n\u001b[1;32m--> 250\u001b[0m \u001b[38;5;28;01mreturn\u001b[39;00m \u001b[38;5;28;43mself\u001b[39;49m\u001b[38;5;241;43m.\u001b[39;49m\u001b[43mparse\u001b[49m\u001b[43m(\u001b[49m\u001b[43mresult\u001b[49m\u001b[43m[\u001b[49m\u001b[38;5;241;43m0\u001b[39;49m\u001b[43m]\u001b[49m\u001b[38;5;241;43m.\u001b[39;49m\u001b[43mtext\u001b[49m\u001b[43m)\u001b[49m\n",
      "File \u001b[1;32me:\\LanggraphAgent\\venv\\lib\\site-packages\\langchain\\agents\\output_parsers\\react_single_input.py:75\u001b[0m, in \u001b[0;36mReActSingleInputOutputParser.parse\u001b[1;34m(self, text)\u001b[0m\n\u001b[0;32m     74\u001b[0m \u001b[38;5;28;01mif\u001b[39;00m \u001b[38;5;129;01mnot\u001b[39;00m re\u001b[38;5;241m.\u001b[39msearch(\u001b[38;5;124mr\u001b[39m\u001b[38;5;124m\"\u001b[39m\u001b[38;5;124mAction\u001b[39m\u001b[38;5;124m\\\u001b[39m\u001b[38;5;124ms*\u001b[39m\u001b[38;5;124m\\\u001b[39m\u001b[38;5;124md*\u001b[39m\u001b[38;5;124m\\\u001b[39m\u001b[38;5;124ms*:[\u001b[39m\u001b[38;5;124m\\\u001b[39m\u001b[38;5;124ms]*(.*?)\u001b[39m\u001b[38;5;124m\"\u001b[39m, text, re\u001b[38;5;241m.\u001b[39mDOTALL):\n\u001b[1;32m---> 75\u001b[0m     \u001b[38;5;28;01mraise\u001b[39;00m OutputParserException(\n\u001b[0;32m     76\u001b[0m         \u001b[38;5;124mf\u001b[39m\u001b[38;5;124m\"\u001b[39m\u001b[38;5;124mCould not parse LLM output: `\u001b[39m\u001b[38;5;132;01m{\u001b[39;00mtext\u001b[38;5;132;01m}\u001b[39;00m\u001b[38;5;124m`\u001b[39m\u001b[38;5;124m\"\u001b[39m,\n\u001b[0;32m     77\u001b[0m         observation\u001b[38;5;241m=\u001b[39mMISSING_ACTION_AFTER_THOUGHT_ERROR_MESSAGE,\n\u001b[0;32m     78\u001b[0m         llm_output\u001b[38;5;241m=\u001b[39mtext,\n\u001b[0;32m     79\u001b[0m         send_to_llm\u001b[38;5;241m=\u001b[39m\u001b[38;5;28;01mTrue\u001b[39;00m,\n\u001b[0;32m     80\u001b[0m     )\n\u001b[0;32m     81\u001b[0m \u001b[38;5;28;01melif\u001b[39;00m \u001b[38;5;129;01mnot\u001b[39;00m re\u001b[38;5;241m.\u001b[39msearch(\n\u001b[0;32m     82\u001b[0m     \u001b[38;5;124mr\u001b[39m\u001b[38;5;124m\"\u001b[39m\u001b[38;5;124m[\u001b[39m\u001b[38;5;124m\\\u001b[39m\u001b[38;5;124ms]*Action\u001b[39m\u001b[38;5;124m\\\u001b[39m\u001b[38;5;124ms*\u001b[39m\u001b[38;5;124m\\\u001b[39m\u001b[38;5;124md*\u001b[39m\u001b[38;5;124m\\\u001b[39m\u001b[38;5;124ms*Input\u001b[39m\u001b[38;5;124m\\\u001b[39m\u001b[38;5;124ms*\u001b[39m\u001b[38;5;124m\\\u001b[39m\u001b[38;5;124md*\u001b[39m\u001b[38;5;124m\\\u001b[39m\u001b[38;5;124ms*:[\u001b[39m\u001b[38;5;124m\\\u001b[39m\u001b[38;5;124ms]*(.*)\u001b[39m\u001b[38;5;124m\"\u001b[39m, text, re\u001b[38;5;241m.\u001b[39mDOTALL\n\u001b[0;32m     83\u001b[0m ):\n",
      "\u001b[1;31mOutputParserException\u001b[0m: Could not parse LLM output: `Thought :  There isn't a single definitive answer to who is the best football player of all time, as it's subjective and depends on individual preferences and criteria. \nFinal answer :  Some of the most commonly cited names in the \"greatest of all time\" conversation include Lionel Messi, Cristiano Ronaldo, Pelé, Diego Maradona, and Tom Brady (in the NFL). \n\n\n`\nFor troubleshooting, visit: https://python.langchain.com/docs/troubleshooting/errors/OUTPUT_PARSING_FAILURE ",
      "\nDuring handling of the above exception, another exception occurred:\n",
      "\u001b[1;31mValueError\u001b[0m                                Traceback (most recent call last)",
      "Cell \u001b[1;32mIn[179], line 1\u001b[0m\n\u001b[1;32m----> 1\u001b[0m result \u001b[38;5;241m=\u001b[39m \u001b[43magent_executor\u001b[49m\u001b[38;5;241;43m.\u001b[39;49m\u001b[43minvoke\u001b[49m\u001b[43m(\u001b[49m\u001b[43m{\u001b[49m\u001b[38;5;124;43m\"\u001b[39;49m\u001b[38;5;124;43minput\u001b[39;49m\u001b[38;5;124;43m\"\u001b[39;49m\u001b[43m:\u001b[49m\u001b[38;5;124;43m\"\u001b[39;49m\u001b[38;5;124;43mWho is the best football player of all time?\u001b[39;49m\u001b[38;5;124;43m\"\u001b[39;49m\u001b[43m}\u001b[49m\u001b[43m)\u001b[49m\n",
      "File \u001b[1;32me:\\LanggraphAgent\\venv\\lib\\site-packages\\langchain\\chains\\base.py:170\u001b[0m, in \u001b[0;36mChain.invoke\u001b[1;34m(self, input, config, **kwargs)\u001b[0m\n\u001b[0;32m    168\u001b[0m \u001b[38;5;28;01mexcept\u001b[39;00m \u001b[38;5;167;01mBaseException\u001b[39;00m \u001b[38;5;28;01mas\u001b[39;00m e:\n\u001b[0;32m    169\u001b[0m     run_manager\u001b[38;5;241m.\u001b[39mon_chain_error(e)\n\u001b[1;32m--> 170\u001b[0m     \u001b[38;5;28;01mraise\u001b[39;00m e\n\u001b[0;32m    171\u001b[0m run_manager\u001b[38;5;241m.\u001b[39mon_chain_end(outputs)\n\u001b[0;32m    173\u001b[0m \u001b[38;5;28;01mif\u001b[39;00m include_run_info:\n",
      "File \u001b[1;32me:\\LanggraphAgent\\venv\\lib\\site-packages\\langchain\\chains\\base.py:160\u001b[0m, in \u001b[0;36mChain.invoke\u001b[1;34m(self, input, config, **kwargs)\u001b[0m\n\u001b[0;32m    157\u001b[0m \u001b[38;5;28;01mtry\u001b[39;00m:\n\u001b[0;32m    158\u001b[0m     \u001b[38;5;28mself\u001b[39m\u001b[38;5;241m.\u001b[39m_validate_inputs(inputs)\n\u001b[0;32m    159\u001b[0m     outputs \u001b[38;5;241m=\u001b[39m (\n\u001b[1;32m--> 160\u001b[0m         \u001b[38;5;28;43mself\u001b[39;49m\u001b[38;5;241;43m.\u001b[39;49m\u001b[43m_call\u001b[49m\u001b[43m(\u001b[49m\u001b[43minputs\u001b[49m\u001b[43m,\u001b[49m\u001b[43m \u001b[49m\u001b[43mrun_manager\u001b[49m\u001b[38;5;241;43m=\u001b[39;49m\u001b[43mrun_manager\u001b[49m\u001b[43m)\u001b[49m\n\u001b[0;32m    161\u001b[0m         \u001b[38;5;28;01mif\u001b[39;00m new_arg_supported\n\u001b[0;32m    162\u001b[0m         \u001b[38;5;28;01melse\u001b[39;00m \u001b[38;5;28mself\u001b[39m\u001b[38;5;241m.\u001b[39m_call(inputs)\n\u001b[0;32m    163\u001b[0m     )\n\u001b[0;32m    165\u001b[0m     final_outputs: Dict[\u001b[38;5;28mstr\u001b[39m, Any] \u001b[38;5;241m=\u001b[39m \u001b[38;5;28mself\u001b[39m\u001b[38;5;241m.\u001b[39mprep_outputs(\n\u001b[0;32m    166\u001b[0m         inputs, outputs, return_only_outputs\n\u001b[0;32m    167\u001b[0m     )\n\u001b[0;32m    168\u001b[0m \u001b[38;5;28;01mexcept\u001b[39;00m \u001b[38;5;167;01mBaseException\u001b[39;00m \u001b[38;5;28;01mas\u001b[39;00m e:\n",
      "File \u001b[1;32me:\\LanggraphAgent\\venv\\lib\\site-packages\\langchain\\agents\\agent.py:1624\u001b[0m, in \u001b[0;36mAgentExecutor._call\u001b[1;34m(self, inputs, run_manager)\u001b[0m\n\u001b[0;32m   1622\u001b[0m \u001b[38;5;66;03m# We now enter the agent loop (until it returns something).\u001b[39;00m\n\u001b[0;32m   1623\u001b[0m \u001b[38;5;28;01mwhile\u001b[39;00m \u001b[38;5;28mself\u001b[39m\u001b[38;5;241m.\u001b[39m_should_continue(iterations, time_elapsed):\n\u001b[1;32m-> 1624\u001b[0m     next_step_output \u001b[38;5;241m=\u001b[39m \u001b[38;5;28;43mself\u001b[39;49m\u001b[38;5;241;43m.\u001b[39;49m\u001b[43m_take_next_step\u001b[49m\u001b[43m(\u001b[49m\n\u001b[0;32m   1625\u001b[0m \u001b[43m        \u001b[49m\u001b[43mname_to_tool_map\u001b[49m\u001b[43m,\u001b[49m\n\u001b[0;32m   1626\u001b[0m \u001b[43m        \u001b[49m\u001b[43mcolor_mapping\u001b[49m\u001b[43m,\u001b[49m\n\u001b[0;32m   1627\u001b[0m \u001b[43m        \u001b[49m\u001b[43minputs\u001b[49m\u001b[43m,\u001b[49m\n\u001b[0;32m   1628\u001b[0m \u001b[43m        \u001b[49m\u001b[43mintermediate_steps\u001b[49m\u001b[43m,\u001b[49m\n\u001b[0;32m   1629\u001b[0m \u001b[43m        \u001b[49m\u001b[43mrun_manager\u001b[49m\u001b[38;5;241;43m=\u001b[39;49m\u001b[43mrun_manager\u001b[49m\u001b[43m,\u001b[49m\n\u001b[0;32m   1630\u001b[0m \u001b[43m    \u001b[49m\u001b[43m)\u001b[49m\n\u001b[0;32m   1631\u001b[0m     \u001b[38;5;28;01mif\u001b[39;00m \u001b[38;5;28misinstance\u001b[39m(next_step_output, AgentFinish):\n\u001b[0;32m   1632\u001b[0m         \u001b[38;5;28;01mreturn\u001b[39;00m \u001b[38;5;28mself\u001b[39m\u001b[38;5;241m.\u001b[39m_return(\n\u001b[0;32m   1633\u001b[0m             next_step_output, intermediate_steps, run_manager\u001b[38;5;241m=\u001b[39mrun_manager\n\u001b[0;32m   1634\u001b[0m         )\n",
      "File \u001b[1;32me:\\LanggraphAgent\\venv\\lib\\site-packages\\langchain\\agents\\agent.py:1330\u001b[0m, in \u001b[0;36mAgentExecutor._take_next_step\u001b[1;34m(self, name_to_tool_map, color_mapping, inputs, intermediate_steps, run_manager)\u001b[0m\n\u001b[0;32m   1321\u001b[0m \u001b[38;5;28;01mdef\u001b[39;00m\u001b[38;5;250m \u001b[39m\u001b[38;5;21m_take_next_step\u001b[39m(\n\u001b[0;32m   1322\u001b[0m     \u001b[38;5;28mself\u001b[39m,\n\u001b[0;32m   1323\u001b[0m     name_to_tool_map: Dict[\u001b[38;5;28mstr\u001b[39m, BaseTool],\n\u001b[1;32m   (...)\u001b[0m\n\u001b[0;32m   1327\u001b[0m     run_manager: Optional[CallbackManagerForChainRun] \u001b[38;5;241m=\u001b[39m \u001b[38;5;28;01mNone\u001b[39;00m,\n\u001b[0;32m   1328\u001b[0m ) \u001b[38;5;241m-\u001b[39m\u001b[38;5;241m>\u001b[39m Union[AgentFinish, List[Tuple[AgentAction, \u001b[38;5;28mstr\u001b[39m]]]:\n\u001b[0;32m   1329\u001b[0m     \u001b[38;5;28;01mreturn\u001b[39;00m \u001b[38;5;28mself\u001b[39m\u001b[38;5;241m.\u001b[39m_consume_next_step(\n\u001b[1;32m-> 1330\u001b[0m         [\n\u001b[0;32m   1331\u001b[0m             a\n\u001b[0;32m   1332\u001b[0m             \u001b[38;5;28;01mfor\u001b[39;00m a \u001b[38;5;129;01min\u001b[39;00m \u001b[38;5;28mself\u001b[39m\u001b[38;5;241m.\u001b[39m_iter_next_step(\n\u001b[0;32m   1333\u001b[0m                 name_to_tool_map,\n\u001b[0;32m   1334\u001b[0m                 color_mapping,\n\u001b[0;32m   1335\u001b[0m                 inputs,\n\u001b[0;32m   1336\u001b[0m                 intermediate_steps,\n\u001b[0;32m   1337\u001b[0m                 run_manager,\n\u001b[0;32m   1338\u001b[0m             )\n\u001b[0;32m   1339\u001b[0m         ]\n\u001b[0;32m   1340\u001b[0m     )\n",
      "File \u001b[1;32me:\\LanggraphAgent\\venv\\lib\\site-packages\\langchain\\agents\\agent.py:1330\u001b[0m, in \u001b[0;36m<listcomp>\u001b[1;34m(.0)\u001b[0m\n\u001b[0;32m   1321\u001b[0m \u001b[38;5;28;01mdef\u001b[39;00m\u001b[38;5;250m \u001b[39m\u001b[38;5;21m_take_next_step\u001b[39m(\n\u001b[0;32m   1322\u001b[0m     \u001b[38;5;28mself\u001b[39m,\n\u001b[0;32m   1323\u001b[0m     name_to_tool_map: Dict[\u001b[38;5;28mstr\u001b[39m, BaseTool],\n\u001b[1;32m   (...)\u001b[0m\n\u001b[0;32m   1327\u001b[0m     run_manager: Optional[CallbackManagerForChainRun] \u001b[38;5;241m=\u001b[39m \u001b[38;5;28;01mNone\u001b[39;00m,\n\u001b[0;32m   1328\u001b[0m ) \u001b[38;5;241m-\u001b[39m\u001b[38;5;241m>\u001b[39m Union[AgentFinish, List[Tuple[AgentAction, \u001b[38;5;28mstr\u001b[39m]]]:\n\u001b[0;32m   1329\u001b[0m     \u001b[38;5;28;01mreturn\u001b[39;00m \u001b[38;5;28mself\u001b[39m\u001b[38;5;241m.\u001b[39m_consume_next_step(\n\u001b[1;32m-> 1330\u001b[0m         [\n\u001b[0;32m   1331\u001b[0m             a\n\u001b[0;32m   1332\u001b[0m             \u001b[38;5;28;01mfor\u001b[39;00m a \u001b[38;5;129;01min\u001b[39;00m \u001b[38;5;28mself\u001b[39m\u001b[38;5;241m.\u001b[39m_iter_next_step(\n\u001b[0;32m   1333\u001b[0m                 name_to_tool_map,\n\u001b[0;32m   1334\u001b[0m                 color_mapping,\n\u001b[0;32m   1335\u001b[0m                 inputs,\n\u001b[0;32m   1336\u001b[0m                 intermediate_steps,\n\u001b[0;32m   1337\u001b[0m                 run_manager,\n\u001b[0;32m   1338\u001b[0m             )\n\u001b[0;32m   1339\u001b[0m         ]\n\u001b[0;32m   1340\u001b[0m     )\n",
      "File \u001b[1;32me:\\LanggraphAgent\\venv\\lib\\site-packages\\langchain\\agents\\agent.py:1369\u001b[0m, in \u001b[0;36mAgentExecutor._iter_next_step\u001b[1;34m(self, name_to_tool_map, color_mapping, inputs, intermediate_steps, run_manager)\u001b[0m\n\u001b[0;32m   1367\u001b[0m     raise_error \u001b[38;5;241m=\u001b[39m \u001b[38;5;28;01mFalse\u001b[39;00m\n\u001b[0;32m   1368\u001b[0m \u001b[38;5;28;01mif\u001b[39;00m raise_error:\n\u001b[1;32m-> 1369\u001b[0m     \u001b[38;5;28;01mraise\u001b[39;00m \u001b[38;5;167;01mValueError\u001b[39;00m(\n\u001b[0;32m   1370\u001b[0m         \u001b[38;5;124m\"\u001b[39m\u001b[38;5;124mAn output parsing error occurred. \u001b[39m\u001b[38;5;124m\"\u001b[39m\n\u001b[0;32m   1371\u001b[0m         \u001b[38;5;124m\"\u001b[39m\u001b[38;5;124mIn order to pass this error back to the agent and have it try \u001b[39m\u001b[38;5;124m\"\u001b[39m\n\u001b[0;32m   1372\u001b[0m         \u001b[38;5;124m\"\u001b[39m\u001b[38;5;124magain, pass `handle_parsing_errors=True` to the AgentExecutor. \u001b[39m\u001b[38;5;124m\"\u001b[39m\n\u001b[0;32m   1373\u001b[0m         \u001b[38;5;124mf\u001b[39m\u001b[38;5;124m\"\u001b[39m\u001b[38;5;124mThis is the error: \u001b[39m\u001b[38;5;132;01m{\u001b[39;00m\u001b[38;5;28mstr\u001b[39m(e)\u001b[38;5;132;01m}\u001b[39;00m\u001b[38;5;124m\"\u001b[39m\n\u001b[0;32m   1374\u001b[0m     )\n\u001b[0;32m   1375\u001b[0m text \u001b[38;5;241m=\u001b[39m \u001b[38;5;28mstr\u001b[39m(e)\n\u001b[0;32m   1376\u001b[0m \u001b[38;5;28;01mif\u001b[39;00m \u001b[38;5;28misinstance\u001b[39m(\u001b[38;5;28mself\u001b[39m\u001b[38;5;241m.\u001b[39mhandle_parsing_errors, \u001b[38;5;28mbool\u001b[39m):\n",
      "\u001b[1;31mValueError\u001b[0m: An output parsing error occurred. In order to pass this error back to the agent and have it try again, pass `handle_parsing_errors=True` to the AgentExecutor. This is the error: Could not parse LLM output: `Thought :  There isn't a single definitive answer to who is the best football player of all time, as it's subjective and depends on individual preferences and criteria. \nFinal answer :  Some of the most commonly cited names in the \"greatest of all time\" conversation include Lionel Messi, Cristiano Ronaldo, Pelé, Diego Maradona, and Tom Brady (in the NFL). \n\n\n`\nFor troubleshooting, visit: https://python.langchain.com/docs/troubleshooting/errors/OUTPUT_PARSING_FAILURE "
     ]
    }
   ],
   "source": [
    "result = agent_executor.invoke({\"input\":\"Who is the best football player of all time?\"})"
   ]
  },
  {
   "cell_type": "code",
   "execution_count": null,
   "id": "acd80e20",
   "metadata": {},
   "outputs": [
    {
     "name": "stdout",
     "output_type": "stream",
     "text": [
      "\n",
      "\n",
      "\u001b[1m> Entering new AgentExecutor chain...\u001b[0m\n",
      "\u001b[32;1m\u001b[1;3mQuestion : Who is the god of Cricket, and what is his highest score?\n",
      "Thought :  I need to find out who is considered the \"god of cricket\" and then look up their highest score. \n",
      "Action : Web Answer\n",
      "Action Input : Who is considered the god of cricket?\u001b[0m\u001b[36;1m\u001b[1;3mFondly called the “God of Cricket” or “Master Blaster,” Sachin Tendulkar is considered one of the greatest batsmen of all time in the sport that is considered a national institution in India, cricket. Sachin Ramesh Tendulkar is an Indian former international cricketer who captained the Indian national team. He is widely regarded as one of the greatest ... Why is Sachin Tendulkar called the god of cricket? Is he called that just in India or is acknowledged all over the world. Sachin Tendulkar is known as God of cricket. Famously called the \"Master Blaster\" Sachin is known for his extraordinary and memorable career ... Sachin Tendulkar is widely regarded as the \"God of Cricket\" in world. He made his international cricket debut for India in a Test match against Pakistan in ... Cricket legend Sachin Tendulkar falls in this category -- born with talent in abundance, he nurtured it through hard work and through the sheer ... Sachin Tendulkar - The God of Cricket - never considered himself bigger than the game On This Day in 2013, Sachin Tendulkar finished his ... ... considered the god of cricket #Why sachin is god of cricket #Why sachin is master blaster #why sachin is called little master In this video ... Why is Sachin considered the God of Cricket? The Legend of Sachin Tendulkar: Why He's Known as the God of Cricket? January 27, 2025 November ... Virat Kohli is called the \"New God of Cricket\" due to his extraordinary achievements, consistency across formats, and ability to perform under pressure.\u001b[0m\u001b[32;1m\u001b[1;3mQuestion : Who is the god of Cricket, and what is his highest score?\n",
      "Thought :  I need to find out who is considered the \"god of cricket\" and then look up their highest score. \n",
      "Action : Web Answer\n",
      "Action Input : Who is considered the god of cricket?\u001b[0m\u001b[36;1m\u001b[1;3mFondly called the “God of Cricket” or “Master Blaster,” Sachin Tendulkar is considered one of the greatest batsmen of all time in the sport that is considered a national institution in India, cricket. Sachin Ramesh Tendulkar is an Indian former international cricketer who captained the Indian national team. He is widely regarded as one of the greatest ... Why is Sachin Tendulkar called the god of cricket? Is he called that just in India or is acknowledged all over the world. Sachin Tendulkar is known as God of cricket. Famously called the \"Master Blaster\" Sachin is known for his extraordinary and memorable career ... Sachin Tendulkar is widely regarded as the \"God of Cricket\" in world. He made his international cricket debut for India in a Test match against Pakistan in ... Cricket legend Sachin Tendulkar falls in this category -- born with talent in abundance, he nurtured it through hard work and through the sheer ... Sachin Tendulkar - The God of Cricket - never considered himself bigger than the game On This Day in 2013, Sachin Tendulkar finished his ... ... considered the god of cricket #Why sachin is god of cricket #Why sachin is master blaster #why sachin is called little master In this video ... Virat Kohli is called the \"New God of Cricket\" due to his extraordinary achievements, consistency across formats, and ability to perform under pressure. Why is Sachin considered the God of Cricket? The Legend of Sachin Tendulkar: Why He's Known as the God of Cricket? January 27, 2025 November ...\u001b[0m\u001b[32;1m\u001b[1;3mQuestion : Who is the god of Cricket, and what is his highest score?\n",
      "Thought :  I need to find out who is considered the \"god of cricket\" and then look up their highest score. \n",
      "Action : Web Answer\n",
      "Action Input : Who is considered the god of cricket?\u001b[0m\u001b[36;1m\u001b[1;3mSachin Tendulkar is widely regarded as the \"God of Cricket\" in world. Sachin Ramesh Tendulkar is an Indian former international cricketer who captained the Indian national team. He is widely regarded as one of the greatest ... Why is Sachin Tendulkar called the god of cricket? Is he called that just in India or is acknowledged all over the world. Sachin Tendulkar is known as God of cricket. Famously called the \"Master Blaster\" Sachin is known for his extraordinary and memorable career ... Cricket legend Sachin Tendulkar falls in this category -- born with talent in abundance, he nurtured it through hard work and through the sheer ... Sachin Tendulkar - The God of Cricket - never considered himself bigger than the game On This Day in 2013, Sachin Tendulkar finished his ... ... considered the god of cricket #Why sachin is god of cricket #Why sachin is master blaster #why sachin is called little master In this video ... Former Indian cricketer and batting legend Sachin Ramesh Tendulkar, who is the god of cricket in the world. Why is Sachin considered the God of Cricket? The Legend of Sachin Tendulkar: Why He's Known as the God of Cricket? January 27, 2025 November ... Virat Kohli is called the \"New God of Cricket\" due to his extraordinary achievements, consistency across formats, and ability to perform under pressure.\u001b[0m\u001b[32;1m\u001b[1;3mQuestion : Who is the god of Cricket, and what is his highest score?\n",
      "Thought :  I need to find out who is considered the \"god of cricket\" and then look up their highest score. \n",
      "Action : Web Answer\n",
      "Action Input : Who is considered the god of cricket?\u001b[0m\u001b[36;1m\u001b[1;3mFondly called the “God of Cricket” or “Master Blaster,” Sachin Tendulkar is considered one of the greatest batsmen of all time in the sport that is considered a national institution in India, cricket. Sachin Ramesh Tendulkar is an Indian former international cricketer who captained the Indian national team. He is widely regarded as one of the greatest ... Why is Sachin Tendulkar called the god of cricket? Is he called that just in India or is acknowledged all over the world. Sachin Tendulkar is known as God of cricket. Famously called the \"Master Blaster\" Sachin is known for his extraordinary and memorable career ... Sachin Tendulkar is widely regarded as the \"God of Cricket\" in world. He made his international cricket debut for India in a Test match against Pakistan in ... Cricket legend Sachin Tendulkar falls in this category -- born with talent in abundance, he nurtured it through hard work and through the sheer ... Sachin Tendulkar - The God of Cricket - never considered himself bigger than the game On This Day in 2013, Sachin Tendulkar finished his ... ... considered the god of cricket #Why sachin is god of cricket #Why sachin is master blaster #why sachin is called little master In this video ... Virat Kohli is called the \"New God of Cricket\" due to his extraordinary achievements, consistency across formats, and ability to perform under pressure. Why is Sachin considered the God of Cricket? The Legend of Sachin Tendulkar: Why He's Known as the God of Cricket? January 27, 2025 November ...\u001b[0m\u001b[32;1m\u001b[1;3mQuestion : Who is the god of Cricket, and what is his highest score?\n",
      "Thought :  I need to find out who is considered the \"god of cricket\" and then look up their highest score. \n",
      "Action : Web Answer\n",
      "Action Input : Who is considered the god of cricket?\u001b[0m\u001b[36;1m\u001b[1;3mFondly called the “God of Cricket” or “Master Blaster,” Sachin Tendulkar is considered one of the greatest batsmen of all time in the sport that is considered a national institution in India, cricket. Sachin Ramesh Tendulkar is an Indian former international cricketer who captained the Indian national team. He is widely regarded as one of the greatest ... Why is Sachin Tendulkar called the god of cricket? Is he called that just in India or is acknowledged all over the world. Sachin Tendulkar is known as God of cricket. Famously called the \"Master Blaster\" Sachin is known for his extraordinary and memorable career ... Sachin Tendulkar is widely regarded as the \"God of Cricket\" in world. He made his international cricket debut for India in a Test match against Pakistan in ... Cricket legend Sachin Tendulkar falls in this category -- born with talent in abundance, he nurtured it through hard work and through the sheer ... Sachin Tendulkar - The God of Cricket - never considered himself bigger than the game On This Day in 2013, Sachin Tendulkar finished his ... ... considered the god of cricket #Why sachin is god of cricket #Why sachin is master blaster #why sachin is called little master In this video ... Virat Kohli is called the \"New God of Cricket\" due to his extraordinary achievements, consistency across formats, and ability to perform under pressure. Why is Sachin considered the God of Cricket? The Legend of Sachin Tendulkar: Why He's Known as the God of Cricket? January 27, 2025 November ...\u001b[0m\u001b[32;1m\u001b[1;3mQuestion : Who is the god of Cricket, and what is his highest score?\n",
      "Thought :  I need to find out who is considered the \"god of cricket\" and then look up their highest score. \n",
      "Action : Web Answer\n",
      "Action Input : Who is considered the god of cricket?\u001b[0m\u001b[36;1m\u001b[1;3mFondly called the “God of Cricket” or “Master Blaster,” Sachin Tendulkar is considered one of the greatest batsmen of all time in the sport that is considered a national institution in India, cricket. Sachin Ramesh Tendulkar is an Indian former international cricketer who captained the Indian national team. He is widely regarded as one of the greatest ... Why is Sachin Tendulkar called the god of cricket? Is he called that just in India or is acknowledged all over the world. Sachin Tendulkar is known as God of cricket. Famously called the \"Master Blaster\" Sachin is known for his extraordinary and memorable career ... Sachin Tendulkar is widely regarded as the \"God of Cricket\" in world. He made his international cricket debut for India in a Test match against Pakistan in ... Cricket legend Sachin Tendulkar falls in this category -- born with talent in abundance, he nurtured it through hard work and through the sheer ... Sachin Tendulkar - The God of Cricket - never considered himself bigger than the game On This Day in 2013, Sachin Tendulkar finished his ... ... considered the god of cricket #Why sachin is god of cricket #Why sachin is master blaster #why sachin is called little master In this video ... Virat Kohli is called the \"New God of Cricket\" due to his extraordinary achievements, consistency across formats, and ability to perform under pressure. Why is Sachin considered the God of Cricket? The Legend of Sachin Tendulkar: Why He's Known as the God of Cricket? January 27, 2025 November ...\u001b[0m\u001b[32;1m\u001b[1;3mQuestion : Who is the god of Cricket, and what is his highest score?\n",
      "Thought :  I need to find out who is considered the \"god of cricket\" and then look up their highest score. \n",
      "Action : Web Answer\n",
      "Action Input : Who is considered the god of cricket?\u001b[0m\u001b[36;1m\u001b[1;3mFondly called the “God of Cricket” or “Master Blaster,” Sachin Tendulkar is considered one of the greatest batsmen of all time in the sport that is considered a national institution in India, cricket. Sachin Ramesh Tendulkar is an Indian former international cricketer who captained the Indian national team. He is widely regarded as one of the greatest ... Why is Sachin Tendulkar called the god of cricket? Is he called that just in India or is acknowledged all over the world. Sachin Tendulkar is known as God of cricket. Famously called the \"Master Blaster\" Sachin is known for his extraordinary and memorable career ... Sachin Tendulkar is widely regarded as the \"God of Cricket\" in world. He made his international cricket debut for India in a Test match against Pakistan in ... Cricket legend Sachin Tendulkar falls in this category -- born with talent in abundance, he nurtured it through hard work and through the sheer ... Sachin Tendulkar - The God of Cricket - never considered himself bigger than the game On This Day in 2013, Sachin Tendulkar finished his ... ... considered the god of cricket #Why sachin is god of cricket #Why sachin is master blaster #why sachin is called little master In this video ... Why is Sachin considered the God of Cricket? The Legend of Sachin Tendulkar: Why He's Known as the God of Cricket? January 27, 2025 November ... Virat Kohli is called the \"New God of Cricket\" due to his extraordinary achievements, consistency across formats, and ability to perform under pressure.\u001b[0m\u001b[32;1m\u001b[1;3mThought : I need to find out who is considered the \"god of cricket\" and then look up their highest score. \n",
      "Action : Web Answer\n",
      "Action Input : What is Sachin Tendulkar's highest score?\u001b[0m\u001b[36;1m\u001b[1;3mSachin Tendulkar: Cricketer and former Member of Rajya Sabha. Sachin Ramesh Tendulkar is an Indian former international cricketer who captained the Indian national team. Sachin Tendulkar Born: April 24, 1973 (age 51 years), Mumbai, India. Sachin Tendulkar Number of centuries: 100. Sachin Tendulkar Previous office: Member of Rajya Sabha (2012–2018). Sachin Tendulkar Dates joined: 2008 ( Mumbai Indians ), 1992 ( Yorkshire County Cricket Club ), November 15, 1989 ( India national cricket team ), and more. Sachin Tendulkar Awards: Bharat Ratna, Padma Shri, Padma Vibhushan, and more. Sachin Tendulkar Nominations: Laureus Sporting Moment 2000-2020 Award. Sachin Tendulkar Books: Playing It My Way. Top score, 248*, 200*, 248*, 200* · Balls bowled, 4,240, 8,054, 7,605, 10,230. Wickets ... In the second Test at Port of Spain, Sachin Tendulkar scored 117 in the ... Sachin Tendulkar Career Stats ; Tests, 200, 145, 4240, 2492 ; ODIs, 463, 270, 8054, 6850 ... His highest score of 264 came against Sri Lanka at Eden Garden in 2014. The man smacked 209 and 208* runs, respectively, against Australia and ... He scored 179 in this match that started on 1 Dec but his innings was split across 1st and 2nd Dec. He made his highest score in 2004, when he made 248 not out against Bangladesh at the Bangabandhu National Stadium, Dhaka. Tendulkar has scored six double ... Allround: Batting and fielding. record. 5000 runs and 50 fielding dismissals · Batting: Most runs. 1st. Most runs in career (15921) · Batting: Averages and strike ... Sachin Tendulkar's highest score in test cricket is 248 not out. He scored this against Bangladesh in Dhaka in 2004. It was his 34th Test ... Twelfth on the list of highest individual ODI scores is Sachin Tendulkar, who scored 200 not out off 147 balls in a win against South Africa in ... During a 2003 ODI World Cup game against Namibia in February, Tendulkar was at his brilliant best and scored a 151-ball 152 to help India post ... 9553 likes, 14 comments - krishhari10_4.0 on January 21, 2025: \"Sachin Tendulkar's highest Test score of 248* was indeed fueled by a ...\u001b[0m\u001b[32;1m\u001b[1;3mThought : I need to find out who is considered the \"god of cricket\" and then look up their highest score. \n",
      "Action : Web Answer\n",
      "Action Input : What is Sachin Tendulkar's highest score?\u001b[0m\u001b[36;1m\u001b[1;3mSachin Tendulkar: Cricketer and former Member of Rajya Sabha. Sachin Ramesh Tendulkar is an Indian former international cricketer who captained the Indian national team. Sachin Tendulkar Born: April 24, 1973 (age 51 years), Mumbai, India. Sachin Tendulkar Number of centuries: 100. Sachin Tendulkar Previous office: Member of Rajya Sabha (2012–2018). Sachin Tendulkar Dates joined: 2008 ( Mumbai Indians ), 1992 ( Yorkshire County Cricket Club ), November 15, 1989 ( India national cricket team ), and more. Sachin Tendulkar Awards: Bharat Ratna, Padma Shri, Padma Vibhushan, and more. Sachin Tendulkar Nominations: Laureus Sporting Moment 2000-2020 Award. Sachin Tendulkar Books: Playing It My Way. Top score, 248*, 200*, 248*, 200* · Balls bowled, 4,240, 8,054, 7,605, 10,230. Wickets ... In the second Test at Port of Spain, Sachin Tendulkar scored 117 in the ... Sachin Tendulkar Career Stats ; Tests, 200, 145, 4240, 2492 ; ODIs, 463, 270, 8054, 6850 ... His highest score of 264 came against Sri Lanka at Eden Garden in 2014. The man smacked 209 and 208* runs, respectively, against Australia and ... He made his highest score in 2004, when he made 248 not out against Bangladesh at the Bangabandhu National Stadium, Dhaka. Tendulkar has scored six double ... Sachin's 143 Against Aussies at Sharjah 1998. r/frontfootporn - Sachin's 143 Against Aussies at Sharjah 1998. 0:59. 308 upvotes · 21 comments ... Allround: Batting and fielding. record. 5000 runs and 50 fielding dismissals · Batting: Most runs. 1st. Most runs in career (15921) · Batting: Averages and strike ... Sachin Tendulkar's highest score in test cricket is 248 not out. He scored this against Bangladesh in Dhaka in 2004. It was his 34th Test ... Twelfth on the list of highest individual ODI scores is Sachin Tendulkar, who scored 200 not out off 147 balls in a win against South Africa in ... During a 2003 ODI World Cup game against Namibia in February, Tendulkar was at his brilliant best and scored a 151-ball 152 to help India post ... Sachin Tendulkar scored his highest Test score vs Bangladesh; Sachin scored 248* runs as he shared 133-run stand with Zaheer Khan; India won ...\u001b[0m"
     ]
    },
    {
     "ename": "ValueError",
     "evalue": "An output parsing error occurred. In order to pass this error back to the agent and have it try again, pass `handle_parsing_errors=True` to the AgentExecutor. This is the error: Could not parse LLM output: `Thought : I now know the final answer\nFinal answer : Sachin Tendulkar's highest score is 248 not out. \n\n\n`\nFor troubleshooting, visit: https://python.langchain.com/docs/troubleshooting/errors/OUTPUT_PARSING_FAILURE ",
     "output_type": "error",
     "traceback": [
      "\u001b[1;31m---------------------------------------------------------------------------\u001b[0m",
      "\u001b[1;31mOutputParserException\u001b[0m                     Traceback (most recent call last)",
      "File \u001b[1;32me:\\LanggraphAgent\\venv\\lib\\site-packages\\langchain\\agents\\agent.py:1358\u001b[0m, in \u001b[0;36mAgentExecutor._iter_next_step\u001b[1;34m(self, name_to_tool_map, color_mapping, inputs, intermediate_steps, run_manager)\u001b[0m\n\u001b[0;32m   1357\u001b[0m     \u001b[38;5;66;03m# Call the LLM to see what to do.\u001b[39;00m\n\u001b[1;32m-> 1358\u001b[0m     output \u001b[38;5;241m=\u001b[39m \u001b[38;5;28mself\u001b[39m\u001b[38;5;241m.\u001b[39m_action_agent\u001b[38;5;241m.\u001b[39mplan(\n\u001b[0;32m   1359\u001b[0m         intermediate_steps,\n\u001b[0;32m   1360\u001b[0m         callbacks\u001b[38;5;241m=\u001b[39mrun_manager\u001b[38;5;241m.\u001b[39mget_child() \u001b[38;5;28;01mif\u001b[39;00m run_manager \u001b[38;5;28;01melse\u001b[39;00m \u001b[38;5;28;01mNone\u001b[39;00m,\n\u001b[0;32m   1361\u001b[0m         \u001b[38;5;241m*\u001b[39m\u001b[38;5;241m*\u001b[39minputs,\n\u001b[0;32m   1362\u001b[0m     )\n\u001b[0;32m   1363\u001b[0m \u001b[38;5;28;01mexcept\u001b[39;00m OutputParserException \u001b[38;5;28;01mas\u001b[39;00m e:\n",
      "File \u001b[1;32me:\\LanggraphAgent\\venv\\lib\\site-packages\\langchain\\agents\\agent.py:465\u001b[0m, in \u001b[0;36mRunnableAgent.plan\u001b[1;34m(self, intermediate_steps, callbacks, **kwargs)\u001b[0m\n\u001b[0;32m    458\u001b[0m \u001b[38;5;28;01mif\u001b[39;00m \u001b[38;5;28mself\u001b[39m\u001b[38;5;241m.\u001b[39mstream_runnable:\n\u001b[0;32m    459\u001b[0m     \u001b[38;5;66;03m# Use streaming to make sure that the underlying LLM is invoked in a\u001b[39;00m\n\u001b[0;32m    460\u001b[0m     \u001b[38;5;66;03m# streaming\u001b[39;00m\n\u001b[1;32m   (...)\u001b[0m\n\u001b[0;32m    463\u001b[0m     \u001b[38;5;66;03m# Because the response from the plan is not a generator, we need to\u001b[39;00m\n\u001b[0;32m    464\u001b[0m     \u001b[38;5;66;03m# accumulate the output into final output and return that.\u001b[39;00m\n\u001b[1;32m--> 465\u001b[0m     \u001b[38;5;28;01mfor\u001b[39;00m chunk \u001b[38;5;129;01min\u001b[39;00m \u001b[38;5;28mself\u001b[39m\u001b[38;5;241m.\u001b[39mrunnable\u001b[38;5;241m.\u001b[39mstream(inputs, config\u001b[38;5;241m=\u001b[39m{\u001b[38;5;124m\"\u001b[39m\u001b[38;5;124mcallbacks\u001b[39m\u001b[38;5;124m\"\u001b[39m: callbacks}):\n\u001b[0;32m    466\u001b[0m         \u001b[38;5;28;01mif\u001b[39;00m final_output \u001b[38;5;129;01mis\u001b[39;00m \u001b[38;5;28;01mNone\u001b[39;00m:\n",
      "File \u001b[1;32me:\\LanggraphAgent\\venv\\lib\\site-packages\\langchain_core\\runnables\\base.py:3424\u001b[0m, in \u001b[0;36mRunnableSequence.stream\u001b[1;34m(self, input, config, **kwargs)\u001b[0m\n\u001b[0;32m   3417\u001b[0m \u001b[38;5;129m@override\u001b[39m\n\u001b[0;32m   3418\u001b[0m \u001b[38;5;28;01mdef\u001b[39;00m\u001b[38;5;250m \u001b[39m\u001b[38;5;21mstream\u001b[39m(\n\u001b[0;32m   3419\u001b[0m     \u001b[38;5;28mself\u001b[39m,\n\u001b[1;32m   (...)\u001b[0m\n\u001b[0;32m   3422\u001b[0m     \u001b[38;5;241m*\u001b[39m\u001b[38;5;241m*\u001b[39mkwargs: Optional[Any],\n\u001b[0;32m   3423\u001b[0m ) \u001b[38;5;241m-\u001b[39m\u001b[38;5;241m>\u001b[39m Iterator[Output]:\n\u001b[1;32m-> 3424\u001b[0m     \u001b[38;5;28;01myield from\u001b[39;00m \u001b[38;5;28mself\u001b[39m\u001b[38;5;241m.\u001b[39mtransform(\u001b[38;5;28miter\u001b[39m([\u001b[38;5;28minput\u001b[39m]), config, \u001b[38;5;241m*\u001b[39m\u001b[38;5;241m*\u001b[39mkwargs)\n",
      "File \u001b[1;32me:\\LanggraphAgent\\venv\\lib\\site-packages\\langchain_core\\runnables\\base.py:3410\u001b[0m, in \u001b[0;36mRunnableSequence.transform\u001b[1;34m(self, input, config, **kwargs)\u001b[0m\n\u001b[0;32m   3403\u001b[0m \u001b[38;5;129m@override\u001b[39m\n\u001b[0;32m   3404\u001b[0m \u001b[38;5;28;01mdef\u001b[39;00m\u001b[38;5;250m \u001b[39m\u001b[38;5;21mtransform\u001b[39m(\n\u001b[0;32m   3405\u001b[0m     \u001b[38;5;28mself\u001b[39m,\n\u001b[1;32m   (...)\u001b[0m\n\u001b[0;32m   3408\u001b[0m     \u001b[38;5;241m*\u001b[39m\u001b[38;5;241m*\u001b[39mkwargs: Optional[Any],\n\u001b[0;32m   3409\u001b[0m ) \u001b[38;5;241m-\u001b[39m\u001b[38;5;241m>\u001b[39m Iterator[Output]:\n\u001b[1;32m-> 3410\u001b[0m     \u001b[38;5;28;01myield from\u001b[39;00m \u001b[38;5;28mself\u001b[39m\u001b[38;5;241m.\u001b[39m_transform_stream_with_config(\n\u001b[0;32m   3411\u001b[0m         \u001b[38;5;28minput\u001b[39m,\n\u001b[0;32m   3412\u001b[0m         \u001b[38;5;28mself\u001b[39m\u001b[38;5;241m.\u001b[39m_transform,\n\u001b[0;32m   3413\u001b[0m         patch_config(config, run_name\u001b[38;5;241m=\u001b[39m(config \u001b[38;5;129;01mor\u001b[39;00m {})\u001b[38;5;241m.\u001b[39mget(\u001b[38;5;124m\"\u001b[39m\u001b[38;5;124mrun_name\u001b[39m\u001b[38;5;124m\"\u001b[39m) \u001b[38;5;129;01mor\u001b[39;00m \u001b[38;5;28mself\u001b[39m\u001b[38;5;241m.\u001b[39mname),\n\u001b[0;32m   3414\u001b[0m         \u001b[38;5;241m*\u001b[39m\u001b[38;5;241m*\u001b[39mkwargs,\n\u001b[0;32m   3415\u001b[0m     )\n",
      "File \u001b[1;32me:\\LanggraphAgent\\venv\\lib\\site-packages\\langchain_core\\runnables\\base.py:2205\u001b[0m, in \u001b[0;36mRunnable._transform_stream_with_config\u001b[1;34m(self, input, transformer, config, run_type, **kwargs)\u001b[0m\n\u001b[0;32m   2204\u001b[0m \u001b[38;5;28;01mwhile\u001b[39;00m \u001b[38;5;28;01mTrue\u001b[39;00m:\n\u001b[1;32m-> 2205\u001b[0m     chunk: Output \u001b[38;5;241m=\u001b[39m \u001b[43mcontext\u001b[49m\u001b[38;5;241;43m.\u001b[39;49m\u001b[43mrun\u001b[49m\u001b[43m(\u001b[49m\u001b[38;5;28;43mnext\u001b[39;49m\u001b[43m,\u001b[49m\u001b[43m \u001b[49m\u001b[43miterator\u001b[49m\u001b[43m)\u001b[49m\n\u001b[0;32m   2206\u001b[0m     \u001b[38;5;28;01myield\u001b[39;00m chunk\n",
      "File \u001b[1;32me:\\LanggraphAgent\\venv\\lib\\site-packages\\langchain_core\\runnables\\base.py:3372\u001b[0m, in \u001b[0;36mRunnableSequence._transform\u001b[1;34m(self, input, run_manager, config, **kwargs)\u001b[0m\n\u001b[0;32m   3370\u001b[0m         final_pipeline \u001b[38;5;241m=\u001b[39m step\u001b[38;5;241m.\u001b[39mtransform(final_pipeline, config)\n\u001b[1;32m-> 3372\u001b[0m \u001b[38;5;28;01myield from\u001b[39;00m final_pipeline\n",
      "File \u001b[1;32me:\\LanggraphAgent\\venv\\lib\\site-packages\\langchain_core\\runnables\\base.py:1437\u001b[0m, in \u001b[0;36mRunnable.transform\u001b[1;34m(self, input, config, **kwargs)\u001b[0m\n\u001b[0;32m   1436\u001b[0m \u001b[38;5;28;01mif\u001b[39;00m got_first_val:\n\u001b[1;32m-> 1437\u001b[0m     \u001b[38;5;28;01myield from\u001b[39;00m \u001b[38;5;28mself\u001b[39m\u001b[38;5;241m.\u001b[39mstream(final, config, \u001b[38;5;241m*\u001b[39m\u001b[38;5;241m*\u001b[39mkwargs)\n",
      "File \u001b[1;32me:\\LanggraphAgent\\venv\\lib\\site-packages\\langchain_core\\runnables\\base.py:1004\u001b[0m, in \u001b[0;36mRunnable.stream\u001b[1;34m(self, input, config, **kwargs)\u001b[0m\n\u001b[0;32m    992\u001b[0m \u001b[38;5;250m\u001b[39m\u001b[38;5;124;03m\"\"\"Default implementation of stream, which calls invoke.\u001b[39;00m\n\u001b[0;32m    993\u001b[0m \n\u001b[0;32m    994\u001b[0m \u001b[38;5;124;03mSubclasses should override this method if they support streaming output.\u001b[39;00m\n\u001b[1;32m   (...)\u001b[0m\n\u001b[0;32m   1002\u001b[0m \u001b[38;5;124;03m    The output of the Runnable.\u001b[39;00m\n\u001b[0;32m   1003\u001b[0m \u001b[38;5;124;03m\"\"\"\u001b[39;00m\n\u001b[1;32m-> 1004\u001b[0m \u001b[38;5;28;01myield\u001b[39;00m \u001b[38;5;28mself\u001b[39m\u001b[38;5;241m.\u001b[39minvoke(\u001b[38;5;28minput\u001b[39m, config, \u001b[38;5;241m*\u001b[39m\u001b[38;5;241m*\u001b[39mkwargs)\n",
      "File \u001b[1;32me:\\LanggraphAgent\\venv\\lib\\site-packages\\langchain_core\\output_parsers\\base.py:196\u001b[0m, in \u001b[0;36mBaseOutputParser.invoke\u001b[1;34m(self, input, config, **kwargs)\u001b[0m\n\u001b[0;32m    195\u001b[0m \u001b[38;5;28;01mif\u001b[39;00m \u001b[38;5;28misinstance\u001b[39m(\u001b[38;5;28minput\u001b[39m, BaseMessage):\n\u001b[1;32m--> 196\u001b[0m     \u001b[38;5;28;01mreturn\u001b[39;00m \u001b[38;5;28;43mself\u001b[39;49m\u001b[38;5;241;43m.\u001b[39;49m\u001b[43m_call_with_config\u001b[49m\u001b[43m(\u001b[49m\n\u001b[0;32m    197\u001b[0m \u001b[43m        \u001b[49m\u001b[38;5;28;43;01mlambda\u001b[39;49;00m\u001b[43m \u001b[49m\u001b[43minner_input\u001b[49m\u001b[43m:\u001b[49m\u001b[43m \u001b[49m\u001b[38;5;28;43mself\u001b[39;49m\u001b[38;5;241;43m.\u001b[39;49m\u001b[43mparse_result\u001b[49m\u001b[43m(\u001b[49m\n\u001b[0;32m    198\u001b[0m \u001b[43m            \u001b[49m\u001b[43m[\u001b[49m\u001b[43mChatGeneration\u001b[49m\u001b[43m(\u001b[49m\u001b[43mmessage\u001b[49m\u001b[38;5;241;43m=\u001b[39;49m\u001b[43minner_input\u001b[49m\u001b[43m)\u001b[49m\u001b[43m]\u001b[49m\n\u001b[0;32m    199\u001b[0m \u001b[43m        \u001b[49m\u001b[43m)\u001b[49m\u001b[43m,\u001b[49m\n\u001b[0;32m    200\u001b[0m \u001b[43m        \u001b[49m\u001b[38;5;28;43minput\u001b[39;49m\u001b[43m,\u001b[49m\n\u001b[0;32m    201\u001b[0m \u001b[43m        \u001b[49m\u001b[43mconfig\u001b[49m\u001b[43m,\u001b[49m\n\u001b[0;32m    202\u001b[0m \u001b[43m        \u001b[49m\u001b[43mrun_type\u001b[49m\u001b[38;5;241;43m=\u001b[39;49m\u001b[38;5;124;43m\"\u001b[39;49m\u001b[38;5;124;43mparser\u001b[39;49m\u001b[38;5;124;43m\"\u001b[39;49m\u001b[43m,\u001b[49m\n\u001b[0;32m    203\u001b[0m \u001b[43m    \u001b[49m\u001b[43m)\u001b[49m\n\u001b[0;32m    204\u001b[0m \u001b[38;5;28;01mreturn\u001b[39;00m \u001b[38;5;28mself\u001b[39m\u001b[38;5;241m.\u001b[39m_call_with_config(\n\u001b[0;32m    205\u001b[0m     \u001b[38;5;28;01mlambda\u001b[39;00m inner_input: \u001b[38;5;28mself\u001b[39m\u001b[38;5;241m.\u001b[39mparse_result([Generation(text\u001b[38;5;241m=\u001b[39minner_input)]),\n\u001b[0;32m    206\u001b[0m     \u001b[38;5;28minput\u001b[39m,\n\u001b[0;32m    207\u001b[0m     config,\n\u001b[0;32m    208\u001b[0m     run_type\u001b[38;5;241m=\u001b[39m\u001b[38;5;124m\"\u001b[39m\u001b[38;5;124mparser\u001b[39m\u001b[38;5;124m\"\u001b[39m,\n\u001b[0;32m    209\u001b[0m )\n",
      "File \u001b[1;32me:\\LanggraphAgent\\venv\\lib\\site-packages\\langchain_core\\runnables\\base.py:1930\u001b[0m, in \u001b[0;36mRunnable._call_with_config\u001b[1;34m(self, func, input, config, run_type, serialized, **kwargs)\u001b[0m\n\u001b[0;32m   1927\u001b[0m     \u001b[38;5;28;01mwith\u001b[39;00m set_config_context(child_config) \u001b[38;5;28;01mas\u001b[39;00m context:\n\u001b[0;32m   1928\u001b[0m         output \u001b[38;5;241m=\u001b[39m cast(\n\u001b[0;32m   1929\u001b[0m             \u001b[38;5;124m\"\u001b[39m\u001b[38;5;124mOutput\u001b[39m\u001b[38;5;124m\"\u001b[39m,\n\u001b[1;32m-> 1930\u001b[0m             context\u001b[38;5;241m.\u001b[39mrun(\n\u001b[0;32m   1931\u001b[0m                 call_func_with_variable_args,  \u001b[38;5;66;03m# type: ignore[arg-type]\u001b[39;00m\n\u001b[0;32m   1932\u001b[0m                 func,\n\u001b[0;32m   1933\u001b[0m                 \u001b[38;5;28minput\u001b[39m,\n\u001b[0;32m   1934\u001b[0m                 config,\n\u001b[0;32m   1935\u001b[0m                 run_manager,\n\u001b[0;32m   1936\u001b[0m                 \u001b[38;5;241m*\u001b[39m\u001b[38;5;241m*\u001b[39mkwargs,\n\u001b[0;32m   1937\u001b[0m             ),\n\u001b[0;32m   1938\u001b[0m         )\n\u001b[0;32m   1939\u001b[0m \u001b[38;5;28;01mexcept\u001b[39;00m \u001b[38;5;167;01mBaseException\u001b[39;00m \u001b[38;5;28;01mas\u001b[39;00m e:\n",
      "File \u001b[1;32me:\\LanggraphAgent\\venv\\lib\\site-packages\\langchain_core\\runnables\\config.py:428\u001b[0m, in \u001b[0;36mcall_func_with_variable_args\u001b[1;34m(func, input, config, run_manager, **kwargs)\u001b[0m\n\u001b[0;32m    427\u001b[0m     kwargs[\u001b[38;5;124m\"\u001b[39m\u001b[38;5;124mrun_manager\u001b[39m\u001b[38;5;124m\"\u001b[39m] \u001b[38;5;241m=\u001b[39m run_manager\n\u001b[1;32m--> 428\u001b[0m \u001b[38;5;28;01mreturn\u001b[39;00m func(\u001b[38;5;28minput\u001b[39m, \u001b[38;5;241m*\u001b[39m\u001b[38;5;241m*\u001b[39mkwargs)\n",
      "File \u001b[1;32me:\\LanggraphAgent\\venv\\lib\\site-packages\\langchain_core\\output_parsers\\base.py:197\u001b[0m, in \u001b[0;36mBaseOutputParser.invoke.<locals>.<lambda>\u001b[1;34m(inner_input)\u001b[0m\n\u001b[0;32m    195\u001b[0m \u001b[38;5;28;01mif\u001b[39;00m \u001b[38;5;28misinstance\u001b[39m(\u001b[38;5;28minput\u001b[39m, BaseMessage):\n\u001b[0;32m    196\u001b[0m     \u001b[38;5;28;01mreturn\u001b[39;00m \u001b[38;5;28mself\u001b[39m\u001b[38;5;241m.\u001b[39m_call_with_config(\n\u001b[1;32m--> 197\u001b[0m         \u001b[38;5;28;01mlambda\u001b[39;00m inner_input: \u001b[38;5;28;43mself\u001b[39;49m\u001b[38;5;241;43m.\u001b[39;49m\u001b[43mparse_result\u001b[49m\u001b[43m(\u001b[49m\n\u001b[0;32m    198\u001b[0m \u001b[43m            \u001b[49m\u001b[43m[\u001b[49m\u001b[43mChatGeneration\u001b[49m\u001b[43m(\u001b[49m\u001b[43mmessage\u001b[49m\u001b[38;5;241;43m=\u001b[39;49m\u001b[43minner_input\u001b[49m\u001b[43m)\u001b[49m\u001b[43m]\u001b[49m\n\u001b[0;32m    199\u001b[0m \u001b[43m        \u001b[49m\u001b[43m)\u001b[49m,\n\u001b[0;32m    200\u001b[0m         \u001b[38;5;28minput\u001b[39m,\n\u001b[0;32m    201\u001b[0m         config,\n\u001b[0;32m    202\u001b[0m         run_type\u001b[38;5;241m=\u001b[39m\u001b[38;5;124m\"\u001b[39m\u001b[38;5;124mparser\u001b[39m\u001b[38;5;124m\"\u001b[39m,\n\u001b[0;32m    203\u001b[0m     )\n\u001b[0;32m    204\u001b[0m \u001b[38;5;28;01mreturn\u001b[39;00m \u001b[38;5;28mself\u001b[39m\u001b[38;5;241m.\u001b[39m_call_with_config(\n\u001b[0;32m    205\u001b[0m     \u001b[38;5;28;01mlambda\u001b[39;00m inner_input: \u001b[38;5;28mself\u001b[39m\u001b[38;5;241m.\u001b[39mparse_result([Generation(text\u001b[38;5;241m=\u001b[39minner_input)]),\n\u001b[0;32m    206\u001b[0m     \u001b[38;5;28minput\u001b[39m,\n\u001b[0;32m    207\u001b[0m     config,\n\u001b[0;32m    208\u001b[0m     run_type\u001b[38;5;241m=\u001b[39m\u001b[38;5;124m\"\u001b[39m\u001b[38;5;124mparser\u001b[39m\u001b[38;5;124m\"\u001b[39m,\n\u001b[0;32m    209\u001b[0m )\n",
      "File \u001b[1;32me:\\LanggraphAgent\\venv\\lib\\site-packages\\langchain_core\\output_parsers\\base.py:250\u001b[0m, in \u001b[0;36mBaseOutputParser.parse_result\u001b[1;34m(self, result, partial)\u001b[0m\n\u001b[0;32m    236\u001b[0m \u001b[38;5;250m\u001b[39m\u001b[38;5;124;03m\"\"\"Parse a list of candidate model Generations into a specific format.\u001b[39;00m\n\u001b[0;32m    237\u001b[0m \n\u001b[0;32m    238\u001b[0m \u001b[38;5;124;03mThe return value is parsed from only the first Generation in the result, which\u001b[39;00m\n\u001b[1;32m   (...)\u001b[0m\n\u001b[0;32m    248\u001b[0m \u001b[38;5;124;03m    Structured output.\u001b[39;00m\n\u001b[0;32m    249\u001b[0m \u001b[38;5;124;03m\"\"\"\u001b[39;00m\n\u001b[1;32m--> 250\u001b[0m \u001b[38;5;28;01mreturn\u001b[39;00m \u001b[38;5;28;43mself\u001b[39;49m\u001b[38;5;241;43m.\u001b[39;49m\u001b[43mparse\u001b[49m\u001b[43m(\u001b[49m\u001b[43mresult\u001b[49m\u001b[43m[\u001b[49m\u001b[38;5;241;43m0\u001b[39;49m\u001b[43m]\u001b[49m\u001b[38;5;241;43m.\u001b[39;49m\u001b[43mtext\u001b[49m\u001b[43m)\u001b[49m\n",
      "File \u001b[1;32me:\\LanggraphAgent\\venv\\lib\\site-packages\\langchain\\agents\\output_parsers\\react_single_input.py:75\u001b[0m, in \u001b[0;36mReActSingleInputOutputParser.parse\u001b[1;34m(self, text)\u001b[0m\n\u001b[0;32m     74\u001b[0m \u001b[38;5;28;01mif\u001b[39;00m \u001b[38;5;129;01mnot\u001b[39;00m re\u001b[38;5;241m.\u001b[39msearch(\u001b[38;5;124mr\u001b[39m\u001b[38;5;124m\"\u001b[39m\u001b[38;5;124mAction\u001b[39m\u001b[38;5;124m\\\u001b[39m\u001b[38;5;124ms*\u001b[39m\u001b[38;5;124m\\\u001b[39m\u001b[38;5;124md*\u001b[39m\u001b[38;5;124m\\\u001b[39m\u001b[38;5;124ms*:[\u001b[39m\u001b[38;5;124m\\\u001b[39m\u001b[38;5;124ms]*(.*?)\u001b[39m\u001b[38;5;124m\"\u001b[39m, text, re\u001b[38;5;241m.\u001b[39mDOTALL):\n\u001b[1;32m---> 75\u001b[0m     \u001b[38;5;28;01mraise\u001b[39;00m OutputParserException(\n\u001b[0;32m     76\u001b[0m         \u001b[38;5;124mf\u001b[39m\u001b[38;5;124m\"\u001b[39m\u001b[38;5;124mCould not parse LLM output: `\u001b[39m\u001b[38;5;132;01m{\u001b[39;00mtext\u001b[38;5;132;01m}\u001b[39;00m\u001b[38;5;124m`\u001b[39m\u001b[38;5;124m\"\u001b[39m,\n\u001b[0;32m     77\u001b[0m         observation\u001b[38;5;241m=\u001b[39mMISSING_ACTION_AFTER_THOUGHT_ERROR_MESSAGE,\n\u001b[0;32m     78\u001b[0m         llm_output\u001b[38;5;241m=\u001b[39mtext,\n\u001b[0;32m     79\u001b[0m         send_to_llm\u001b[38;5;241m=\u001b[39m\u001b[38;5;28;01mTrue\u001b[39;00m,\n\u001b[0;32m     80\u001b[0m     )\n\u001b[0;32m     81\u001b[0m \u001b[38;5;28;01melif\u001b[39;00m \u001b[38;5;129;01mnot\u001b[39;00m re\u001b[38;5;241m.\u001b[39msearch(\n\u001b[0;32m     82\u001b[0m     \u001b[38;5;124mr\u001b[39m\u001b[38;5;124m\"\u001b[39m\u001b[38;5;124m[\u001b[39m\u001b[38;5;124m\\\u001b[39m\u001b[38;5;124ms]*Action\u001b[39m\u001b[38;5;124m\\\u001b[39m\u001b[38;5;124ms*\u001b[39m\u001b[38;5;124m\\\u001b[39m\u001b[38;5;124md*\u001b[39m\u001b[38;5;124m\\\u001b[39m\u001b[38;5;124ms*Input\u001b[39m\u001b[38;5;124m\\\u001b[39m\u001b[38;5;124ms*\u001b[39m\u001b[38;5;124m\\\u001b[39m\u001b[38;5;124md*\u001b[39m\u001b[38;5;124m\\\u001b[39m\u001b[38;5;124ms*:[\u001b[39m\u001b[38;5;124m\\\u001b[39m\u001b[38;5;124ms]*(.*)\u001b[39m\u001b[38;5;124m\"\u001b[39m, text, re\u001b[38;5;241m.\u001b[39mDOTALL\n\u001b[0;32m     83\u001b[0m ):\n",
      "\u001b[1;31mOutputParserException\u001b[0m: Could not parse LLM output: `Thought : I now know the final answer\nFinal answer : Sachin Tendulkar's highest score is 248 not out. \n\n\n`\nFor troubleshooting, visit: https://python.langchain.com/docs/troubleshooting/errors/OUTPUT_PARSING_FAILURE ",
      "\nDuring handling of the above exception, another exception occurred:\n",
      "\u001b[1;31mValueError\u001b[0m                                Traceback (most recent call last)",
      "Cell \u001b[1;32mIn[180], line 1\u001b[0m\n\u001b[1;32m----> 1\u001b[0m \u001b[43magent_executor\u001b[49m\u001b[38;5;241;43m.\u001b[39;49m\u001b[43minvoke\u001b[49m\u001b[43m(\u001b[49m\u001b[43m{\u001b[49m\u001b[38;5;124;43m\"\u001b[39;49m\u001b[38;5;124;43minput\u001b[39;49m\u001b[38;5;124;43m\"\u001b[39;49m\u001b[43m:\u001b[49m\u001b[38;5;124;43m\"\u001b[39;49m\u001b[38;5;124;43mWho is the god of Cricket, and what is his highest score?\u001b[39;49m\u001b[38;5;124;43m\"\u001b[39;49m\u001b[43m}\u001b[49m\u001b[43m)\u001b[49m\n",
      "File \u001b[1;32me:\\LanggraphAgent\\venv\\lib\\site-packages\\langchain\\chains\\base.py:170\u001b[0m, in \u001b[0;36mChain.invoke\u001b[1;34m(self, input, config, **kwargs)\u001b[0m\n\u001b[0;32m    168\u001b[0m \u001b[38;5;28;01mexcept\u001b[39;00m \u001b[38;5;167;01mBaseException\u001b[39;00m \u001b[38;5;28;01mas\u001b[39;00m e:\n\u001b[0;32m    169\u001b[0m     run_manager\u001b[38;5;241m.\u001b[39mon_chain_error(e)\n\u001b[1;32m--> 170\u001b[0m     \u001b[38;5;28;01mraise\u001b[39;00m e\n\u001b[0;32m    171\u001b[0m run_manager\u001b[38;5;241m.\u001b[39mon_chain_end(outputs)\n\u001b[0;32m    173\u001b[0m \u001b[38;5;28;01mif\u001b[39;00m include_run_info:\n",
      "File \u001b[1;32me:\\LanggraphAgent\\venv\\lib\\site-packages\\langchain\\chains\\base.py:160\u001b[0m, in \u001b[0;36mChain.invoke\u001b[1;34m(self, input, config, **kwargs)\u001b[0m\n\u001b[0;32m    157\u001b[0m \u001b[38;5;28;01mtry\u001b[39;00m:\n\u001b[0;32m    158\u001b[0m     \u001b[38;5;28mself\u001b[39m\u001b[38;5;241m.\u001b[39m_validate_inputs(inputs)\n\u001b[0;32m    159\u001b[0m     outputs \u001b[38;5;241m=\u001b[39m (\n\u001b[1;32m--> 160\u001b[0m         \u001b[38;5;28;43mself\u001b[39;49m\u001b[38;5;241;43m.\u001b[39;49m\u001b[43m_call\u001b[49m\u001b[43m(\u001b[49m\u001b[43minputs\u001b[49m\u001b[43m,\u001b[49m\u001b[43m \u001b[49m\u001b[43mrun_manager\u001b[49m\u001b[38;5;241;43m=\u001b[39;49m\u001b[43mrun_manager\u001b[49m\u001b[43m)\u001b[49m\n\u001b[0;32m    161\u001b[0m         \u001b[38;5;28;01mif\u001b[39;00m new_arg_supported\n\u001b[0;32m    162\u001b[0m         \u001b[38;5;28;01melse\u001b[39;00m \u001b[38;5;28mself\u001b[39m\u001b[38;5;241m.\u001b[39m_call(inputs)\n\u001b[0;32m    163\u001b[0m     )\n\u001b[0;32m    165\u001b[0m     final_outputs: Dict[\u001b[38;5;28mstr\u001b[39m, Any] \u001b[38;5;241m=\u001b[39m \u001b[38;5;28mself\u001b[39m\u001b[38;5;241m.\u001b[39mprep_outputs(\n\u001b[0;32m    166\u001b[0m         inputs, outputs, return_only_outputs\n\u001b[0;32m    167\u001b[0m     )\n\u001b[0;32m    168\u001b[0m \u001b[38;5;28;01mexcept\u001b[39;00m \u001b[38;5;167;01mBaseException\u001b[39;00m \u001b[38;5;28;01mas\u001b[39;00m e:\n",
      "File \u001b[1;32me:\\LanggraphAgent\\venv\\lib\\site-packages\\langchain\\agents\\agent.py:1624\u001b[0m, in \u001b[0;36mAgentExecutor._call\u001b[1;34m(self, inputs, run_manager)\u001b[0m\n\u001b[0;32m   1622\u001b[0m \u001b[38;5;66;03m# We now enter the agent loop (until it returns something).\u001b[39;00m\n\u001b[0;32m   1623\u001b[0m \u001b[38;5;28;01mwhile\u001b[39;00m \u001b[38;5;28mself\u001b[39m\u001b[38;5;241m.\u001b[39m_should_continue(iterations, time_elapsed):\n\u001b[1;32m-> 1624\u001b[0m     next_step_output \u001b[38;5;241m=\u001b[39m \u001b[38;5;28;43mself\u001b[39;49m\u001b[38;5;241;43m.\u001b[39;49m\u001b[43m_take_next_step\u001b[49m\u001b[43m(\u001b[49m\n\u001b[0;32m   1625\u001b[0m \u001b[43m        \u001b[49m\u001b[43mname_to_tool_map\u001b[49m\u001b[43m,\u001b[49m\n\u001b[0;32m   1626\u001b[0m \u001b[43m        \u001b[49m\u001b[43mcolor_mapping\u001b[49m\u001b[43m,\u001b[49m\n\u001b[0;32m   1627\u001b[0m \u001b[43m        \u001b[49m\u001b[43minputs\u001b[49m\u001b[43m,\u001b[49m\n\u001b[0;32m   1628\u001b[0m \u001b[43m        \u001b[49m\u001b[43mintermediate_steps\u001b[49m\u001b[43m,\u001b[49m\n\u001b[0;32m   1629\u001b[0m \u001b[43m        \u001b[49m\u001b[43mrun_manager\u001b[49m\u001b[38;5;241;43m=\u001b[39;49m\u001b[43mrun_manager\u001b[49m\u001b[43m,\u001b[49m\n\u001b[0;32m   1630\u001b[0m \u001b[43m    \u001b[49m\u001b[43m)\u001b[49m\n\u001b[0;32m   1631\u001b[0m     \u001b[38;5;28;01mif\u001b[39;00m \u001b[38;5;28misinstance\u001b[39m(next_step_output, AgentFinish):\n\u001b[0;32m   1632\u001b[0m         \u001b[38;5;28;01mreturn\u001b[39;00m \u001b[38;5;28mself\u001b[39m\u001b[38;5;241m.\u001b[39m_return(\n\u001b[0;32m   1633\u001b[0m             next_step_output, intermediate_steps, run_manager\u001b[38;5;241m=\u001b[39mrun_manager\n\u001b[0;32m   1634\u001b[0m         )\n",
      "File \u001b[1;32me:\\LanggraphAgent\\venv\\lib\\site-packages\\langchain\\agents\\agent.py:1330\u001b[0m, in \u001b[0;36mAgentExecutor._take_next_step\u001b[1;34m(self, name_to_tool_map, color_mapping, inputs, intermediate_steps, run_manager)\u001b[0m\n\u001b[0;32m   1321\u001b[0m \u001b[38;5;28;01mdef\u001b[39;00m\u001b[38;5;250m \u001b[39m\u001b[38;5;21m_take_next_step\u001b[39m(\n\u001b[0;32m   1322\u001b[0m     \u001b[38;5;28mself\u001b[39m,\n\u001b[0;32m   1323\u001b[0m     name_to_tool_map: Dict[\u001b[38;5;28mstr\u001b[39m, BaseTool],\n\u001b[1;32m   (...)\u001b[0m\n\u001b[0;32m   1327\u001b[0m     run_manager: Optional[CallbackManagerForChainRun] \u001b[38;5;241m=\u001b[39m \u001b[38;5;28;01mNone\u001b[39;00m,\n\u001b[0;32m   1328\u001b[0m ) \u001b[38;5;241m-\u001b[39m\u001b[38;5;241m>\u001b[39m Union[AgentFinish, List[Tuple[AgentAction, \u001b[38;5;28mstr\u001b[39m]]]:\n\u001b[0;32m   1329\u001b[0m     \u001b[38;5;28;01mreturn\u001b[39;00m \u001b[38;5;28mself\u001b[39m\u001b[38;5;241m.\u001b[39m_consume_next_step(\n\u001b[1;32m-> 1330\u001b[0m         [\n\u001b[0;32m   1331\u001b[0m             a\n\u001b[0;32m   1332\u001b[0m             \u001b[38;5;28;01mfor\u001b[39;00m a \u001b[38;5;129;01min\u001b[39;00m \u001b[38;5;28mself\u001b[39m\u001b[38;5;241m.\u001b[39m_iter_next_step(\n\u001b[0;32m   1333\u001b[0m                 name_to_tool_map,\n\u001b[0;32m   1334\u001b[0m                 color_mapping,\n\u001b[0;32m   1335\u001b[0m                 inputs,\n\u001b[0;32m   1336\u001b[0m                 intermediate_steps,\n\u001b[0;32m   1337\u001b[0m                 run_manager,\n\u001b[0;32m   1338\u001b[0m             )\n\u001b[0;32m   1339\u001b[0m         ]\n\u001b[0;32m   1340\u001b[0m     )\n",
      "File \u001b[1;32me:\\LanggraphAgent\\venv\\lib\\site-packages\\langchain\\agents\\agent.py:1330\u001b[0m, in \u001b[0;36m<listcomp>\u001b[1;34m(.0)\u001b[0m\n\u001b[0;32m   1321\u001b[0m \u001b[38;5;28;01mdef\u001b[39;00m\u001b[38;5;250m \u001b[39m\u001b[38;5;21m_take_next_step\u001b[39m(\n\u001b[0;32m   1322\u001b[0m     \u001b[38;5;28mself\u001b[39m,\n\u001b[0;32m   1323\u001b[0m     name_to_tool_map: Dict[\u001b[38;5;28mstr\u001b[39m, BaseTool],\n\u001b[1;32m   (...)\u001b[0m\n\u001b[0;32m   1327\u001b[0m     run_manager: Optional[CallbackManagerForChainRun] \u001b[38;5;241m=\u001b[39m \u001b[38;5;28;01mNone\u001b[39;00m,\n\u001b[0;32m   1328\u001b[0m ) \u001b[38;5;241m-\u001b[39m\u001b[38;5;241m>\u001b[39m Union[AgentFinish, List[Tuple[AgentAction, \u001b[38;5;28mstr\u001b[39m]]]:\n\u001b[0;32m   1329\u001b[0m     \u001b[38;5;28;01mreturn\u001b[39;00m \u001b[38;5;28mself\u001b[39m\u001b[38;5;241m.\u001b[39m_consume_next_step(\n\u001b[1;32m-> 1330\u001b[0m         [\n\u001b[0;32m   1331\u001b[0m             a\n\u001b[0;32m   1332\u001b[0m             \u001b[38;5;28;01mfor\u001b[39;00m a \u001b[38;5;129;01min\u001b[39;00m \u001b[38;5;28mself\u001b[39m\u001b[38;5;241m.\u001b[39m_iter_next_step(\n\u001b[0;32m   1333\u001b[0m                 name_to_tool_map,\n\u001b[0;32m   1334\u001b[0m                 color_mapping,\n\u001b[0;32m   1335\u001b[0m                 inputs,\n\u001b[0;32m   1336\u001b[0m                 intermediate_steps,\n\u001b[0;32m   1337\u001b[0m                 run_manager,\n\u001b[0;32m   1338\u001b[0m             )\n\u001b[0;32m   1339\u001b[0m         ]\n\u001b[0;32m   1340\u001b[0m     )\n",
      "File \u001b[1;32me:\\LanggraphAgent\\venv\\lib\\site-packages\\langchain\\agents\\agent.py:1369\u001b[0m, in \u001b[0;36mAgentExecutor._iter_next_step\u001b[1;34m(self, name_to_tool_map, color_mapping, inputs, intermediate_steps, run_manager)\u001b[0m\n\u001b[0;32m   1367\u001b[0m     raise_error \u001b[38;5;241m=\u001b[39m \u001b[38;5;28;01mFalse\u001b[39;00m\n\u001b[0;32m   1368\u001b[0m \u001b[38;5;28;01mif\u001b[39;00m raise_error:\n\u001b[1;32m-> 1369\u001b[0m     \u001b[38;5;28;01mraise\u001b[39;00m \u001b[38;5;167;01mValueError\u001b[39;00m(\n\u001b[0;32m   1370\u001b[0m         \u001b[38;5;124m\"\u001b[39m\u001b[38;5;124mAn output parsing error occurred. \u001b[39m\u001b[38;5;124m\"\u001b[39m\n\u001b[0;32m   1371\u001b[0m         \u001b[38;5;124m\"\u001b[39m\u001b[38;5;124mIn order to pass this error back to the agent and have it try \u001b[39m\u001b[38;5;124m\"\u001b[39m\n\u001b[0;32m   1372\u001b[0m         \u001b[38;5;124m\"\u001b[39m\u001b[38;5;124magain, pass `handle_parsing_errors=True` to the AgentExecutor. \u001b[39m\u001b[38;5;124m\"\u001b[39m\n\u001b[0;32m   1373\u001b[0m         \u001b[38;5;124mf\u001b[39m\u001b[38;5;124m\"\u001b[39m\u001b[38;5;124mThis is the error: \u001b[39m\u001b[38;5;132;01m{\u001b[39;00m\u001b[38;5;28mstr\u001b[39m(e)\u001b[38;5;132;01m}\u001b[39;00m\u001b[38;5;124m\"\u001b[39m\n\u001b[0;32m   1374\u001b[0m     )\n\u001b[0;32m   1375\u001b[0m text \u001b[38;5;241m=\u001b[39m \u001b[38;5;28mstr\u001b[39m(e)\n\u001b[0;32m   1376\u001b[0m \u001b[38;5;28;01mif\u001b[39;00m \u001b[38;5;28misinstance\u001b[39m(\u001b[38;5;28mself\u001b[39m\u001b[38;5;241m.\u001b[39mhandle_parsing_errors, \u001b[38;5;28mbool\u001b[39m):\n",
      "\u001b[1;31mValueError\u001b[0m: An output parsing error occurred. In order to pass this error back to the agent and have it try again, pass `handle_parsing_errors=True` to the AgentExecutor. This is the error: Could not parse LLM output: `Thought : I now know the final answer\nFinal answer : Sachin Tendulkar's highest score is 248 not out. \n\n\n`\nFor troubleshooting, visit: https://python.langchain.com/docs/troubleshooting/errors/OUTPUT_PARSING_FAILURE "
     ]
    }
   ],
   "source": [
    "agent_executor.invoke({\"input\":\"Who is the god of Cricket, and what is his highest score?\"})"
   ]
  },
  {
   "cell_type": "markdown",
   "id": "f8245778",
   "metadata": {},
   "source": [
    "# Self-Ask with Search Agent\n",
    "### Definition:\n",
    "* This approach allows the AI to ask itself follow-up questions when it doesn't immediately know the answer. It performs a recursive questioning process to break down complex quesries into smaller, more manageable ones.\n",
    "* Once the AI generates these follow-up questions, it performs an external search(e.g throgh Google or an internal database) to gather the necessary information before formulating a response.\n",
    "\n",
    "### How it works:\n",
    "* Step 1 : Receive a complex question\n",
    "* Step 2 : The agent identifies sub-questions or follow-up questions.\n",
    "* Step 3 : It performs a search or fetches answers to these questions from external resources.\n",
    "* Step 4 : The answer are aggregated to provide a complete response.\n",
    "\n",
    "### Key Points : \n",
    "* Emphasize question decomposition.\n",
    "* Relies on external search for sub-questions.\n",
    "* Useful for answering open-ended or broad questions where the answer is not immediately available.\n",
    "\n",
    "### Example : \n",
    "* Original question : \"How many moons does Jupiter have?\"\n",
    "* Sub-Question : \"What is Jupiter?\"\n",
    "* Sub-question : \"What are moons\"(search)\"\n",
    "* Finally, it retrieves the answer: \"Jupiter has 79 moons.\""
   ]
  },
  {
   "cell_type": "code",
   "execution_count": null,
   "id": "3934e181",
   "metadata": {},
   "outputs": [],
   "source": [
    "from langchain_google_genai import GoogleGenerativeAIEmbeddings\n",
    "embeddings = GoogleGenerativeAIEmbeddings(model = \"models/embedding-001\")\n",
    "from langchain_google_genai import ChatGoogleGenerativeAI\n",
    "llm = ChatGroq(model=\"Gemma2-9b-It\", temperature=0.0, max_tokens=2000)"
   ]
  },
  {
   "cell_type": "code",
   "execution_count": null,
   "id": "ebab5ecb",
   "metadata": {},
   "outputs": [],
   "source": [
    "from langchain import hub\n",
    "from langchain.agents import AgentExecutor, create_self_ask_with_search_agent\n",
    "from langchain_community.tools.tavily_search import TavilyAnswer"
   ]
  },
  {
   "cell_type": "code",
   "execution_count": null,
   "id": "9ab5b9ff",
   "metadata": {},
   "outputs": [],
   "source": [
    "tools = [\n",
    "    Tool(\n",
    "        name=\"Intermediate Answer\",\n",
    "        func = google_search.run,\n",
    "        description=\"useful for when you need to ask with search\",\n",
    "        verbose=True\n",
    "    )\n",
    "]"
   ]
  },
  {
   "cell_type": "code",
   "execution_count": null,
   "id": "cf6a2d26",
   "metadata": {},
   "outputs": [],
   "source": [
    "# Get the prompt touse - can be modified\n",
    "prompt = hub.pull(\"hwchase17/self-ask-with-search\")"
   ]
  },
  {
   "cell_type": "code",
   "execution_count": null,
   "id": "a8f1b3be",
   "metadata": {},
   "outputs": [
    {
     "name": "stdout",
     "output_type": "stream",
     "text": [
      "Question: Who lived longer, Muhammad Ali or Alan Turing?\n",
      "Are follow up questions needed here: Yes.\n",
      "Follow up: How old was Muhammad Ali when he died?\n",
      "Intermediate answer: Muhammad Ali was 74 years old when he died.\n",
      "Follow up: How old was Alan Turing when he died?\n",
      "Intermediate answer: Alan Turing was 41 years old when he died.\n",
      "So the final answer is: Muhammad Ali\n",
      "\n",
      "Question: When was the founder of craigslist born?\n",
      "Are follow up questions needed here: Yes.\n",
      "Follow up: Who was the founder of craigslist?\n",
      "Intermediate answer: Craigslist was founded by Craig Newmark.\n",
      "Follow up: When was Craig Newmark born?\n",
      "Intermediate answer: Craig Newmark was born on December 6, 1952.\n",
      "So the final answer is: December 6, 1952\n",
      "\n",
      "Question: Who was the maternal grandfather of George Washington?\n",
      "Are follow up questions needed here: Yes.\n",
      "Follow up: Who was the mother of George Washington?\n",
      "Intermediate answer: The mother of George Washington was Mary Ball Washington.\n",
      "Follow up: Who was the father of Mary Ball Washington?\n",
      "Intermediate answer: The father of Mary Ball Washington was Joseph Ball.\n",
      "So the final answer is: Joseph Ball\n",
      "\n",
      "Question: Are both the directors of Jaws and Casino Royale from the same country?\n",
      "Are follow up questions needed here: Yes.\n",
      "Follow up: Who is the director of Jaws?\n",
      "Intermediate answer: The director of Jaws is Steven Spielberg.\n",
      "Follow up: Where is Steven Spielberg from?\n",
      "Intermediate answer: The United States.\n",
      "Follow up: Who is the director of Casino Royale?\n",
      "Intermediate answer: The director of Casino Royale is Martin Campbell.\n",
      "Follow up: Where is Martin Campbell from?\n",
      "Intermediate answer: New Zealand.\n",
      "So the final answer is: No\n",
      "\n",
      "Question: {input}\n",
      "Are followup questions needed here:{agent_scratchpad}\n"
     ]
    }
   ],
   "source": [
    "print(prompt.template)"
   ]
  },
  {
   "cell_type": "code",
   "execution_count": null,
   "id": "8d4956f1",
   "metadata": {},
   "outputs": [],
   "source": [
    "# Construct the Self Ask with Search Agent\n",
    "agent = create_self_ask_with_search_agent(llm,tools,prompt)"
   ]
  },
  {
   "cell_type": "code",
   "execution_count": null,
   "id": "a4150af8",
   "metadata": {},
   "outputs": [],
   "source": [
    "# Create an agent executor by passing in the agent and tools\n",
    "agent_executor = AgentExecutor(agent=agent,tools=tools, verbose=True,handle_parsing_errors=True)"
   ]
  },
  {
   "cell_type": "code",
   "execution_count": null,
   "id": "062f8655",
   "metadata": {},
   "outputs": [],
   "source": [
    "agent_executor.invoke({\"input\":\"Where is the hometown of current prime minister of India?\"})"
   ]
  },
  {
   "cell_type": "code",
   "execution_count": null,
   "id": "c8464d4b",
   "metadata": {},
   "outputs": [],
   "source": []
  }
 ],
 "metadata": {
  "kernelspec": {
   "display_name": "Python 3",
   "language": "python",
   "name": "python3"
  },
  "language_info": {
   "codemirror_mode": {
    "name": "ipython",
    "version": 3
   },
   "file_extension": ".py",
   "mimetype": "text/x-python",
   "name": "python",
   "nbconvert_exporter": "python",
   "pygments_lexer": "ipython3",
   "version": "3.10.0"
  }
 },
 "nbformat": 4,
 "nbformat_minor": 5
}
