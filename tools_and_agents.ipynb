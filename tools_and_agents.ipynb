{
 "cells": [
  {
   "cell_type": "code",
   "execution_count": 1,
   "id": "023535f5",
   "metadata": {},
   "outputs": [
    {
     "data": {
      "text/plain": [
       "True"
      ]
     },
     "execution_count": 1,
     "metadata": {},
     "output_type": "execute_result"
    }
   ],
   "source": [
    "import os\n",
    "from dotenv import load_dotenv\n",
    "load_dotenv()"
   ]
  },
  {
   "cell_type": "code",
   "execution_count": 2,
   "id": "a5c87d0d",
   "metadata": {},
   "outputs": [
    {
     "name": "stderr",
     "output_type": "stream",
     "text": [
      "e:\\LanggraphAgent\\venv\\lib\\site-packages\\tqdm\\auto.py:21: TqdmWarning: IProgress not found. Please update jupyter and ipywidgets. See https://ipywidgets.readthedocs.io/en/stable/user_install.html\n",
      "  from .autonotebook import tqdm as notebook_tqdm\n",
      "e:\\LanggraphAgent\\venv\\lib\\site-packages\\huggingface_hub\\file_download.py:144: UserWarning: `huggingface_hub` cache-system uses symlinks by default to efficiently store duplicated files but your machine does not support them in C:\\Users\\Len\\.cache\\huggingface\\hub\\models--sentence-transformers--all-MiniLM-L6-v2. Caching files will still work but in a degraded version that might require more space on your disk. This warning can be disabled by setting the `HF_HUB_DISABLE_SYMLINKS_WARNING` environment variable. For more details, see https://huggingface.co/docs/huggingface_hub/how-to-cache#limitations.\n",
      "To support symlinks on Windows, you either need to activate Developer Mode or to run Python as an administrator. In order to activate developer mode, see this article: https://docs.microsoft.com/en-us/windows/apps/get-started/enable-your-device-for-development\n",
      "  warnings.warn(message)\n",
      "Xet Storage is enabled for this repo, but the 'hf_xet' package is not installed. Falling back to regular HTTP download. For better performance, install the package with: `pip install huggingface_hub[hf_xet]` or `pip install hf_xet`\n"
     ]
    }
   ],
   "source": [
    "from langchain_huggingface import HuggingFaceEmbeddings\n",
    "embeddings = HuggingFaceEmbeddings(model_name = \"all-MiniLM-L6-v2\")"
   ]
  },
  {
   "cell_type": "code",
   "execution_count": 3,
   "id": "61ebf2f8",
   "metadata": {},
   "outputs": [],
   "source": [
    "from langchain_groq import ChatGroq\n",
    "llm = ChatGroq(model=\"Gemma2-9b-It\", temperature=0.0, max_tokens=1000)"
   ]
  },
  {
   "cell_type": "markdown",
   "id": "14de6a7f",
   "metadata": {},
   "source": [
    "# Predefine Tools"
   ]
  },
  {
   "cell_type": "code",
   "execution_count": 18,
   "id": "2426ef81",
   "metadata": {},
   "outputs": [
    {
     "name": "stdout",
     "output_type": "stream",
     "text": [
      "Page: LangChain\n",
      "Summary: LangChain is a software framework that helps facilitate the integration of large language models (LLMs) into applications. As a language model integration framework, LangChain's use-cases largely overlap with those of language models in general, including document analysis and summarization, chatbots, and code analysis.\n",
      "\n",
      "Page: Model Context Protocol\n",
      "Summary: The Model Context Protocol (MCP) is an open standard developed by the artificial intelligence company Anthropic for enabling large language model (LLM) applications to interact with external tools, systems, and data sources. Designed to standardize context exchange between AI assistants and software environments, MCP provides a model-agnostic interface for reading files, executing functions, and handling contextual prompts. It was officially announced and open-sourced by Anthropic in November 2024, with subsequent adoption by major AI providers including OpenAI and Google DeepMind.\n",
      "\n",
      "Page: Retrieval-augmented generation\n",
      "Summary: Retrieval-augmented generation (RAG) is a technique that enables generative artificial intelligence (Gen AI) models to retrieve and incorporate new information. It modifies interactions with a large language model (LLM) so that the model responds to user queries with reference to a specified set of documents, using this information to supplement information from its pre-existing training data. This allows LLMs to use domain-specific and/or updated information. Use cases include providing chatbot access to internal company data or generating responses based on authoritative sources.\n",
      "RAG improves large language models (LLMs) by incorporating information retrieval before generating responses. Unlike traditional LLMs that rely on static training data, RAG pulls relevant text from databases, uploaded documents, or web sources. According to Ars Technica, \"RAG is a way of improving LLM performance, in essence by blending the LLM process with a web search or other document look-up process to help LLMs stick to the facts.\" This method helps reduce AI hallucinations, which have led to real-world issues like chatbots inventing policies or lawyers citing nonexistent legal cases.\n",
      "By dynamically retrieving information, RAG enables AI to provide more accurate responses without frequent retraining. According to IBM, \"RAG also reduces the need for users to continuously train the model on new data and update its parameters as circumstances evolve. In this way, RAG can lower the computational and financial costs of running LLM-powered chatbots in an enterprise setting.\"\n",
      "Beyond efficiency gains, RAG also allows LLMs to include source references in their responses, enabling users to verify information by reviewing cited documents or original sources. This can provide greater transparency, as users can cross-check retrieved content to ensure accuracy and relevance.\n",
      "The term \"retrieval-augmented generation\" (RAG) was first introduced in 2020 by Douwe Kiela, Patrick Lewis, Ethan Perez, Aleksandra Piktus, Fabio Petroni, Vladimir Karpukhin, Naman Goyal, Heinrich Küttler, Mike Lewis, Wen-tau Yih, Tim Rocktäschel, and Sebastian Riedel in their research paper Retrieval-Augmented Generation for Knowledge-Intensive NLP Tasks, at Meta.\n",
      "\n",
      "\n",
      "['https://www.youtube.com/watch?v=qZ9n4V9lZkE&pp=ygUGVW5SYWFo', 'https://www.youtube.com/watch?v=yUu9qHvC4ko&pp=ygUGVW5SYWFo']\n"
     ]
    }
   ],
   "source": [
    "from langchain_community.tools import WikipediaQueryRun, YouTubeSearchTool\n",
    "from langchain_community.utilities import WikipediaAPIWrapper\n",
    "api_wrapper = WikipediaAPIWrapper()\n",
    "tool = WikipediaQueryRun(api_wrapper=api_wrapper)\n",
    "print(tool.run({\"query\":\"langchain\"}))\n",
    "tool2 = YouTubeSearchTool(api_wrapper=api_wrapper)\n",
    "print(tool2.run(\"UnRaah\"))"
   ]
  },
  {
   "cell_type": "code",
   "execution_count": 17,
   "id": "a6d10885",
   "metadata": {},
   "outputs": [
    {
     "name": "stdout",
     "output_type": "stream",
     "text": [
      "The White House, official residence of the president of the United States. The president of the United States is the head of state and head of government of the United States, [1] indirectly elected to a four-year term via the Electoral College. [2] Under the U.S. Constitution, the officeholder leads the executive branch of the federal government and is the commander-in-chief of the United ... Obama's father, Barack Obama, Sr., was a teenage goatherd in rural Kenya, won a scholarship to study in the United States, and eventually became a senior economist in the Kenyan government.Obama's mother, S. Ann Dunham, grew up in Kansas, Texas, and Washington state before her family settled in Honolulu.In 1960 she and Barack Sr. met in a Russian language class at the University of Hawaii ... The Irish Sun, It's a fake Barack Obama's brother posts forged document he claims is ex-president's 'Kenyan birth certificate,' March 11, 2017 Salon, Orly Taitz is at it again , Sept. 4, 2009 The first president of the United States was George Washington, starting in 1789. Franklin Roosevelt was the only president elected for more than two terms. ... Barack Obama: Joseph Biden: Democratic: 2009-2017: Donald Trump: Mike Pence: Republican: 2017-2021: Joseph Biden: Kamala Harris: Democratic: 2021- Obama's Last Name refers to a misconception held by certain individuals that former United States president Barack Obama's first name is Obama and not Barack. Starting in mid-2019, memes speculating on what Obama's last name could be and imagining it being a well-guarded secret gained significant popularity in meme communities. Origin\n"
     ]
    }
   ],
   "source": [
    "from langchain_community.tools import DuckDuckGoSearchRun\n",
    "\n",
    "search = DuckDuckGoSearchRun(backend='news')\n",
    "\n",
    "print(search.invoke(\"Obama's first name?\"))"
   ]
  },
  {
   "cell_type": "code",
   "execution_count": 22,
   "id": "9c4b6c7b",
   "metadata": {},
   "outputs": [
    {
     "name": "stdout",
     "output_type": "stream",
     "text": [
      "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\n"
     ]
    }
   ],
   "source": [
    "load_dotenv()\n",
    "TAVILY_API_KEY = os.getenv(\"TAVILY_API_KEY\")\n",
    "print(TAVILY_API_KEY)"
   ]
  },
  {
   "cell_type": "code",
   "execution_count": 29,
   "id": "15c91673",
   "metadata": {},
   "outputs": [
    {
     "data": {
      "text/plain": [
       "[{'title': 'Umrah - YouTube',\n",
       "  'url': 'https://www.youtube.com/watch?v=X9UqJ5bcMBI',\n",
       "  'content': 'Provided to YouTube by DistroKid Umrah · Lux-Inspira Ramadan Story ℗ Lux-Inspira Music Released on: 2022-03-25 Auto-generated by YouTube.',\n",
       "  'score': 0.36602354},\n",
       " {'title': 'How To Make a Music YouTube Channel - Track Club',\n",
       "  'url': 'https://www.trackclub.com/resources/resources-how-to-make-music-youtube-channel',\n",
       "  'content': \"Consider creating a reel that shows clips from live performances, in-depth interviews, performer information, or shows off some of your original singles. The key with your new YouTube channel is to set yourself apart from other musicians, so think about what you are going to display that helps your YouTube content to stand out.\\n\\n3. Connect Your MusicYouTube Channel to Your Website and/or Music Downloads [...] Video content is one of the primary ways that musicians can reach their audience. YouTube is a primary method for new and independent artists to be visible and gain more \\xa0 Perhaps you've dabbled with shorter videos over social media. Developing a YouTube account can be so easy!\\n\\nThis handy guide will walk you through all of the types of YouTube channels you can start. Here are all of the steps to take to make your YouTube account and market it to your target audience. [...] Once you've decided on the type of video content you want to share with your subscribers, now you can develop your official artist channel. Here is a guide that walks you through the simple steps and making your first video:\\n\\n1. Set Up Your YouTube Channel\\n\\nThe first steps when creating your channel are:\",\n",
       "  'score': 0.11247352},\n",
       " {'title': '\"Simple Gifts\" Field Music Show with the Hellcats | West Point Band',\n",
       "  'url': 'https://www.youtube.com/watch?v=3HR43IL35Os&pp=ygULI2dpZnRzcG9pbnQ%3D',\n",
       "  'content': \"Noah Taylor West Point Concert Band with the West Point Band's Field Music ... channel here: https://www.youtube.co... Event information and\",\n",
       "  'score': 0.07375645},\n",
       " {'title': '1,100+ Best Music Youtube Channel Names [2025] - Starter Story',\n",
       "  'url': 'https://www.starterstory.com/music-youtube-channel-names',\n",
       "  'content': 'Learn more about starting a music youtube channel:\\n\\nWhere to start?\\n\\n-> Pros and cons of a music youtube channel\\n\\nNeed inspiration?\\n\\n-> Other music youtube channel success stories\\n-> Marketing ideas for a music youtube channel\\n\\nOther resources\\n\\n\\n\\nFunny Music Youtube Channel Names\\n\\nCool music youtube channel name ideas\\n\\nUnique music youtube channel name ideas\\n\\nCute music youtube channel name ideas\\n\\nClever music youtube channel name ideas\\n\\nBest music youtube channel name ideas [...] Download the report and join our email newsletter packed with business ideas and money-making opportunities, backed by real-life case studies.\\n\\nDownload the report and join our email newsletter packed with business ideas and money-making opportunities, backed by real-life case studies.\\n\\nDownload the report and join our email newsletter packed with business ideas and money-making opportunities, backed by real-life case studies. [...] Download the report and join our email newsletter packed with business ideas and money-making opportunities, backed by real-life case studies.\\n\\nDownload the report and join our email newsletter packed with business ideas and money-making opportunities, backed by real-life case studies.\\n\\nDownload the report and join our email newsletter packed with business ideas and money-making opportunities, backed by real-life case studies.',\n",
       "  'score': 0.07351662}]"
      ]
     },
     "execution_count": 29,
     "metadata": {},
     "output_type": "execute_result"
    }
   ],
   "source": [
    "from langchain_community.tools.tavily_search import TavilySearchResults\n",
    "tool = TavilySearchResults()\n",
    "tool.invoke({\"query\":\"UnRaah Music band youtube channel\"})"
   ]
  },
  {
   "cell_type": "markdown",
   "id": "b184c2b5",
   "metadata": {},
   "source": [
    "# Create a Custom Tool\n"
   ]
  },
  {
   "cell_type": "code",
   "execution_count": 30,
   "id": "843f7018",
   "metadata": {},
   "outputs": [],
   "source": [
    "from langchain.agents import tool\n",
    "@tool\n",
    "def get_word_length(word: str) -> int:\n",
    "    \"\"\"Returns the length of a word.\"\"\"\n",
    "    return len(word)"
   ]
  },
  {
   "cell_type": "code",
   "execution_count": 36,
   "id": "4d087795",
   "metadata": {},
   "outputs": [
    {
     "name": "stdout",
     "output_type": "stream",
     "text": [
      "get_word_length\n",
      "Returns the length of a word.\n",
      "{'word': {'title': 'Word', 'type': 'string'}}\n"
     ]
    }
   ],
   "source": [
    "print(get_word_length.name)\n",
    "print(get_word_length.description)\n",
    "print(get_word_length.args)"
   ]
  },
  {
   "cell_type": "code",
   "execution_count": 38,
   "id": "277ed775",
   "metadata": {},
   "outputs": [
    {
     "data": {
      "text/plain": [
       "5"
      ]
     },
     "execution_count": 38,
     "metadata": {},
     "output_type": "execute_result"
    }
   ],
   "source": [
    "get_word_length.invoke({\"word\":\"Hello\"})"
   ]
  },
  {
   "cell_type": "code",
   "execution_count": 34,
   "id": "8978f320",
   "metadata": {},
   "outputs": [],
   "source": [
    "@tool\n",
    "def multiply(a: int, b:int) -> int:\n",
    "    \"\"\"Multiply two numbers\"\"\"\n",
    "    return a*b"
   ]
  },
  {
   "cell_type": "code",
   "execution_count": 35,
   "id": "8e6e137b",
   "metadata": {},
   "outputs": [
    {
     "name": "stdout",
     "output_type": "stream",
     "text": [
      "multiply\n",
      "Multiply two numbers\n",
      "{'a': {'title': 'A', 'type': 'integer'}, 'b': {'title': 'B', 'type': 'integer'}}\n"
     ]
    }
   ],
   "source": [
    "print(multiply.name)\n",
    "print(multiply.description)\n",
    "print(multiply.args)"
   ]
  },
  {
   "cell_type": "code",
   "execution_count": 37,
   "id": "e2c0153f",
   "metadata": {},
   "outputs": [
    {
     "data": {
      "text/plain": [
       "400"
      ]
     },
     "execution_count": 37,
     "metadata": {},
     "output_type": "execute_result"
    }
   ],
   "source": [
    "multiply.invoke({\"a\":10,\"b\":40})"
   ]
  },
  {
   "cell_type": "markdown",
   "id": "89edce04",
   "metadata": {},
   "source": [
    "## Concept of Agents\n",
    "\n",
    "## This Agent class from the first version of LangChain (Legacy)"
   ]
  },
  {
   "cell_type": "code",
   "execution_count": 40,
   "id": "f93ebc8c",
   "metadata": {},
   "outputs": [],
   "source": [
    "from langchain.agents import AgentType\n",
    "from langchain.agents import load_tools\n",
    "from langchain.agents import initialize_agent"
   ]
  },
  {
   "cell_type": "code",
   "execution_count": 41,
   "id": "e8c2f99d",
   "metadata": {},
   "outputs": [],
   "source": [
    "llm = ChatGroq(model=\"Gemma2-9b-It\", temperature=0.0, max_tokens=1000)"
   ]
  },
  {
   "cell_type": "code",
   "execution_count": 42,
   "id": "45672fdd",
   "metadata": {},
   "outputs": [],
   "source": [
    "tool = load_tools([\"wikipedia\"],llm=llm)"
   ]
  },
  {
   "cell_type": "code",
   "execution_count": 45,
   "id": "b0aa8db3",
   "metadata": {},
   "outputs": [],
   "source": [
    "from langchain_community.tools.tavily_search import TavilySearchResults\n",
    "tool2 = TavilySearchResults()\n",
    "# tool.invoke({\"query\":\"UnRaah Music band youtube channel\"})"
   ]
  },
  {
   "cell_type": "code",
   "execution_count": 55,
   "id": "eb3066d5",
   "metadata": {},
   "outputs": [],
   "source": [
    "agent = initialize_agent(tool,llm=llm,agent = AgentType.ZERO_SHOT_REACT_DESCRIPTION,verbose=True)"
   ]
  },
  {
   "cell_type": "code",
   "execution_count": 50,
   "id": "30214d62",
   "metadata": {},
   "outputs": [
    {
     "name": "stdout",
     "output_type": "stream",
     "text": [
      "\n",
      "\n",
      "\u001b[1m> Entering new AgentExecutor chain...\u001b[0m\n",
      "\u001b[32;1m\u001b[1;3mThought: I need to look up the current GDP of India.\n",
      "Action: wikipedia\n",
      "Action Input: GDP of India\u001b[0m\n",
      "Observation: \u001b[36;1m\u001b[1;3mPage: Economy of India\n",
      "Summary: The economy of India is a developing mixed economy with a notable public sector in strategic sectors. It is the world's fifth-largest economy by nominal GDP and the third-largest by purchasing power parity (PPP); on a per capita income basis, India ranked 140th by GDP (nominal) and 119th by GDP (PPP). From independence in 1947 until 1991, successive governments followed the Soviet model and promoted protectionist economic policies, with extensive Sovietization, state intervention, demand-side economics, natural resources, bureaucrat-driven enterprises and economic regulation. This is characterised as dirigism, in the form of the Licence Raj. The end of the Cold War and an acute balance of payments crisis in 1991 led to the adoption of a broad economic liberalisation in India and indicative planning. India has about 1,900 public sector companies, with the Indian state having complete control and ownership of railways and highways. The Indian government has major control over banking, insurance, farming, fertilizers and chemicals, airports,  essential utilities. The state also exerts substantial control over digitalization,  telecommunication, supercomputing, space, port and shipping industries, which were effectively nationalised in the mid-1950s but has seen the emergence of key corporate players.\n",
      "Nearly 70% of India's GDP is driven by domestic consumption; the country remains the world's fourth-largest consumer market. Aside private consumption, India's GDP is also fueled by government spending, investments, and exports. In 2022, India was the world's 10th-largest importer and the 8th-largest exporter. India has been a member of the World Trade Organization since 1 January 1995. It ranks 63rd on the ease of doing business index and 40th on the Global Competitiveness Index. India has one of the world's highest number of billionaires along with extreme income inequality. Economists and social scientists often consider India a welfare state. India is officially declared a socialist state as per the constitution. India's overall social welfare spending stood at 8.6% of GDP in 2021-22, which is much lower than the average for OECD nations. With 586 million workers, the Indian labour force is the world's second-largest. Despite having one of the longest working hours, India has one of the lowest workforce productivity levels in the world. Economists say that due to structural economic problems, India is experiencing jobless economic growth.\n",
      "During the Great Recession, the economy faced a mild slowdown. India endorsed Keynesian policy and initiated stimulus measures (both fiscal and monetary) to boost growth and generate demand. In subsequent years, economic growth revived.\n",
      "In 2021–22, the foreign direct investment (FDI) in India was $82 billion. The leading sectors for FDI inflows were the Finance, Banking, Insurance and R&D. India has free trade agreements with several nations and blocs, including ASEAN, SAFTA, Mercosur, South Korea, Japan, Australia, the United Arab Emirates, and several others which are in effect or under negotiating stage. In recent years, independent economists and financial institutions have accused the government of manipulating various economic data, especially GDP growth rate.\n",
      "The service sector makes up more than 50% of GDP and remains the fastest growing sector, while the industrial sector and the agricultural sector employs a majority of the labor force. The Bombay Stock Exchange and National Stock Exchange are some of the world's largest stock exchanges by market capitalisation. India is the world's sixth-largest manufacturer, representing 2.6% of global manufacturing output. Nearly 65% of India's population is rural, and contributes about 50% of India's GDP. India faces high unemployment, rising income inequality, and a drop in aggregate demand. According to the World Bank, 93% of India's population lived on less than $10 per day, and 99% lived on less than $20 per day \u001b[0m\n",
      "Thought:\u001b[32;1m\u001b[1;3mThought: I need to find the specific GDP number mentioned on the page.\n",
      "Action: wikipedia\n",
      "Action Input: GDP of India\u001b[0m\n",
      "Observation: \u001b[36;1m\u001b[1;3mPage: Economy of India\n",
      "Summary: The economy of India is a developing mixed economy with a notable public sector in strategic sectors. It is the world's fifth-largest economy by nominal GDP and the third-largest by purchasing power parity (PPP); on a per capita income basis, India ranked 140th by GDP (nominal) and 119th by GDP (PPP). From independence in 1947 until 1991, successive governments followed the Soviet model and promoted protectionist economic policies, with extensive Sovietization, state intervention, demand-side economics, natural resources, bureaucrat-driven enterprises and economic regulation. This is characterised as dirigism, in the form of the Licence Raj. The end of the Cold War and an acute balance of payments crisis in 1991 led to the adoption of a broad economic liberalisation in India and indicative planning. India has about 1,900 public sector companies, with the Indian state having complete control and ownership of railways and highways. The Indian government has major control over banking, insurance, farming, fertilizers and chemicals, airports,  essential utilities. The state also exerts substantial control over digitalization,  telecommunication, supercomputing, space, port and shipping industries, which were effectively nationalised in the mid-1950s but has seen the emergence of key corporate players.\n",
      "Nearly 70% of India's GDP is driven by domestic consumption; the country remains the world's fourth-largest consumer market. Aside private consumption, India's GDP is also fueled by government spending, investments, and exports. In 2022, India was the world's 10th-largest importer and the 8th-largest exporter. India has been a member of the World Trade Organization since 1 January 1995. It ranks 63rd on the ease of doing business index and 40th on the Global Competitiveness Index. India has one of the world's highest number of billionaires along with extreme income inequality. Economists and social scientists often consider India a welfare state. India is officially declared a socialist state as per the constitution. India's overall social welfare spending stood at 8.6% of GDP in 2021-22, which is much lower than the average for OECD nations. With 586 million workers, the Indian labour force is the world's second-largest. Despite having one of the longest working hours, India has one of the lowest workforce productivity levels in the world. Economists say that due to structural economic problems, India is experiencing jobless economic growth.\n",
      "During the Great Recession, the economy faced a mild slowdown. India endorsed Keynesian policy and initiated stimulus measures (both fiscal and monetary) to boost growth and generate demand. In subsequent years, economic growth revived.\n",
      "In 2021–22, the foreign direct investment (FDI) in India was $82 billion. The leading sectors for FDI inflows were the Finance, Banking, Insurance and R&D. India has free trade agreements with several nations and blocs, including ASEAN, SAFTA, Mercosur, South Korea, Japan, Australia, the United Arab Emirates, and several others which are in effect or under negotiating stage. In recent years, independent economists and financial institutions have accused the government of manipulating various economic data, especially GDP growth rate.\n",
      "The service sector makes up more than 50% of GDP and remains the fastest growing sector, while the industrial sector and the agricultural sector employs a majority of the labor force. The Bombay Stock Exchange and National Stock Exchange are some of the world's largest stock exchanges by market capitalisation. India is the world's sixth-largest manufacturer, representing 2.6% of global manufacturing output. Nearly 65% of India's population is rural, and contributes about 50% of India's GDP. India faces high unemployment, rising income inequality, and a drop in aggregate demand. According to the World Bank, 93% of India's population lived on less than $10 per day, and 99% lived on less than $20 per day \u001b[0m\n",
      "Thought:\u001b[32;1m\u001b[1;3mThought: I need to find the specific GDP number mentioned on the page.\n",
      "Action: wikipedia\n",
      "Action Input: GDP of India\u001b[0m\n",
      "Observation: \u001b[36;1m\u001b[1;3mPage: Economy of India\n",
      "Summary: The economy of India is a developing mixed economy with a notable public sector in strategic sectors. It is the world's fifth-largest economy by nominal GDP and the third-largest by purchasing power parity (PPP); on a per capita income basis, India ranked 140th by GDP (nominal) and 119th by GDP (PPP). From independence in 1947 until 1991, successive governments followed the Soviet model and promoted protectionist economic policies, with extensive Sovietization, state intervention, demand-side economics, natural resources, bureaucrat-driven enterprises and economic regulation. This is characterised as dirigism, in the form of the Licence Raj. The end of the Cold War and an acute balance of payments crisis in 1991 led to the adoption of a broad economic liberalisation in India and indicative planning. India has about 1,900 public sector companies, with the Indian state having complete control and ownership of railways and highways. The Indian government has major control over banking, insurance, farming, fertilizers and chemicals, airports,  essential utilities. The state also exerts substantial control over digitalization,  telecommunication, supercomputing, space, port and shipping industries, which were effectively nationalised in the mid-1950s but has seen the emergence of key corporate players.\n",
      "Nearly 70% of India's GDP is driven by domestic consumption; the country remains the world's fourth-largest consumer market. Aside private consumption, India's GDP is also fueled by government spending, investments, and exports. In 2022, India was the world's 10th-largest importer and the 8th-largest exporter. India has been a member of the World Trade Organization since 1 January 1995. It ranks 63rd on the ease of doing business index and 40th on the Global Competitiveness Index. India has one of the world's highest number of billionaires along with extreme income inequality. Economists and social scientists often consider India a welfare state. India is officially declared a socialist state as per the constitution. India's overall social welfare spending stood at 8.6% of GDP in 2021-22, which is much lower than the average for OECD nations. With 586 million workers, the Indian labour force is the world's second-largest. Despite having one of the longest working hours, India has one of the lowest workforce productivity levels in the world. Economists say that due to structural economic problems, India is experiencing jobless economic growth.\n",
      "During the Great Recession, the economy faced a mild slowdown. India endorsed Keynesian policy and initiated stimulus measures (both fiscal and monetary) to boost growth and generate demand. In subsequent years, economic growth revived.\n",
      "In 2021–22, the foreign direct investment (FDI) in India was $82 billion. The leading sectors for FDI inflows were the Finance, Banking, Insurance and R&D. India has free trade agreements with several nations and blocs, including ASEAN, SAFTA, Mercosur, South Korea, Japan, Australia, the United Arab Emirates, and several others which are in effect or under negotiating stage. In recent years, independent economists and financial institutions have accused the government of manipulating various economic data, especially GDP growth rate.\n",
      "The service sector makes up more than 50% of GDP and remains the fastest growing sector, while the industrial sector and the agricultural sector employs a majority of the labor force. The Bombay Stock Exchange and National Stock Exchange are some of the world's largest stock exchanges by market capitalisation. India is the world's sixth-largest manufacturer, representing 2.6% of global manufacturing output. Nearly 65% of India's population is rural, and contributes about 50% of India's GDP. India faces high unemployment, rising income inequality, and a drop in aggregate demand. According to the World Bank, 93% of India's population lived on less than $10 per day, and 99% lived on less than $20 per day \u001b[0m\n",
      "Thought:\u001b[32;1m\u001b[1;3mThought: I found the GDP number.\n",
      "Final Answer: India's GDP is the world's fifth-largest by nominal GDP. \n",
      "\n",
      "\n",
      "\u001b[0m\n",
      "\n",
      "\u001b[1m> Finished chain.\u001b[0m\n"
     ]
    },
    {
     "data": {
      "text/plain": [
       "\"India's GDP is the world's fifth-largest by nominal GDP.\""
      ]
     },
     "execution_count": 50,
     "metadata": {},
     "output_type": "execute_result"
    }
   ],
   "source": [
    "agent.run(\"What is current GDP of India?\")"
   ]
  },
  {
   "cell_type": "markdown",
   "id": "75afd591",
   "metadata": {},
   "source": [
    "Above is a use case of a deprecated agent initialization class (legacy class) , Below we'll be using different latest agent types initialization"
   ]
  },
  {
   "cell_type": "code",
   "execution_count": 80,
   "id": "80f089f0",
   "metadata": {},
   "outputs": [],
   "source": [
    "from langchain_community.tools.tavily_search import TavilySearchResults\n",
    "search = TavilySearchResults()"
   ]
  },
  {
   "cell_type": "code",
   "execution_count": 83,
   "id": "79621995",
   "metadata": {},
   "outputs": [],
   "source": [
    "tools = [search]"
   ]
  },
  {
   "cell_type": "code",
   "execution_count": 81,
   "id": "eda1c2c4",
   "metadata": {},
   "outputs": [],
   "source": [
    "# Get the prompt to use - you can modify this!\n",
    "from langchain import hub\n",
    "prompt = hub.pull(\"hwchase17/openai-functions-agent\") \n",
    "# prompt.messages"
   ]
  },
  {
   "cell_type": "markdown",
   "id": "1971a543",
   "metadata": {},
   "source": [
    "** agent_scratchpad :** The agent does not call a tool just once to get the desired answer, but has a structure that calls tools repetedly until the desired answer is obtained. Ecah time you call a tool, what the previous call was like, information about the rpevious call, and the result are stored int his field.\n",
    "\n",
    "How it decides , when it got a desired answer ?\n",
    "\n",
    "=> • Final Answer Marker: The prompt template is designed so that when the LLM deems that it has enough context and information, it produces an output that begins with or contains a clear marker like “Final Answer: …”. This is the signal to the agent framework that the iterative process should stop and the produced output can be used as the answer. \n",
    "\n",
    "• Implicit Confidence and Context: There aren’t explicit numeric parameters (like thresholds or scores) that determine when to stop; the LLM decides based on the cumulative reasoning. It “knows” from the context of the conversation (including previous tool results) that additional tool calls are not necessary. \n",
    "\n",
    "• Prompt Instructions and Formatting: The behavior is largely influenced by the prompt’s design: the instructions that detail when to call tools and when to provide the final answer. In essence, the final decision is a result of the LLM’s interpretation of these instructions together with the current conversation context. \n",
    "\n",
    "• Decoding Settings: Although not a direct “parameter” for deciding the answer, settings such as temperature, top-k, and other decoding parameters can indirectly affect how the LLM generates its chain-of-thought and whether it decides that it has satisfactorily answered the question (or if it needs to call another tool)"
   ]
  },
  {
   "cell_type": "code",
   "execution_count": 78,
   "id": "97eba02e",
   "metadata": {},
   "outputs": [],
   "source": [
    "from langchain_groq import ChatGroq\n",
    "llm = ChatGroq(model=\"Gemma2-9b-It\", temperature=0.0, max_tokens=1000)"
   ]
  },
  {
   "cell_type": "code",
   "execution_count": 84,
   "id": "c4f286be",
   "metadata": {},
   "outputs": [],
   "source": [
    "from langchain.agents import create_tool_calling_agent\n",
    "agent = create_tool_calling_agent(llm, tools, prompt=prompt)"
   ]
  },
  {
   "cell_type": "code",
   "execution_count": 85,
   "id": "1ea80846",
   "metadata": {},
   "outputs": [],
   "source": [
    "from langchain.agents import AgentExecutor\n",
    "agent_executor = AgentExecutor(agent=agent, tools=tools, verbose=True)"
   ]
  },
  {
   "cell_type": "code",
   "execution_count": 91,
   "id": "25023640",
   "metadata": {},
   "outputs": [
    {
     "name": "stdout",
     "output_type": "stream",
     "text": [
      "\n",
      "\n",
      "\u001b[1m> Entering new AgentExecutor chain...\u001b[0m\n",
      "\u001b[32;1m\u001b[1;3m\n",
      "Invoking: `tavily_search_results_json` with `{'query': 'How are you?'}`\n",
      "\n",
      "\n",
      "\u001b[0m\u001b[36;1m\u001b[1;3m[{'title': \"6 ways to answer 'How are you?' when you're absolutely not 'fine'\", 'url': 'https://www.cnbc.com/2025/04/11/things-to-say-when-someone-asks-how-are-you-and-youre-absolutely-not-fine.html', 'content': 'And the next time you default to asking someone else, “How are you?” stop yourself and try a different question instead, like “What’s been on your mind lately?” or even “How are you, really?”\\nStephanie Harrison\\xa0is the founder of\\xa0The New Happy, an organization advancing a new philosophy of happiness. She is an expert in happiness, speaker, designer, and author of the book ”New Happy:\\xa0Getting Happiness Right in a World That’s Got It Wrong.” Follow her on\\xa0Instagram,\\xa0TikTok\\xa0and\\xa0LinkedIn. [...] Each of us has the power to help — one honest response to “How are you?” at a time. Here are a few ways to get started.\\n1. ‘Hey, thanks for asking. How am I? Hmm. Right now, I’m feeling…’\\nIf surface acting has become second nature to you, try this useful technique to process the question and consider your answer out loud. It will derail your instinct to immediately respond with, “I’m fine! And you?” and help you practice going inward to identify what you’re truly feeling. [...] What we need to get through these times is social support. But in order to receive it, we have to stop “surface acting,” or feeling pressured to put on a happy face. It’s why we answer “How are you?” with an immediate “Fine!” even when we’re not really fine at all.', 'score': 0.7837407}, {'title': '9 Ways to Ask “How Are You?” - Grammarly', 'url': 'https://www.grammarly.com/blog/writing-tips/how-are-you/', 'content': 'Grammarly helps you communicate confidently\\nWrite with Grammarly\\n9 ways to ask “How are you?”\\nThere are many ways to ask this fundamental question, but how you phrase it can imply different things. For example:\\n1 How are you? This is polite, but it’s not necessarily a serious inquiry about the other person’s well-being.\\n2 How are you doing? This is a direct inquiry about how a person is feeling in general. [...] 3 Are you OK? The meaning of this phrase depends on the context. In England, for example, this simply means “How are you?” while Americans may use this phrase to check if someone requires assistance.\\n4 How’s it going? This is casual. You’re asking how a person’s life has been lately, in a more general sense.\\n5 What’s up? This is essentially a casual hello. [...] Conversely, if you’re emailing or messaging your manager who just got back from parental leave, something slightly more formal and targeted might make more sense, like “How are you doing with the new baby?” That way you show interest in their major life event while keeping things professional.\\nHere are a few more examples of how to use “How are you?” and its alternatives in conversation:', 'score': 0.7429634}, {'title': '[Greeting] How are you? - Exciting song - Sing along - YouTube', 'url': 'https://www.youtube.com/watch?v=59FTQnfMbIE', 'content': \"★ Subscribe to us on YouTube: http://goo.gl/gDa963\\n★ More of Our Songs: https://goo.gl/ByGXT2\\n\\n\\n--- Title: How are you? ---\\n\\nGood morning. Good morning. \\nGood morning. How are you? \\nI'm fine. I'm fine. I'm fine.\\nThank you.\\n\\nGood afternoon. Good afternoon. \\nGood afternoon. How are you? \\nI'm not good. I'm not good. I'm not good. \\nOh, no.\\n\\nGood evening. Good evening. \\nGood evening. How are you? \\nI'm great. I'm great. I'm great.\\nThank you.\", 'score': 0.73914057}, {'title': 'How Are You? | Emotions Song | Wormhole Learning - Songs For Kids', 'url': 'https://www.youtube.com/watch?v=O13gITUS5t4', 'content': \"Hi, Judy. How are you?\\n Hi, Judy. How are you?\\n I am happy!\\n Yes, I am happy!\\n \\n Hi, Bobby. How are you?\\n Hi, Bobby. How are you?\\n I am sad. \\n Yes, I am sad.\\n \\nOh, don't be sad, Bobby!\\n\\n Hi, Judy. How are you?\\n Hi, Judy. How are you?\\n I am angry! \\n Yes, I am angry!\\n \\nHumph!\\n\\n Hi, Bobby. How are you?\\n Hi, Bobby. How are you?\\n I am hungry! \\n Yes, I am hungry!\\n \\nHere, Bobby. Have my ice cream.\\nThank you! Now I am full. [...] Hi, children. How are you?\\n Hi, children. How are you?\\n I'm happy!   \\n I'm sad! \\n I'm angry!   \\n I'm hungry! \\n I'm happy!   \\n I'm sad! \\n I'm angry!   \\n I'm hungry! \\n\\n[All music by Alfred Henshaw-Hill, © Copyright Wormhole Learning, 2022] \\n 0 comments [...] If you want more original content, find us on:\\n★ Instagram: https://www.instagram.com/wormhole_learning/ \\n★Twitter: https://twitter.com/Jacky_Wormhole \\n\\nHi children, Teacher Sally here. How are you today? Tell me about your emotions. I am very excited because I can dance with you and show you this brand new greetings song!\\n\\n\\nLYRICS\\nHi, Judy. How are you?\\nI am happy! Let's sing a song!\", 'score': 0.73778254}, {'title': 'How To Answer the Question “How Are You?” | Indeed.com', 'url': 'https://www.indeed.com/career-advice/career-development/how-are-you-response', 'content': 'How To Answer the Question “How Are You?” · Good: “Good” is the most common answer to the question “How are you?” It is polite and cheerful.', 'score': 0.72605723}]\u001b[0m\u001b[32;1m\u001b[1;3m\n",
      "Invoking: `tavily_search_results_json` with `{'query': 'How are you?'}`\n",
      "\n",
      "\n",
      "\u001b[0m\u001b[36;1m\u001b[1;3m[{'title': \"6 ways to answer 'How are you?' when you're absolutely not 'fine'\", 'url': 'https://www.cnbc.com/2025/04/11/things-to-say-when-someone-asks-how-are-you-and-youre-absolutely-not-fine.html', 'content': 'And the next time you default to asking someone else, “How are you?” stop yourself and try a different question instead, like “What’s been on your mind lately?” or even “How are you, really?”\\nStephanie Harrison\\xa0is the founder of\\xa0The New Happy, an organization advancing a new philosophy of happiness. She is an expert in happiness, speaker, designer, and author of the book ”New Happy:\\xa0Getting Happiness Right in a World That’s Got It Wrong.” Follow her on\\xa0Instagram,\\xa0TikTok\\xa0and\\xa0LinkedIn. [...] Each of us has the power to help — one honest response to “How are you?” at a time. Here are a few ways to get started.\\n1. ‘Hey, thanks for asking. How am I? Hmm. Right now, I’m feeling…’\\nIf surface acting has become second nature to you, try this useful technique to process the question and consider your answer out loud. It will derail your instinct to immediately respond with, “I’m fine! And you?” and help you practice going inward to identify what you’re truly feeling. [...] What we need to get through these times is social support. But in order to receive it, we have to stop “surface acting,” or feeling pressured to put on a happy face. It’s why we answer “How are you?” with an immediate “Fine!” even when we’re not really fine at all.', 'score': 0.7837407}, {'title': '9 Ways to Ask “How Are You?” - Grammarly', 'url': 'https://www.grammarly.com/blog/writing-tips/how-are-you/', 'content': 'Grammarly helps you communicate confidently\\nWrite with Grammarly\\n9 ways to ask “How are you?”\\nThere are many ways to ask this fundamental question, but how you phrase it can imply different things. For example:\\n1 How are you? This is polite, but it’s not necessarily a serious inquiry about the other person’s well-being.\\n2 How are you doing? This is a direct inquiry about how a person is feeling in general. [...] 3 Are you OK? The meaning of this phrase depends on the context. In England, for example, this simply means “How are you?” while Americans may use this phrase to check if someone requires assistance.\\n4 How’s it going? This is casual. You’re asking how a person’s life has been lately, in a more general sense.\\n5 What’s up? This is essentially a casual hello. [...] Conversely, if you’re emailing or messaging your manager who just got back from parental leave, something slightly more formal and targeted might make more sense, like “How are you doing with the new baby?” That way you show interest in their major life event while keeping things professional.\\nHere are a few more examples of how to use “How are you?” and its alternatives in conversation:', 'score': 0.7429634}, {'title': '[Greeting] How are you? - Exciting song - Sing along - YouTube', 'url': 'https://www.youtube.com/watch?v=59FTQnfMbIE', 'content': \"★ Subscribe to us on YouTube: http://goo.gl/gDa963\\n★ More of Our Songs: https://goo.gl/ByGXT2\\n\\n\\n--- Title: How are you? ---\\n\\nGood morning. Good morning. \\nGood morning. How are you? \\nI'm fine. I'm fine. I'm fine.\\nThank you.\\n\\nGood afternoon. Good afternoon. \\nGood afternoon. How are you? \\nI'm not good. I'm not good. I'm not good. \\nOh, no.\\n\\nGood evening. Good evening. \\nGood evening. How are you? \\nI'm great. I'm great. I'm great.\\nThank you.\", 'score': 0.73914057}, {'title': 'How Are You? | Emotions Song | Wormhole Learning - Songs For Kids', 'url': 'https://www.youtube.com/watch?v=O13gITUS5t4', 'content': \"Hi, Judy. How are you?\\n Hi, Judy. How are you?\\n I am happy!\\n Yes, I am happy!\\n \\n Hi, Bobby. How are you?\\n Hi, Bobby. How are you?\\n I am sad. \\n Yes, I am sad.\\n \\nOh, don't be sad, Bobby!\\n\\n Hi, Judy. How are you?\\n Hi, Judy. How are you?\\n I am angry! \\n Yes, I am angry!\\n \\nHumph!\\n\\n Hi, Bobby. How are you?\\n Hi, Bobby. How are you?\\n I am hungry! \\n Yes, I am hungry!\\n \\nHere, Bobby. Have my ice cream.\\nThank you! Now I am full. [...] Hi, children. How are you?\\n Hi, children. How are you?\\n I'm happy!   \\n I'm sad! \\n I'm angry!   \\n I'm hungry! \\n I'm happy!   \\n I'm sad! \\n I'm angry!   \\n I'm hungry! \\n\\n[All music by Alfred Henshaw-Hill, © Copyright Wormhole Learning, 2022] \\n 0 comments [...] If you want more original content, find us on:\\n★ Instagram: https://www.instagram.com/wormhole_learning/ \\n★Twitter: https://twitter.com/Jacky_Wormhole \\n\\nHi children, Teacher Sally here. How are you today? Tell me about your emotions. I am very excited because I can dance with you and show you this brand new greetings song!\\n\\n\\nLYRICS\\nHi, Judy. How are you?\\nI am happy! Let's sing a song!\", 'score': 0.73778254}, {'title': 'How To Answer the Question “How Are You?” | Indeed.com', 'url': 'https://www.indeed.com/career-advice/career-development/how-are-you-response', 'content': 'How To Answer the Question “How Are You?” · Good: “Good” is the most common answer to the question “How are you?” It is polite and cheerful.', 'score': 0.72605723}]\u001b[0m\u001b[32;1m\u001b[1;3mI am doing well, thank you for asking.\u001b[0m\n",
      "\n",
      "\u001b[1m> Finished chain.\u001b[0m\n"
     ]
    }
   ],
   "source": [
    "result = agent_executor.invoke({\"input\":\"Hello How are you?\"})"
   ]
  },
  {
   "cell_type": "code",
   "execution_count": 92,
   "id": "c968f3fa",
   "metadata": {},
   "outputs": [
    {
     "name": "stdout",
     "output_type": "stream",
     "text": [
      "I am doing well, thank you for asking.\n"
     ]
    }
   ],
   "source": [
    "print(result[\"output\"])"
   ]
  },
  {
   "cell_type": "code",
   "execution_count": 99,
   "id": "0795b2c0",
   "metadata": {},
   "outputs": [
    {
     "name": "stdout",
     "output_type": "stream",
     "text": [
      "\n",
      "\n",
      "\u001b[1m> Entering new AgentExecutor chain...\u001b[0m\n",
      "\u001b[32;1m\u001b[1;3m\n",
      "Invoking: `tavily_search_results_json` with `{'query': 'weather in America'}`\n",
      "\n",
      "\n",
      "\u001b[0m\u001b[36;1m\u001b[1;3m[{'title': 'Weather in United States', 'url': 'https://www.weatherapi.com/', 'content': \"{'location': {'name': 'United', 'region': 'Louisiana', 'country': 'United States of America', 'lat': 29.7797, 'lon': -91.7461, 'tz_id': 'America/Chicago', 'localtime_epoch': 1745221144, 'localtime': '2025-04-21 02:39'}, 'current': {'last_updated_epoch': 1745220600, 'last_updated': '2025-04-21 02:30', 'temp_c': 22.8, 'temp_f': 73.0, 'is_day': 0, 'condition': {'text': 'Overcast', 'icon': '//cdn.weatherapi.com/weather/64x64/night/122.png', 'code': 1009}, 'wind_mph': 6.3, 'wind_kph': 10.1, 'wind_degree': 136, 'wind_dir': 'SE', 'pressure_mb': 1017.0, 'pressure_in': 30.03, 'precip_mm': 0.0, 'precip_in': 0.0, 'humidity': 96, 'cloud': 100, 'feelslike_c': 25.2, 'feelslike_f': 77.3, 'windchill_c': 22.5, 'windchill_f': 72.5, 'heatindex_c': 24.9, 'heatindex_f': 76.9, 'dewpoint_c': 21.6, 'dewpoint_f': 70.8, 'vis_km': 11.0, 'vis_miles': 6.0, 'uv': 0.0, 'gust_mph': 12.0, 'gust_kph': 19.3}}\", 'score': 0.9866977}, {'title': 'United States weather forecast for Monday, 21 April 2025', 'url': 'https://www.weather25.com/north-america/usa?page=date&date=21-4', 'content': '| 27  57° /39° | 28  60° /41° | 29  60° /46° | 30  60° /46° | \\n| \\n| \\n|\\nClick on a day for an hourly weather forecast\\nCities in the United States\\nFor a more accurate weather forecast please select a city\\nAtlanta Austin Boston Chicago Dallas Las Vegas Los Angeles New York City Orlando Philadelphia\\nSee more locations\\nMore about the weather in the United States [...] | Sun | Mon | Tue | Wed | Thu | Fri | Sat |\\n| --- | --- | --- | --- | --- | --- | --- |\\n| \\n | \\n| 1  53° /39° | 2  48° /33° | 3  50° /35° | 4  51° /37° | 5  55° /39° |\\n| 6  59° /41° | 7  57° /41° | 8  59° /42° | 9  57° /41° | 10  55° /39° | 11  59° /41° | 12  60° /42° |\\n| 13  60° /46° | 14  69° /46° | 15  59° /46° | 16  57° /42° | 17  53° /37° | 18  50° /39° | 19  57° /37° |\\n| 20  60° /42° | 21  60° /39° | 22  57° /37° | 23  57° /37° | 24  59° /41° | 25  59° /39° | 26  59° /39° | [...] | Patchy heavy snow | 15 Miles |\\n| 2020 - April 21 | 51 ° / 37 ° | 0.42 in | \\n\\n| Moderate rain | 13 Miles |\\nWeather Calendar\\n\\nApril', 'score': 0.8872928}, {'title': 'Hawaii County Weather Forecast for April 21, 2025 - Big Island Now', 'url': 'https://bigislandnow.com/2025/04/20/hawaii-county-weather-forecast-for-april-21-2025/', 'content': 'Breaking News Alerts\\n\\nPress \"Allow\" to Activate\\n\\nPrivacy Policy | About Our Ads\\n\\nHawaii County Weather Forecast for April 21, 2025\\n\\n\\n\\nHilo\\n\\nTonight: Mostly cloudy with scattered showers in the evening, then partly cloudy with isolated showers after midnight. Lows 61 to 69 near the shore to 48 to 55 at 4000 feet. North winds up to 10 mph in the evening becoming light. Chance of rain 50 percent. [...] time. For rest of the state, scattered showers with some moderate rainfall totals will be possible with higher rainfall amounts around Oahu. By Friday, the upper level low should lift further north and away from the state which should bring the return of stable conditions, although trade winds may not return till later in the weekend. [...] time. For rest of the state, scattered showers with some moderate rainfall totals will be possible with higher rainfall amounts around Oahu. By Friday, the upper level low should lift further north and away from the state which should bring the return of stable conditions, although trade winds may not return till later in the weekend.', 'score': 0.846159}, {'title': 'Storm Prediction Center Apr 21, 2025 0600 UTC Day 1 Convective ...', 'url': 'https://www.spc.noaa.gov/products/outlook/day1otlk.html', 'content': '...Synopsis...\\n   A compact upper low currently moving into western Oklahoma will\\n   shift quickly northeastward this afternoon and tonight, crossing\\n   eastern Kansas and western Missouri this evening and then continuing\\n   northeastward across Iowa and into Wisconsin tonight.  Fast\\n   southwesterly flow aloft will exist in advance of this system,\\n   within the tight height gradient between this feature and the\\n   persistent ridge centered over the Southeast. [...] ...SUMMARY...\\n   Severe thunderstorms are expected today across parts of the ArkLaTex\\n   into the Ozarks and mid Mississippi Valley, mainly this afternoon\\n   and evening. The best corridor for tornadoes (some of which could be\\n   strong) and scattered to numerous damaging winds should exist from\\n   central/northern Arkansas into Missouri.', 'score': 0.8005209}]\u001b[0m\u001b[32;1m\u001b[1;3m\n",
      "Invoking: `tavily_search_results_json` with `{'query': 'weather in America'}`\n",
      "\n",
      "\n",
      "\u001b[0m\u001b[36;1m\u001b[1;3m[{'title': 'Weather in United States', 'url': 'https://www.weatherapi.com/', 'content': \"{'location': {'name': 'United', 'region': 'Louisiana', 'country': 'United States of America', 'lat': 29.7797, 'lon': -91.7461, 'tz_id': 'America/Chicago', 'localtime_epoch': 1745221144, 'localtime': '2025-04-21 02:39'}, 'current': {'last_updated_epoch': 1745220600, 'last_updated': '2025-04-21 02:30', 'temp_c': 22.8, 'temp_f': 73.0, 'is_day': 0, 'condition': {'text': 'Overcast', 'icon': '//cdn.weatherapi.com/weather/64x64/night/122.png', 'code': 1009}, 'wind_mph': 6.3, 'wind_kph': 10.1, 'wind_degree': 136, 'wind_dir': 'SE', 'pressure_mb': 1017.0, 'pressure_in': 30.03, 'precip_mm': 0.0, 'precip_in': 0.0, 'humidity': 96, 'cloud': 100, 'feelslike_c': 25.2, 'feelslike_f': 77.3, 'windchill_c': 22.5, 'windchill_f': 72.5, 'heatindex_c': 24.9, 'heatindex_f': 76.9, 'dewpoint_c': 21.6, 'dewpoint_f': 70.8, 'vis_km': 11.0, 'vis_miles': 6.0, 'uv': 0.0, 'gust_mph': 12.0, 'gust_kph': 19.3}}\", 'score': 0.9866977}, {'title': 'United States weather forecast for Monday, 21 April 2025', 'url': 'https://www.weather25.com/north-america/usa?page=date&date=21-4', 'content': '| 27  57° /39° | 28  60° /41° | 29  60° /46° | 30  60° /46° | \\n| \\n| \\n|\\nClick on a day for an hourly weather forecast\\nCities in the United States\\nFor a more accurate weather forecast please select a city\\nAtlanta Austin Boston Chicago Dallas Las Vegas Los Angeles New York City Orlando Philadelphia\\nSee more locations\\nMore about the weather in the United States [...] | Sun | Mon | Tue | Wed | Thu | Fri | Sat |\\n| --- | --- | --- | --- | --- | --- | --- |\\n| \\n | \\n| 1  53° /39° | 2  48° /33° | 3  50° /35° | 4  51° /37° | 5  55° /39° |\\n| 6  59° /41° | 7  57° /41° | 8  59° /42° | 9  57° /41° | 10  55° /39° | 11  59° /41° | 12  60° /42° |\\n| 13  60° /46° | 14  69° /46° | 15  59° /46° | 16  57° /42° | 17  53° /37° | 18  50° /39° | 19  57° /37° |\\n| 20  60° /42° | 21  60° /39° | 22  57° /37° | 23  57° /37° | 24  59° /41° | 25  59° /39° | 26  59° /39° | [...] | Patchy heavy snow | 15 Miles |\\n| 2020 - April 21 | 51 ° / 37 ° | 0.42 in | \\n\\n| Moderate rain | 13 Miles |\\nWeather Calendar\\n\\nApril', 'score': 0.8872928}, {'title': 'Hawaii County Weather Forecast for April 21, 2025 - Big Island Now', 'url': 'https://bigislandnow.com/2025/04/20/hawaii-county-weather-forecast-for-april-21-2025/', 'content': 'Breaking News Alerts\\n\\nPress \"Allow\" to Activate\\n\\nPrivacy Policy | About Our Ads\\n\\nHawaii County Weather Forecast for April 21, 2025\\n\\n\\n\\nHilo\\n\\nTonight: Mostly cloudy with scattered showers in the evening, then partly cloudy with isolated showers after midnight. Lows 61 to 69 near the shore to 48 to 55 at 4000 feet. North winds up to 10 mph in the evening becoming light. Chance of rain 50 percent. [...] time. For rest of the state, scattered showers with some moderate rainfall totals will be possible with higher rainfall amounts around Oahu. By Friday, the upper level low should lift further north and away from the state which should bring the return of stable conditions, although trade winds may not return till later in the weekend. [...] time. For rest of the state, scattered showers with some moderate rainfall totals will be possible with higher rainfall amounts around Oahu. By Friday, the upper level low should lift further north and away from the state which should bring the return of stable conditions, although trade winds may not return till later in the weekend.', 'score': 0.846159}, {'title': 'Storm Prediction Center Apr 21, 2025 0600 UTC Day 1 Convective ...', 'url': 'https://www.spc.noaa.gov/products/outlook/day1otlk.html', 'content': '...Synopsis...\\n   A compact upper low currently moving into western Oklahoma will\\n   shift quickly northeastward this afternoon and tonight, crossing\\n   eastern Kansas and western Missouri this evening and then continuing\\n   northeastward across Iowa and into Wisconsin tonight.  Fast\\n   southwesterly flow aloft will exist in advance of this system,\\n   within the tight height gradient between this feature and the\\n   persistent ridge centered over the Southeast. [...] ...SUMMARY...\\n   Severe thunderstorms are expected today across parts of the ArkLaTex\\n   into the Ozarks and mid Mississippi Valley, mainly this afternoon\\n   and evening. The best corridor for tornadoes (some of which could be\\n   strong) and scattered to numerous damaging winds should exist from\\n   central/northern Arkansas into Missouri.', 'score': 0.8005209}]\u001b[0m\u001b[32;1m\u001b[1;3mThe weather in the United States is currently overcast with a temperature of 22.8 degrees Celsius or 73 degrees Fahrenheit. \n",
      "\u001b[0m\n",
      "\n",
      "\u001b[1m> Finished chain.\u001b[0m\n"
     ]
    },
    {
     "data": {
      "text/plain": [
       "{'input': 'What is the current weather in America?',\n",
       " 'output': 'The weather in the United States is currently overcast with a temperature of 22.8 degrees Celsius or 73 degrees Fahrenheit. \\n'}"
      ]
     },
     "execution_count": 99,
     "metadata": {},
     "output_type": "execute_result"
    }
   ],
   "source": [
    "agent_executor.invoke({\"input\":\"What is the current weather in America?\"})"
   ]
  },
  {
   "cell_type": "code",
   "execution_count": null,
   "id": "cf3eaf7c",
   "metadata": {},
   "outputs": [],
   "source": []
  }
 ],
 "metadata": {
  "kernelspec": {
   "display_name": "Python 3",
   "language": "python",
   "name": "python3"
  },
  "language_info": {
   "codemirror_mode": {
    "name": "ipython",
    "version": 3
   },
   "file_extension": ".py",
   "mimetype": "text/x-python",
   "name": "python",
   "nbconvert_exporter": "python",
   "pygments_lexer": "ipython3",
   "version": "3.10.0"
  }
 },
 "nbformat": 4,
 "nbformat_minor": 5
}
